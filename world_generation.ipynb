{
 "cells": [
  {
   "cell_type": "code",
   "execution_count": 1,
   "metadata": {},
   "outputs": [],
   "source": [
    "%load_ext autoreload\n",
    "%autoreload"
   ]
  },
  {
   "cell_type": "markdown",
   "metadata": {},
   "source": [
    "Load the LLM"
   ]
  },
  {
   "cell_type": "code",
   "execution_count": 2,
   "metadata": {},
   "outputs": [
    {
     "name": "stdout",
     "output_type": "stream",
     "text": [
      "Loading model...\n"
     ]
    },
    {
     "name": "stderr",
     "output_type": "stream",
     "text": [
      "/Users/frieder/Documents/GitHub/procedural-stories/.venv/lib/python3.12/site-packages/tqdm/auto.py:21: TqdmWarning: IProgress not found. Please update jupyter and ipywidgets. See https://ipywidgets.readthedocs.io/en/stable/user_install.html\n",
      "  from .autonotebook import tqdm as notebook_tqdm\n",
      "Fetching 12 files: 100%|██████████| 12/12 [00:00<00:00, 32619.34it/s]\n"
     ]
    },
    {
     "name": "stdout",
     "output_type": "stream",
     "text": [
      "Model loaded.\n"
     ]
    }
   ],
   "source": [
    "from langchain_core.prompts import PromptTemplate\n",
    "from langchain_core.output_parsers import JsonOutputParser\n",
    "from langchain_community.llms.mlx_pipeline import MLXPipeline\n",
    "from langchain_community.chat_models.mlx import ChatMLX\n",
    "from langchain.callbacks.tracers import ConsoleCallbackHandler\n",
    "from langchain.globals import set_verbose\n",
    "from langchain.globals import set_debug\n",
    "\n",
    "#set_debug(True)\n",
    "#set_verbose(True)\n",
    "\n",
    "print('Loading model...')\n",
    "# Load model from huggingface, using the MLX framework to take advantage of Apple Silicon\n",
    "llm = MLXPipeline.from_model_id(\n",
    "    #\"mlx-community/Meta-Llama-3.1-8B-Instruct-8bit\",\n",
    "    #\"mlx-community/Meta-Llama-3.1-8B-Instruct-bf16\",\n",
    "    \"mlx-community/Qwen2.5-32B-Instruct-4bit\", # Let's try using a larger model, see if that improves results\n",
    "    #\"mlx-community/Llama-3.2-3B-Instruct-8bit\",\n",
    "    pipeline_kwargs={\"max_tokens\": 2048, \"temp\": 0.2, \"repetition_penalty\":1.2},\n",
    ")\n",
    "\n",
    "# Setup verbose mode: https://stackoverflow.com/a/77629872/10914628\n",
    "model = ChatMLX(llm=llm, verbose=True)#.with_config({'callbacks': [ConsoleCallbackHandler()]})\n",
    "print('Model loaded.')\n"
   ]
  },
  {
   "cell_type": "markdown",
   "metadata": {},
   "source": [
    "Load the ontology"
   ]
  },
  {
   "cell_type": "code",
   "execution_count": 3,
   "metadata": {},
   "outputs": [],
   "source": [
    "from owlready2 import *\n",
    "\n",
    "onto = get_ontology('file://story_ontology3.rdf').load()"
   ]
  },
  {
   "cell_type": "code",
   "execution_count": 4,
   "metadata": {},
   "outputs": [
    {
     "name": "stdout",
     "output_type": "stream",
     "text": [
      "OK\n"
     ]
    }
   ],
   "source": [
    "# Verify that there are no instances in the ontology (start with a clean ontology containg only the T-Box)\n",
    "\n",
    "with onto:\n",
    "    instances = list(Thing.instances())\n",
    "    \n",
    "    if len(instances) > 0:\n",
    "        for thing in instances:\n",
    "            print(thing)\n",
    "        raise ValueError('Ontology already contains individuals')\n",
    "    \n",
    "    print('OK')"
   ]
  },
  {
   "cell_type": "code",
   "execution_count": 5,
   "metadata": {},
   "outputs": [],
   "source": [
    "from urllib.parse import quote, unquote\n",
    "\n",
    "def encode_entity_name(name: str) -> str:\n",
    "    return quote(name.lower())\n",
    "\n",
    "def decode_entity_name(encoded_name: str) -> str:\n",
    "    return unquote(encoded_name)"
   ]
  },
  {
   "cell_type": "code",
   "execution_count": 6,
   "metadata": {},
   "outputs": [],
   "source": [
    "from Levenshtein import distance\n",
    "\n",
    "def find_levenshtein_match(string: str, entity_list: list, threshold: int = 5):\n",
    "    \"\"\"Find a match amongst a list of entities from the ontology, in case the LLM made slight typos !\"\"\"\n",
    "    minimum = threshold\n",
    "    closest_entity = None\n",
    "    for entity in entity_list:\n",
    "        dist = distance(string, entity.hasName)\n",
    "        if dist < minimum:\n",
    "            minimum = dist\n",
    "            closest_entity = entity\n",
    "    return closest_entity"
   ]
  },
  {
   "cell_type": "markdown",
   "metadata": {},
   "source": [
    "Define the setting of the story"
   ]
  },
  {
   "cell_type": "code",
   "execution_count": 7,
   "metadata": {},
   "outputs": [],
   "source": [
    "#setting = \"Normandie viking du 9e siècle\"\n",
    "setting = \"post-apocalypse zombie mondiale, 1 an après le début de l'épidémie\"\n",
    "language = \"french\""
   ]
  },
  {
   "cell_type": "markdown",
   "metadata": {},
   "source": [
    "# 1. Generate the outline of the story world"
   ]
  },
  {
   "cell_type": "code",
   "execution_count": 8,
   "metadata": {},
   "outputs": [],
   "source": [
    "OUTLINE_TEXT_PROMPT = \"\"\"\n",
    "You are the master writer tasked with creating a vibrant world specifically made to host a text adventure game for a player.\n",
    "Write a few paragraphs describing the world of the story following the given narrative setting:\n",
    "\n",
    "{{ setting }}\n",
    "\n",
    "Your text should be quite short, concise and descriptive.\n",
    "Your staff will use this text as the story world bible, they will write the characters, locations and specific events.\n",
    "You should direct them as precisely as possible to create as coherent and unified world for the player to explore.\n",
    "Define the player's role in this world, as well as a high level, open but concrete goal, conflict and motivations.\n",
    "Write your output in {{ language }}.\n",
    "\"\"\""
   ]
  },
  {
   "cell_type": "code",
   "execution_count": 9,
   "metadata": {},
   "outputs": [
    {
     "name": "stdout",
     "output_type": "stream",
     "text": [
      "Dans un monde post-apocalyptique envahi par les zombies, la Terre telle que nous la connaissions n'existe plus depuis maintenant un an. Les grandes villes sont des ruines fumantes où seuls les morts-vivants errent sans cesse à travers ce qui reste d'infrastructures délabrées et de bâtiments effondrés. La nature commence doucement mais sûrement son processus de reconquête sur ces terres abandonnées.\n",
      "\n",
      "Les survivants ont formé des communautés isolées pour résister aux hordes incessantes de créatures infectées. Ces dernières cherchent constamment du sang frais dans une quête éternelle de chair vivante. L'eau potable est rare, les ressources alimentaires encore moins abondantes ; chaque jour devient alors une lutte pour la survie face au danger omniprésent.\n",
      "\n",
      "Le joueur incarne un membre de cette communauté désespérée, chargé d'une mission cruciale : trouver une source stable de nourriture ou d’eau propre afin de permettre à sa tribu de tenir quelques jours supplémentaires contre cet environnement hostile. Chaque choix sera crucial car il pourrait bien être celui entre la vie et la mort non seulement pour lui-même, mais aussi pour tous ceux qui comptent sur lui. Le conflit principal réside donc dans la nécessité absolue de subsistance face à une menace continue et insatiable.\n"
     ]
    }
   ],
   "source": [
    "\n",
    "prompt = PromptTemplate(\n",
    "    template=OUTLINE_TEXT_PROMPT,\n",
    "    template_format='jinja2'\n",
    ")\n",
    "\n",
    "chain = prompt | model\n",
    "\n",
    "outline_text = chain.invoke({'setting': setting, 'language': language}).content\n",
    "\n",
    "print(outline_text)"
   ]
  },
  {
   "cell_type": "markdown",
   "metadata": {},
   "source": [
    "# 2. Generate locations"
   ]
  },
  {
   "cell_type": "code",
   "execution_count": 10,
   "metadata": {},
   "outputs": [],
   "source": [
    "LOCATIONS_GENERATION_PROMPT = \"\"\"\n",
    "You are the master world writer for an interactive fiction.\n",
    "On the basis of the given narrative context, create a list of locations in the world, which will be scenes in the IF.\n",
    "Define at least 4 to 5 main locations, as well as intermediate locations if pertinent.\n",
    "Your staff will use your work to refine each location, so you should make sure each location incoporates sufficient information for them to do so !\n",
    "You must take utmost care in creating a logical topology with no islands and coherent connections.\n",
    "Always refer to other locations using their \"name\" property in the links ! **You should define all locations mentioned in the links.**\n",
    "\n",
    "Output your work in the following JSON format:\n",
    "```json\n",
    "    \"Locations\": [\n",
    "        {\n",
    "            \"name\": \"Suchandsuch Town\",\n",
    "            \"importance\": \"Either 'major' or 'minor', this annotation will influence how your staff will detail the\"\n",
    "            \"description\": \"Description en quelques phrases du lieu, incorporant son atmosphère, son importance dans l'histoire et tout élément notable qui pourrait influencer les événements ou les personnages.\",\n",
    "            \"links\": [\"Chateau thing\"]\n",
    "        },\n",
    "        {\n",
    "            \"name\": \"Chateau thing\",\n",
    "            \"importance\": \"Either 'major' or 'minor', this annotation will influence how your staff will detail the\"\n",
    "            \"description\": \"Description en quelques phrases du lieu, incorporant son atmosphère, son importance dans l'histoire et tout élément notable qui pourrait influencer les événements ou les personnages.\",\n",
    "            \"links\": [\"Suchandsuch Town\", \"Nom d'un autre lieu\"]\n",
    "        },\n",
    "        ...\n",
    "    ],\n",
    "```\n",
    "\n",
    "Narrative context:\n",
    "{{ context }}\n",
    "\n",
    "Your output JSON values should always be in {{ language }}\n",
    "\"\"\""
   ]
  },
  {
   "cell_type": "code",
   "execution_count": 11,
   "metadata": {},
   "outputs": [
    {
     "data": {
      "text/plain": [
       "[{'name': 'Village des Survivants',\n",
       "  'importance': 'major',\n",
       "  'description': \"Ce village représente la dernière bastion de civilisation humaine dans cette région ravagée par les zombies. Protégé derrière des murs solides et surveillé nuit et jour, il sert de refuge sûr pour ses habitants. C'est ici que notre héros partira pour accomplir sa mission critique.\",\n",
       "  'links': ['Forêt Abandonnée', 'Ruine Urbaine']},\n",
       " {'name': 'Forêt Abandonnée',\n",
       "  'importance': 'minor',\n",
       "  'description': \"Une vaste étendue boisée qui était autrefois peuplée de faune variée avant l'épidémie zombie. Maintenant, elle offre un couvert idéal pour les survivants tentant de collecter des ressources essentielles comme l'eau fraîche et les fruits sauvages. Attention, certains secteurs peuvent contenir des groupes errants de zombies attirés par leur instinct animal.\",\n",
       "  'links': ['Village des Survivants', 'Lac Pollué', 'Mine Délaissée']},\n",
       " {'name': 'Ruine Urbaine',\n",
       "  'importance': 'major',\n",
       "  'description': 'Un ancien quartier urbain transformé en champ de bataille permanent contre les zombies. Des immeubles écroulés et des rues jonchées de cadavres offrent peu de protection mais beaucoup de risques. Pourtant, si on peut y pénétrer discrètement, cela pourrait fournir des provisions précieuses.',\n",
       "  'links': ['Village des Survivants', 'Centre Commercial Fantôme']},\n",
       " {'name': 'Lac Pollué',\n",
       "  'importance': 'minor',\n",
       "  'description': \"Cet endroit était autrefois un site touristique populaire. Aujourd'hui, il est contaminé et infesté de zombies aquatiques. Bien que dangereuse, cette zone pourrait potentiellement servir de point stratégique vers d'autres régions.\",\n",
       "  'links': ['Forêt Abandonnée', 'Campagne Inexplorée']},\n",
       " {'name': 'Mine Délaissée',\n",
       "  'importance': 'minor',\n",
       "  'description': \"Anciennement exploitée pour extraire divers minéraux, aujourd’hui la mine est presque inaccessible et remplie de dangers cachés - incluant des zombies piégés dedans pendant longtemps. Elle pourrait cependant receler des trésors ignorés jusqu'à présent.\",\n",
       "  'links': ['Forêt Abandonnée', 'Grottes Secrètes']}]"
      ]
     },
     "execution_count": 11,
     "metadata": {},
     "output_type": "execute_result"
    }
   ],
   "source": [
    "prompt = PromptTemplate(\n",
    "    template=LOCATIONS_GENERATION_PROMPT,\n",
    "    template_format='jinja2'\n",
    ")\n",
    "\n",
    "parser = JsonOutputParser()\n",
    "\n",
    "chain = prompt | model | parser\n",
    "\n",
    "locations_output = chain.invoke({\n",
    "    'context': outline_text,\n",
    "    'language': language\n",
    "})\n",
    "\n",
    "location_outlines = locations_output['Locations']\n",
    "\n",
    "location_outlines"
   ]
  },
  {
   "cell_type": "markdown",
   "metadata": {},
   "source": [
    "Let's try to directly append new information to the KG as we go"
   ]
  },
  {
   "cell_type": "code",
   "execution_count": 12,
   "metadata": {},
   "outputs": [
    {
     "name": "stdout",
     "output_type": "stream",
     "text": [
      "Created Location entity Village des Survivants\n",
      "Created Location entity Forêt Abandonnée\n",
      "Created Location entity Ruine Urbaine\n",
      "Created Location entity Lac Pollué\n",
      "Created Location entity Mine Délaissée\n",
      "Warning: Location 'Centre Commercial Fantôme' with URI 'centre%20commercial%20fant%C3%B4me' not found in ontology.\n",
      "Warning: Location 'Campagne Inexplorée' with URI 'campagne%20inexplor%C3%A9e' not found in ontology.\n",
      "Warning: Location 'Grottes Secrètes' with URI 'grottes%20secr%C3%A8tes' not found in ontology.\n"
     ]
    }
   ],
   "source": [
    "# Add the generated locations to the KG\n",
    "with onto:\n",
    "    # Create each location entity in the graph\n",
    "    for loc in location_outlines:\n",
    "        uri = encode_entity_name(loc.get('name'))\n",
    "        location = onto.Location(uri)\n",
    "        \n",
    "        location.label = loc.get('name')\n",
    "        location.hasName = loc.get('name')\n",
    "        location.hasDescription = loc.get('description')\n",
    "\n",
    "        print(f'Created Location entity {loc.get('name')}')\n",
    "    \n",
    "    # Connect each location based on their \"links\" property\n",
    "    for loc in location_outlines:\n",
    "        location = find_levenshtein_match(loc.get('name'), onto.Location.instances())\n",
    "        links = loc.get('links')\n",
    "\n",
    "        #location.isLinkedToLocation = []\n",
    "        \n",
    "        for other_location_name in links:\n",
    "            other_uri = encode_entity_name(other_location_name)\n",
    "            \n",
    "            # link Location entities using the isLinkedToLocation property (symmetrical)\n",
    "            other_location = find_levenshtein_match(other_location_name, onto.Location.instances())\n",
    "            \n",
    "            # Check if the other location exists in the ontology\n",
    "            if other_location is not None:\n",
    "                # Link the locations using the isLinkedToLocation property\n",
    "                location.isLinkedToLocation.append(other_location)\n",
    "            else:\n",
    "                # Print a warning or handle the missing location case as needed\n",
    "                print(f\"Warning: Location '{other_location_name}' with URI '{other_uri}' not found in ontology.\")\n"
   ]
  },
  {
   "cell_type": "markdown",
   "metadata": {},
   "source": [
    "Verify that the connections were made successfully"
   ]
  },
  {
   "cell_type": "code",
   "execution_count": 13,
   "metadata": {},
   "outputs": [
    {
     "name": "stdout",
     "output_type": "stream",
     "text": [
      "Village des Survivants is connected to: ['Forêt Abandonnée', 'Ruine Urbaine']\n",
      "Forêt Abandonnée is connected to: ['Lac Pollué', 'Village des Survivants', 'Mine Délaissée']\n",
      "Ruine Urbaine is connected to: ['Village des Survivants']\n",
      "Lac Pollué is connected to: ['Forêt Abandonnée']\n",
      "Mine Délaissée is connected to: ['Forêt Abandonnée']\n"
     ]
    }
   ],
   "source": [
    "with onto:\n",
    "    for location in onto.Location.instances():\n",
    "        print(f'{location.hasName} is connected to: {[l.hasName for l in location.INDIRECT_isLinkedToLocation]}')"
   ]
  },
  {
   "cell_type": "code",
   "execution_count": 14,
   "metadata": {},
   "outputs": [
    {
     "name": "stdout",
     "output_type": "stream",
     "text": [
      "Village des Survivants: Ce village représente la dernière bastion de civilisation humaine dans cette région ravagée par les zombies. Protégé derrière des murs solides et surveillé nuit et jour, il sert de refuge sûr pour ses habitants. C'est ici que notre héros partira pour accomplir sa mission critique.\n",
      "Forêt Abandonnée: Une vaste étendue boisée qui était autrefois peuplée de faune variée avant l'épidémie zombie. Maintenant, elle offre un couvert idéal pour les survivants tentant de collecter des ressources essentielles comme l'eau fraîche et les fruits sauvages. Attention, certains secteurs peuvent contenir des groupes errants de zombies attirés par leur instinct animal.\n",
      "Ruine Urbaine: Un ancien quartier urbain transformé en champ de bataille permanent contre les zombies. Des immeubles écroulés et des rues jonchées de cadavres offrent peu de protection mais beaucoup de risques. Pourtant, si on peut y pénétrer discrètement, cela pourrait fournir des provisions précieuses.\n",
      "Lac Pollué: Cet endroit était autrefois un site touristique populaire. Aujourd'hui, il est contaminé et infesté de zombies aquatiques. Bien que dangereuse, cette zone pourrait potentiellement servir de point stratégique vers d'autres régions.\n",
      "Mine Délaissée: Anciennement exploitée pour extraire divers minéraux, aujourd’hui la mine est presque inaccessible et remplie de dangers cachés - incluant des zombies piégés dedans pendant longtemps. Elle pourrait cependant receler des trésors ignorés jusqu'à présent.\n"
     ]
    }
   ],
   "source": [
    "with onto:\n",
    "    for location in onto.Location.instances():\n",
    "        print(f'{location.hasName}: {location.hasDescription}')"
   ]
  },
  {
   "cell_type": "code",
   "execution_count": 15,
   "metadata": {},
   "outputs": [
    {
     "data": {
      "image/png": "[encoded data removed]",
      "text/plain": [
       "<Figure size 1000x800 with 1 Axes>"
      ]
     },
     "metadata": {},
     "output_type": "display_data"
    }
   ],
   "source": [
    "import networkx as nx\n",
    "import matplotlib.pyplot as plt\n",
    "\n",
    "def display_location_relationships(locations: onto.Location):\n",
    "    # Create a graph\n",
    "    G = nx.Graph()\n",
    "\n",
    "    # Add nodes and edges\n",
    "    for location in locations:\n",
    "        G.add_node(location.hasName)  # Add each location as a node\n",
    "        for related_location in location.INDIRECT_isLinkedToLocation:\n",
    "            # Create edges for relationships\n",
    "            G.add_edge(location.hasName, related_location.hasName)\n",
    "\n",
    "    # Draw the graph\n",
    "    plt.figure(figsize=(10, 8))\n",
    "    pos = nx.spring_layout(G)  # Positioning of the graph\n",
    "\n",
    "    # Draw nodes, edges, and labels\n",
    "    nx.draw(G, pos,\n",
    "            with_labels=True,\n",
    "            node_color='lightblue',\n",
    "            node_size=2000,\n",
    "            font_size=10,\n",
    "            font_weight='bold',\n",
    "            edge_color='gray')\n",
    "    plt.title('Location Relationship Graph')\n",
    "    plt.show()\n",
    "\n",
    "with onto:\n",
    "    display_location_relationships(onto.Location.instances())"
   ]
  },
  {
   "cell_type": "markdown",
   "metadata": {},
   "source": [
    "Structure works, it's a hub structure with linear branches. This is good enough ! The topology makes sense regarding the relationships of locations.\n",
    "Extra points for the water structure"
   ]
  },
  {
   "cell_type": "markdown",
   "metadata": {},
   "source": [
    "## Generate a structured outline of the story from the outline text and generated locations"
   ]
  },
  {
   "cell_type": "code",
   "execution_count": 16,
   "metadata": {},
   "outputs": [],
   "source": [
    "STORY_OUTLINE_PROMPT = \"\"\"\n",
    "# Instructions pour la génération\n",
    "Vous êtes le scénariste de l'histoire pour une aventure textuelle générative.\n",
    "Sur la base du contexte narratif et des lieux qui composent le monde ci-dessous, générez les grandes lignes d'une histoire possible en tenant créant les éléments suivants :\n",
    "\n",
    "    Joueur : Établir la position et le rôle du joueur dans l'histoire, en précisant leur identité, leurs motivations et leur lien avec les personnages principaux. Décrire le point de départ du joueur et son rôle dans le récit global.\n",
    "    Personnages: Etablir une liste d'au moins **3 à 5** personnages principaux de l'histoire, sans rentrer dans trop de détails mais en évoquant leur fonction narrative et leurs relations (entre eux et avec le joueur). Veille à établir au moins un antagoniste principal.\n",
    "    Objectif : Définir l'objectif global du joueur, en précisant le problème principal à résoudre ou l'enjeu narratif qui motive l'action.\n",
    "    Événements : Décrire au moins 1 à 3 événements clés qui alimentent l'histoire et doivent être déclenchés par l'action du joueur.\n",
    "    Objets : Générer uniquement les éléments essentiels nécessaires pour compléter l'histoire (objets de quête) si c'est mentionné dans le contexte narratif, en incluant : Un nom et une description de chaque objet, avec sa fonction dans le récit. Indiquer le lieu où se trouve chaque objet, en s'assurant qu'il s'intègre logiquement dans le monde.\n",
    "    Commentaires : Inclure tout commentaire supplémentaire qui pourrait guider la génération de détails supplémentaires ou éclaircir des éléments importants de l'histoire.\n",
    "\n",
    "# Format de sortie\n",
    "D'abord, raisonner sur le contexte narratif donné et son importance pour la cohérence du monde et de l'histoire, l'intrigue principale (qui doit être de nature ouverte), et les relations des personnages.\n",
    "Fournir les éléments dans un fichier json structuré selon le format suivant:\n",
    "{\n",
    "    \"Player\": {\n",
    "        \"name\": \"Donner le nom du personnage qu'incarne le joueur\",\n",
    "        \"description\": \"Description en quelques phrases du personnage qu'incarne le joueur\",\n",
    "        \"location\": \"Nom du lieu de départ de l'histoire\"\n",
    "    },\n",
    "    \"Characters\": [\n",
    "        {\n",
    "            \"name\": \"Nom propre du personnage 1\",\n",
    "            \"description\": \"description en une phrase du personnage, incorporant son rôle et sa fonction dans l'histoire, et sa relation aux autres personnages.\",\n",
    "            \"location\": \"Nom du lieu ou se trouve le personnage\"\n",
    "        },\n",
    "        ...\n",
    "    ],\n",
    "    \"Goal\": {\n",
    "        \"description\": \"description du problème ou de l'enjeu qui motive le joueur. La résolution du jeu doit rester ouverte\"\n",
    "        \"requiresItem\": \"(FACULTATIF) S'il un objet qui est le centre de l'histoire et doit être récupéré pour gagner, l'indiquer ici. Sinon, omettre ce champs.\"\n",
    "    },\n",
    "    \"Events\": [\n",
    "        {\n",
    "            \"name\": \"Evènement 1\",\n",
    "            \"description\": \"description de l'évènement\",\n",
    "            \"condition\": \"description de la condition qui déclenche l'évènement (devrait être déclenché par l'action du joueur !)\",\n",
    "            \"consequence\": \"Description d'une ou plusieurs conséquences à l'évènement. Ces conséquences doivent être concrètes pour le joueur\"\n",
    "        },\n",
    "        ...\n",
    "    ],\n",
    "    \"Items\": [\n",
    "        {\n",
    "            \"name\": \"Nom de l'objet\",\n",
    "            \"description\": \"description courte de l'objet et de sa fonction dans le récit\",\n",
    "            \"location\": \"(OBLIGATOIRE) Nom du lieu qui contient l'objet\"\n",
    "        },\n",
    "        ...\n",
    "    ],\n",
    "    \"Comments\": [\n",
    "        \"Tout commentaire que tu voudrais ajouter pour guider la génération de détails supplémentaires et pendant le jeu. Sois précis plus que général: donne des commentaires qui peuvent être exploités. Des éléments importants de l'histoire\"\n",
    "    ]\n",
    "}\n",
    "\n",
    "\n",
    "# Lieux du monde\n",
    "{%- for location in locations %}\n",
    "- \"{{location.hasName}}\": {{location.hasDescription}}\n",
    "  \"{{location.hasName}}\" mène à {%- for loc in location.INDIRECT_isLinkedToLocation %} \"{{loc.hasName}}\" {%- endfor %}\n",
    "{%- endfor %}\n",
    "\n",
    "# Contexte narratif\n",
    "{{ setting }}\n",
    "\n",
    "Rappel: Ne répète pas les lieux du monde. Ton objectif est de développer une histoire qui fonctionne dans ce monde. N'ajoute que des éléments nouveaux dans le JSON. Fournis seulement les informations sur le joueur, son objectif, les personnages principaux, les évènements principaux, les éventuels objets principaux.\n",
    "Ecris en {{language}}, sauf pour les clés JSON qui doivent rester comme dans l'exemple.\n",
    "\n",
    "# Résultat\n",
    "\"\"\""
   ]
  },
  {
   "cell_type": "code",
   "execution_count": 17,
   "metadata": {},
   "outputs": [],
   "source": [
    "prompt = PromptTemplate(\n",
    "    template=STORY_OUTLINE_PROMPT,\n",
    "    template_format='jinja2'\n",
    ")\n",
    "\n",
    "parser = JsonOutputParser()\n",
    "\n",
    "chain = prompt | model | parser\n",
    "\n",
    "with onto:\n",
    "    # print(prompt.invoke({\n",
    "    #     'setting': outline_text,\n",
    "    #     'language': language,\n",
    "    #     'locations': onto.Location.instances()\n",
    "    # }).text)\n",
    "    story_outline = chain.invoke({\n",
    "        'setting': outline_text,\n",
    "        'language': language,\n",
    "        'locations': onto.Location.instances()\n",
    "    })"
   ]
  },
  {
   "cell_type": "code",
   "execution_count": 18,
   "metadata": {},
   "outputs": [
    {
     "data": {
      "text/plain": [
       "{'Player': {'name': 'Alexandre Durand',\n",
       "  'description': \"Ancien biologiste spécialisé dans les maladies virales, Alexandre a été choisi pour partir explorer les zones contaminées autour du Village des Survivants afin de localiser une nouvelle source d'alimentation ou d'eau potable.\",\n",
       "  'location': 'Village des Survivants'},\n",
       " 'Characters': [{'name': 'Marcelle Dupont',\n",
       "   'description': 'La chef du Village des Survivants, Marcelle soutient Alexandre dans sa quête et espère que son expertise scientifique aidera à comprendre mieux l’épidémie zombie.',\n",
       "   'location': 'Village des Survivants'},\n",
       "  {'name': 'Lucas Martin',\n",
       "   'description': 'Un jeune aventurier intrépide qui propose volontiers son aide à Alexandre lors de son exploration. Lucas possède des compétences utiles pour naviguer dans les territoires hostiles.',\n",
       "   'location': 'Village des Survivants'},\n",
       "  {'name': 'Gilles Lafitte',\n",
       "   'description': 'Antagoniste principal, Gilles est un individu ambitieux qui cherche à prendre le contrôle du Village des Survivants. Il voit Alexandre comme un obstacle à ses plans et essaiera de saboter sa mission.',\n",
       "   'location': 'Village des Survivants'}],\n",
       " 'Goal': {'description': \"Trouver une source sécurisée de nourriture ou d'eau potable pour assurer la survie immédiate du Village des Survivants.\"},\n",
       " 'Events': [{'name': 'Rencontre avec Lucas Martin',\n",
       "   'description': 'Alexandre rencontre Lucas près des portails sortant du Village des Survivants. Ils décident ensemble de commencer leur expédition vers la Forêt Abandonnée.',\n",
       "   'condition': \"Après avoir reçu l'autorisation de Marcelle pour entamer sa recherche.\",\n",
       "   'consequences': ['Alliance temporaire avec Lucas.',\n",
       "    'Partage des risques et des responsabilités.']},\n",
       "  {'name': 'Panne technique',\n",
       "   'description': 'Durant leur voyage, ils tombent sur un piège activé accidentellement dans la Ruine Urbaine, provoquant une panne de communication radio.',\n",
       "   'condition': 'Exploration approfondie de la Ruine Urbaine après avoir trouvé des indices prometteurs.',\n",
       "   'consequences': ['Ils perdent contact avec le Village des Survivants.',\n",
       "    'Augmentation du niveau de stress et de danger.']},\n",
       "  {'name': 'Affrontement avec Gilles Lafitte',\n",
       "   'description': \"Alors qu'ils reviennent vers le Village des Survivants avec leur découvertes, ils découvrent que Gilles a saboté certaines parties de leur équipement.\",\n",
       "   'condition': 'Retour vers le Village des Survivants après avoir exploré toutes les zones disponibles.',\n",
       "   'consequences': ['Confrontation directe avec Gilles.',\n",
       "    'Possibilité de compromettre la réussite de leur mission.']}],\n",
       " 'Items': [{'name': 'Cartographie Antique',\n",
       "   'description': \"Cette carte ancienne indiquait auparavant des sources d'eaux propres et des points stratégiques dans la forêt.\",\n",
       "   'location': 'Forêt Abandonnée'},\n",
       "  {'name': \"Kit Analyse D'Eau\",\n",
       "   'description': \"Instrument indispensable pour tester la qualité de l'eau trouvée durant l’expédition.\",\n",
       "   'location': 'Ruine Urbaine'}],\n",
       " 'Comments': [\"Assurez-vous que chaque action du joueur impacte significativement l'avancement de l'histoire et les rapports entre les différents personnages.\",\n",
       "  'Incorporez des moments de tension et de calme alternés pour maintenir l’intérêt du joueur.',\n",
       "  'Privilégiez des descriptions concises mais riches en détails pour créer une ambiance immersive.']}"
      ]
     },
     "execution_count": 18,
     "metadata": {},
     "output_type": "execute_result"
    }
   ],
   "source": [
    "story_outline"
   ]
  },
  {
   "cell_type": "markdown",
   "metadata": {},
   "source": [
    "Add the new items to the KG"
   ]
  },
  {
   "cell_type": "code",
   "execution_count": null,
   "metadata": {},
   "outputs": [],
   "source": [
    "with onto:\n",
    "    for event_data in story_outline.get('Events'):\n",
    "        \n",
    "        event_name = event_data.get('name')\n",
    "        encoded_event_name = encode_entity_name(event_name)\n",
    "        \n",
    "        event = onto.Event(event_name)\n",
    "        event.hasName = event_name\n",
    "        event.label = event_name\n",
    "        event.hasDescription = event_data.get('description')\n",
    "        event.hasCondition = event_data.get('condition')\n",
    "        event.hasConsequence = event_data.get('consequence')\n"
   ]
  },
  {
   "cell_type": "code",
   "execution_count": 19,
   "metadata": {},
   "outputs": [],
   "source": [
    "with onto:\n",
    "    for char in story_outline.get('Characters'):\n",
    "        # First, make sure the location is correct\n",
    "        loc_name = char.get('location')\n",
    "        character_location = find_levenshtein_match(loc_name, onto.Location.instances())\n",
    "        \n",
    "        if not character_location:\n",
    "            print(f\"Warning: {name}'s location {loc_name} not found in ontology. \")\n",
    "            continue\n",
    "        \n",
    "        # Create new character\n",
    "        name = char.get('name')\n",
    "        encoded_name = encode_entity_name(name)\n",
    "        \n",
    "        character = onto.Character(encoded_name)\n",
    "\n",
    "        character.hasName = name\n",
    "        character.label = name\n",
    "        character.hasDescription = char.get('description')\n",
    "        character.hasImportance = 'main character' \n",
    "        character.characterIsLocatedAt = character_location\n"
   ]
  },
  {
   "cell_type": "code",
   "execution_count": 20,
   "metadata": {},
   "outputs": [
    {
     "name": "stdout",
     "output_type": "stream",
     "text": [
      "7\n",
      "7\n"
     ]
    }
   ],
   "source": [
    "# Problématique, n'est-ce pas ?\n",
    "print(distance('Centreville Commerciale Abandonnée', 'Centre Commercial Abandonné'))\n",
    "print(distance('Laboratoire Secret', 'Sanctuaire Secret'))"
   ]
  },
  {
   "cell_type": "code",
   "execution_count": 21,
   "metadata": {},
   "outputs": [
    {
     "name": "stderr",
     "output_type": "stream",
     "text": [
      "* Owlready2 * Running HermiT...\n",
      "    java -Xmx2000M -cp /Users/frieder/Documents/GitHub/procedural-stories/.venv/lib/python3.12/site-packages/owlready2/hermit:/Users/frieder/Documents/GitHub/procedural-stories/.venv/lib/python3.12/site-packages/owlready2/hermit/HermiT.jar org.semanticweb.HermiT.cli.CommandLine -c -O -D -I file:////var/folders/92/x0b2qb4n7b93p8w6v3hxvtc80000gp/T/tmp63df7b7p\n",
      "huggingface/tokenizers: The current process just got forked, after parallelism has already been used. Disabling parallelism to avoid deadlocks...\n",
      "To disable this warning, you can either:\n",
      "\t- Avoid using `tokenizers` before the fork if possible\n",
      "\t- Explicitly set the environment variable TOKENIZERS_PARALLELISM=(true | false)\n"
     ]
    },
    {
     "name": "stdout",
     "output_type": "stream",
     "text": [
      "Village des Survivants: ['Marcelle Dupont', 'Lucas Martin', 'Gilles Lafitte']\n",
      "Forêt Abandonnée: []\n",
      "Ruine Urbaine: []\n",
      "Lac Pollué: []\n",
      "Mine Délaissée: []\n"
     ]
    },
    {
     "name": "stderr",
     "output_type": "stream",
     "text": [
      "* Owlready2 * HermiT took 0.4785752296447754 seconds\n",
      "* Owlready * Reparenting story_ontology3.characterIsLocatedAt: {owl.FunctionalProperty, owl.ObjectProperty, story_ontology3.isLocatedAt} => {story_ontology3.isLocatedAt}\n",
      "* Owlready * Reparenting story_ontology3.itemIsLocatedAt: {owl.FunctionalProperty, owl.ObjectProperty, story_ontology3.isLocatedAt} => {story_ontology3.isLocatedAt}\n",
      "* Owlready * Reparenting story_ontology3.knows: {owl.ObjectProperty, story_ontology3.hasRelationship} => {story_ontology3.hasRelationship}\n",
      "* Owlready * Reparenting story_ontology3.isEnemyWith: {owl.ObjectProperty, story_ontology3.hasRelationship, owl.IrreflexiveProperty, owl.SymmetricProperty} => {story_ontology3.hasRelationship, owl.IrreflexiveProperty, owl.SymmetricProperty}\n",
      "* Owlready * Reparenting story_ontology3.isRulerOf: {owl.ObjectProperty, story_ontology3.hasRelationship, owl.InverseFunctionalProperty} => {story_ontology3.hasRelationship, owl.InverseFunctionalProperty}\n",
      "* Owlready * Reparenting story_ontology3.loves: {owl.ObjectProperty, story_ontology3.hasRelationship} => {story_ontology3.hasRelationship}\n",
      "* Owlready * (NB: only changes on entities loaded in Python are shown, other changes are done but not listed)\n"
     ]
    }
   ],
   "source": [
    "# Verify results\n",
    "with onto:\n",
    "    sync_reasoner()\n",
    "    for loc in onto.Location.instances():\n",
    "        print(f\"{loc.hasName}: {[char.hasName for char in loc.containsCharacter]}\")"
   ]
  },
  {
   "cell_type": "code",
   "execution_count": 22,
   "metadata": {},
   "outputs": [
    {
     "name": "stdout",
     "output_type": "stream",
     "text": [
      "[story_ontology3.gilles%2520lafitte]\n",
      "[story_ontology3.gilles%252520lafitte]\n"
     ]
    }
   ],
   "source": [
    "for item_data in story_outline.get('Items'):\n",
    "    item_name = item_data.get('name')\n",
    "    encoded_name = encode_entity_name(encoded_name)\n",
    "    \n",
    "    item = onto.Item(encoded_name)\n",
    "    item.hasName = item_name\n",
    "    item.label = item_name\n",
    "    item.hasDescription = item_data.get('description')\n",
    "    item.hasQuantity = item_data.get('quantity', 1)\n",
    "    item.hasImportance = 'major'\n",
    "    \n",
    "    item_location_name = item_data.get('location')\n",
    "    \n",
    "    # Find the location among existing locations using fuzzy matching (using Levenshtein distance)\n",
    "    item_location = find_levenshtein_match(item_location_name, onto.Location.instances())\n",
    "    \n",
    "    if not item_location:\n",
    "        print(f\"Warning: item's location {item_location_name} not found in ontology.\")\n",
    "    \n",
    "    item_location.containsItem.append(item)\n",
    "    print(item_location.containsItem)\n",
    "    "
   ]
  },
  {
   "cell_type": "code",
   "execution_count": 23,
   "metadata": {},
   "outputs": [
    {
     "name": "stderr",
     "output_type": "stream",
     "text": [
      "* Owlready2 * Running HermiT...\n",
      "    java -Xmx2000M -cp /Users/frieder/Documents/GitHub/procedural-stories/.venv/lib/python3.12/site-packages/owlready2/hermit:/Users/frieder/Documents/GitHub/procedural-stories/.venv/lib/python3.12/site-packages/owlready2/hermit/HermiT.jar org.semanticweb.HermiT.cli.CommandLine -c -O -D -I file:////var/folders/92/x0b2qb4n7b93p8w6v3hxvtc80000gp/T/tmpb6dyju1q\n",
      "huggingface/tokenizers: The current process just got forked, after parallelism has already been used. Disabling parallelism to avoid deadlocks...\n",
      "To disable this warning, you can either:\n",
      "\t- Avoid using `tokenizers` before the fork if possible\n",
      "\t- Explicitly set the environment variable TOKENIZERS_PARALLELISM=(true | false)\n"
     ]
    },
    {
     "name": "stdout",
     "output_type": "stream",
     "text": [
      "Name: Cartographie Antique\n",
      "Description: Cette carte ancienne indiquait auparavant des sources d'eaux propres et des points stratégiques dans la forêt.\n",
      "Importance: major\n",
      "Location: Forêt Abandonnée\n",
      "\n",
      "Name: Kit Analyse D'Eau\n",
      "Description: Instrument indispensable pour tester la qualité de l'eau trouvée durant l’expédition.\n",
      "Importance: major\n",
      "Location: Ruine Urbaine\n",
      "\n"
     ]
    },
    {
     "name": "stderr",
     "output_type": "stream",
     "text": [
      "* Owlready2 * HermiT took 0.3525509834289551 seconds\n",
      "* Owlready * Reparenting story_ontology3.containsCharacter: {owl.ObjectProperty, story_ontology3.containsEntity, owl.InverseFunctionalProperty} => {story_ontology3.containsEntity}\n",
      "* Owlready * Reparenting story_ontology3.hasAllegiance: {owl.FunctionalProperty, owl.ObjectProperty, story_ontology3.hasRelationship} => {owl.FunctionalProperty, story_ontology3.hasRelationship}\n",
      "* Owlready * Reparenting story_ontology3.hasFriendshipWith: {owl.ObjectProperty, owl.TransitiveProperty, story_ontology3.hasRelationship, owl.SymmetricProperty} => {story_ontology3.hasRelationship, owl.TransitiveProperty, owl.SymmetricProperty}\n",
      "* Owlready * Reparenting story_ontology3.hasRivalryWith: {owl.ObjectProperty, story_ontology3.hasRelationship, owl.IrreflexiveProperty, owl.SymmetricProperty} => {story_ontology3.hasRelationship, owl.IrreflexiveProperty, owl.SymmetricProperty}\n",
      "* Owlready * (NB: only changes on entities loaded in Python are shown, other changes are done but not listed)\n"
     ]
    }
   ],
   "source": [
    "# Verify items\n",
    "with onto:\n",
    "    sync_reasoner()\n",
    "    pass\n",
    "\n",
    "for item in onto.Item.instances():\n",
    "    print(f\"Name: {item.hasName}\")\n",
    "    print(f\"Description: {item.hasDescription}\")\n",
    "    print(f\"Importance: {item.hasImportance}\")\n",
    "    print(f\"Location: {item.INDIRECT_isLocatedAt.hasName}\\n\")\n"
   ]
  },
  {
   "cell_type": "code",
   "execution_count": 24,
   "metadata": {},
   "outputs": [],
   "source": [
    "# Player\n",
    "with onto:\n",
    "    # Create the Player entity\n",
    "    player_data = story_outline.get('Player')\n",
    "    player_name = player_data.get('name')\n",
    "    encoded_name = encode_entity_name(player_name)\n",
    "    \n",
    "    player = onto.Player(encoded_name)\n",
    "    player.hasName = player_name\n",
    "    player.label = player_name\n",
    "    player.hasDescription = player_data.get('description')\n",
    "    \n",
    "    # Give the player its location\n",
    "    player_location_name = player_data.get('location')\n",
    "    \n",
    "    player_location = find_levenshtein_match(player_location_name, onto.Location.instances())\n",
    "    \n",
    "    if player_location:\n",
    "        player.characterIsLocatedAt = player_location\n",
    "    else:\n",
    "        print(f\"Warning: {player_name}'s location {player_location_name} not found in ontology. \")\n",
    "        \n",
    "    \n",
    "    # Create the player's Goal entity\n",
    "    goal_description = story_outline.get('Goal').get('description')\n",
    "    \n",
    "    goal = onto.Goal('player_goal')\n",
    "    goal.label = 'Player goal'\n",
    "    goal.hasDescription = goal_description\n",
    "    \n",
    "    player.hasGoal.append(goal)\n",
    "    "
   ]
  },
  {
   "cell_type": "code",
   "execution_count": 25,
   "metadata": {},
   "outputs": [
    {
     "name": "stdout",
     "output_type": "stream",
     "text": [
      "Player: Alexandre Durand\n",
      "Description: Ancien biologiste spécialisé dans les maladies virales, Alexandre a été choisi pour partir explorer les zones contaminées autour du Village des Survivants afin de localiser une nouvelle source d'alimentation ou d'eau potable.\n",
      "Location: Village des Survivants\n",
      "Goal: Trouver une source sécurisée de nourriture ou d'eau potable pour assurer la survie immédiate du Village des Survivants.\n"
     ]
    }
   ],
   "source": [
    "# Verify the conversion\n",
    "with onto:\n",
    "    #sync_reasoner_pellet()\n",
    "\n",
    "    player = onto.Player.instances()[0]\n",
    "    print(f\"Player: {player.hasName}\")\n",
    "    print(f\"Description: {player.hasDescription}\")\n",
    "    print(f\"Location: {player.INDIRECT_isLocatedAt.hasName}\")\n",
    "    print(f\"Goal: {player.hasGoal[0].hasDescription}\")\n"
   ]
  },
  {
   "cell_type": "code",
   "execution_count": 26,
   "metadata": {},
   "outputs": [],
   "source": [
    "with onto:\n",
    "    onto.save(file=\"story_poptest.rdf\", format=\"rdfxml\")"
   ]
  },
  {
   "cell_type": "code",
   "execution_count": 27,
   "metadata": {},
   "outputs": [],
   "source": [
    "CHARACTER_EXPANSION_PROMPT = \"\"\"\n",
    "Using the following details, generate a JSON output with additional information about the character.\n",
    "\n",
    "Character Name: {{character.hasName}}\n",
    "Description: {{character.hasDescription}}\n",
    "Starting location: {{character.isLocatedAt.hasName}}\n",
    "\n",
    "Other main characters of the story:\n",
    "{%- for char in other_characters %}\n",
    "    \"{{ char.hasName }}\": {{ char.hasDescription }} (is located at {{char.INDIRECT_isLocatedAt.hasName}})\n",
    "{%- endfor %}\n",
    "\n",
    "The player:\n",
    "    \"{{ player.hasName }}\": {{ player.hasDescription }} (is located at {{player.INDIRECT_isLocatedAt.hasName}})\n",
    "    The player has the goal: {{player.hasGoal[0].hasDescription}}\n",
    "\n",
    "Please include:\n",
    "- A significant backstory element that explain their current situation. Improving the character's current description\n",
    "- One or two relationships that the character has with other main characters or the player.\n",
    "\n",
    "Ensure that all generated elements align with the narrative and character dynamics already established in the outline.\n",
    "Output your response in the exact following JSON format:\n",
    "\n",
    "{\n",
    "    \"description\": \"The updated, expanded description of the character, defining their goals, motivations, and conflicts, all inside this description string\",\n",
    "    \"relationships\": [\n",
    "        {\n",
    "            \"type\": \"The type of relationship from this character to the target character. Either 'knows', 'friend', 'lover', 'enemy', 'rival', 'subject', 'ruler', no matter the language \",\n",
    "            \"target\": \"Name of the character which has that relationship with {{character.hasName}}\"\n",
    "        },\n",
    "        ...\n",
    "    ]\n",
    "}\n",
    "\n",
    "**The relationship types should be chosen EXCLUSIVELY between: 'knows', 'friend', 'lover', 'enemy', 'rival', 'subject', 'ruler', no matter the language !!**\n",
    "\n",
    "Write all the JSON value strings in {{language}}, except relationship types.\n",
    "\"\"\""
   ]
  },
  {
   "cell_type": "code",
   "execution_count": 28,
   "metadata": {},
   "outputs": [
    {
     "name": "stdout",
     "output_type": "stream",
     "text": [
      "Marcelle Dupont\n",
      "story_ontology3.marcelle%20dupont\n",
      "----*----\n",
      "{'description': \"Marcelle Dupont, ancienne médecin spécialisée en santé publique avant l'épidémie zombi, dirige maintenant avec sagesse et détermination le Village des Survivants. Son expérience médicale lui permet d'assister efficacement aux soins des blessés et aux urgences sanitaires quotidiennes. Elle croit fermement au potentiel d’Alexandre durant cette époque incertaine et encourage activement son voyage vers les terres contaminées pour trouver des ressources essentielles. Cependant, elle doit constamment faire face aux menaces internes et externes, notamment celles posées par Gilles Lafitte.\", 'relationships': [{'type': 'friend', 'target': 'Alexandre Durand'}, {'type': 'enemy', 'target': 'Gilles Lafitte'}]}\n",
      "\n",
      "\n",
      "\n",
      "Name: Marcelle Dupont\n",
      "Location: Village des Survivants\n",
      "Description: La chef du Village des Survivants, Marcelle soutient Alexandre dans sa quête et espère que son expertise scientifique aidera à comprendre mieux l’épidémie zombie.\n",
      "Long description: Marcelle Dupont, ancienne médecin spécialisée en santé publique avant l'épidémie zombi, dirige maintenant avec sagesse et détermination le Village des Survivants. Son expérience médicale lui permet d'assister efficacement aux soins des blessés et aux urgences sanitaires quotidiennes. Elle croit fermement au potentiel d’Alexandre durant cette époque incertaine et encourage activement son voyage vers les terres contaminées pour trouver des ressources essentielles. Cependant, elle doit constamment faire face aux menaces internes et externes, notamment celles posées par Gilles Lafitte.\n",
      "Friends: [story_ontology3.alexandre%20durand, story_ontology3.marcelle%20dupont]\n",
      "Rivals: []\n",
      "Enemies: [story_ontology3.gilles%20lafitte]\n",
      "Has allegiance to: None\n",
      "Is ruler of: []\n",
      "Loves: []\n",
      "----*----\n",
      "Lucas Martin\n",
      "story_ontology3.lucas%20martin\n",
      "----*----\n",
      "{'description': \"Lucas Martin, un jeune aventurier intrépide originaire des terres désolées au nord du Village des Survivants, s'est forgé une réputation grâce à ses nombreuses expériences en terrain hostile. Ayant perdu sa famille durant l'épidémie zombi, il décida de consacrer sa vie à protéger ceux qui restent. Son offre spontanée d'assister Alexandre dans son exploration découle non seulement de leur amitié naissante mais aussi de son désir profond de contribuer à trouver une solution durable face aux défis environnementaux.\", 'relationships': [{'type': 'friend', 'target': 'Alexandre Durand'}]}\n",
      "\n",
      "\n",
      "\n",
      "Name: Lucas Martin\n",
      "Location: Village des Survivants\n",
      "Description: Un jeune aventurier intrépide qui propose volontiers son aide à Alexandre lors de son exploration. Lucas possède des compétences utiles pour naviguer dans les territoires hostiles.\n",
      "Long description: Lucas Martin, un jeune aventurier intrépide originaire des terres désolées au nord du Village des Survivants, s'est forgé une réputation grâce à ses nombreuses expériences en terrain hostile. Ayant perdu sa famille durant l'épidémie zombi, il décida de consacrer sa vie à protéger ceux qui restent. Son offre spontanée d'assister Alexandre dans son exploration découle non seulement de leur amitié naissante mais aussi de son désir profond de contribuer à trouver une solution durable face aux défis environnementaux.\n",
      "Friends: [story_ontology3.alexandre%20durand, story_ontology3.marcelle%20dupont, story_ontology3.lucas%20martin]\n",
      "Rivals: []\n",
      "Enemies: []\n",
      "Has allegiance to: None\n",
      "Is ruler of: []\n",
      "Loves: []\n",
      "----*----\n",
      "Gilles Lafitte\n",
      "story_ontology3.gilles%20lafitte\n",
      "----*----\n",
      "{'description': \"Gilles Lafitte, antagoniste principal, est un homme ambitieux né dans les ruines d'une société déchirée par une épidémie zombi. Son enfance marquée par la pénurie et la peur lui donne aujourd'hui une soif insatiable de pouvoir et de sécurité. C'est pourquoi il souhaite prendre le contrôle total sur le Village des Survivants en utilisant tous les moyens nécessaires. Sa vision autoritaire et impulsive le conduit souvent vers des décisions radicales. Voir Alexandre durcir face aux zombies et gagner la confiance des autres résidents agace particulièrement Gilles car cela menace directement ses ambitions.\", 'relationships': [{'type': '.enemy', 'target': 'Alexandre Durand'}, {'type': 'knows', 'target': 'Marcelle Dupont'}]}\n",
      "\n",
      "\n",
      "\n",
      "Name: Gilles Lafitte\n",
      "Location: Village des Survivants\n",
      "Description: Antagoniste principal, Gilles est un individu ambitieux qui cherche à prendre le contrôle du Village des Survivants. Il voit Alexandre comme un obstacle à ses plans et essaiera de saboter sa mission.\n",
      "Long description: Gilles Lafitte, antagoniste principal, est un homme ambitieux né dans les ruines d'une société déchirée par une épidémie zombi. Son enfance marquée par la pénurie et la peur lui donne aujourd'hui une soif insatiable de pouvoir et de sécurité. C'est pourquoi il souhaite prendre le contrôle total sur le Village des Survivants en utilisant tous les moyens nécessaires. Sa vision autoritaire et impulsive le conduit souvent vers des décisions radicales. Voir Alexandre durcir face aux zombies et gagner la confiance des autres résidents agace particulièrement Gilles car cela menace directement ses ambitions.\n",
      "Friends: []\n",
      "Rivals: []\n",
      "Enemies: [story_ontology3.marcelle%20dupont]\n",
      "Has allegiance to: None\n",
      "Is ruler of: []\n",
      "Loves: []\n",
      "----*----\n"
     ]
    }
   ],
   "source": [
    "\n",
    "prompt = PromptTemplate(\n",
    "    template=CHARACTER_EXPANSION_PROMPT,\n",
    "    template_format='jinja2'\n",
    ")\n",
    "\n",
    "parser = JsonOutputParser()\n",
    "\n",
    "chain = prompt | model | parser\n",
    "\n",
    "characters = onto.Character.instances()\n",
    "\n",
    "# Expand each character's description and relationships\n",
    "for character in characters:\n",
    "    if onto.Player in character.is_a:\n",
    "        continue\n",
    "    \n",
    "    print(character.hasName)\n",
    "    \n",
    "    # Get the list of other main characters\n",
    "    other_characters = list()\n",
    "    for other_character in characters:\n",
    "        # skip self\n",
    "        if other_character.hasName == character.hasName:\n",
    "            continue\n",
    "        other_characters.append(other_character)\n",
    "    \n",
    "    print(character)\n",
    "    \n",
    "    # print(prompt.invoke({\"setting\": outline_text,\n",
    "    #                     \"character\": character,\n",
    "    #                     \"player\": onto.Player.instances()[0],\n",
    "    #                     \"other_characters\": other_characters,\n",
    "    #                     \"language\": language}).text)\n",
    "    # continue\n",
    "\n",
    "    res = chain.invoke({\"setting\": outline_text,\n",
    "                        \"character\": character,\n",
    "                        \"player\": onto.Player.instances()[0],\n",
    "                        \"other_characters\": other_characters,\n",
    "                        \"language\": language})\n",
    "\n",
    "    # Update the character in the ontology\n",
    "    character.hasLongDescription = res.get('description')\n",
    "\n",
    "    for relationship in res.get('relationships'):\n",
    "        #'friend', 'lover', 'enemy', 'rival', 'subject', 'ruler'\n",
    "        relationship_type = relationship.get('type')\n",
    "        related_character_name = relationship.get('target')\n",
    "        related_character = find_levenshtein_match(related_character_name, onto.Character.instances())\n",
    "        \n",
    "        if not related_character:\n",
    "            print(f\"Warning: {character.hasName}'s relation {related_character_name} not found in ontology.\")\n",
    "            continue\n",
    "            \n",
    "        if relationship_type == 'friend':\n",
    "            character.hasFriendshipWith.append(related_character)\n",
    "        elif relationship_type == 'lover':\n",
    "            character.loves.append(related_character)\n",
    "        elif relationship_type == 'enemy':\n",
    "            character.isEnemyWith.append(related_character)\n",
    "        elif relationship_type == 'rival':\n",
    "            character.hasRivalryWith.append(related_character)\n",
    "        elif relationship_type == 'subject':\n",
    "            character.hasAllegiance.append(related_character)\n",
    "        elif relationship_type == 'ruler':\n",
    "            character.isRulerOf.append(related_character)\n",
    "            #related_character.hasAllegiance = [this_character]\n",
    "        elif relationship_type == 'knows':\n",
    "            character.knows.append(related_character)\n",
    "\n",
    "    print('----*----')\n",
    "    print(res)\n",
    "    print('\\n\\n')\n",
    "    print(f\"Name: {character.hasName}\")\n",
    "    print(f\"Location: {character.INDIRECT_isLocatedAt.hasName}\")\n",
    "    print(f\"Description: {character.hasDescription}\")\n",
    "    print(f\"Long description: {character.hasLongDescription}\")\n",
    "    print(f\"Friends: {character.INDIRECT_hasFriendshipWith}\")\n",
    "    print(f\"Rivals: {character.INDIRECT_hasRivalryWith}\")\n",
    "    print(f\"Enemies: {character.INDIRECT_isEnemyWith}\")\n",
    "    print(f\"Has allegiance to: {character.INDIRECT_hasAllegiance}\")\n",
    "    print(f\"Is ruler of: {character.INDIRECT_isRulerOf}\")\n",
    "    print(f\"Loves: {character.INDIRECT_loves}\")\n",
    "    #print(f\"Relationships: {character.}\")\n",
    "    print('----*----')"
   ]
  },
  {
   "cell_type": "code",
   "execution_count": 29,
   "metadata": {},
   "outputs": [
    {
     "name": "stderr",
     "output_type": "stream",
     "text": [
      "* Owlready2 * Running HermiT...\n",
      "    java -Xmx2000M -cp /Users/frieder/Documents/GitHub/procedural-stories/.venv/lib/python3.12/site-packages/owlready2/hermit:/Users/frieder/Documents/GitHub/procedural-stories/.venv/lib/python3.12/site-packages/owlready2/hermit/HermiT.jar org.semanticweb.HermiT.cli.CommandLine -c -O -D -I file:////var/folders/92/x0b2qb4n7b93p8w6v3hxvtc80000gp/T/tmpc2olml4q\n",
      "huggingface/tokenizers: The current process just got forked, after parallelism has already been used. Disabling parallelism to avoid deadlocks...\n",
      "To disable this warning, you can either:\n",
      "\t- Avoid using `tokenizers` before the fork if possible\n",
      "\t- Explicitly set the environment variable TOKENIZERS_PARALLELISM=(true | false)\n",
      "* Owlready2 * HermiT took 0.37866687774658203 seconds\n",
      "* Owlready * Reparenting story_ontology3.containsItem: {owl.ObjectProperty, story_ontology3.containsEntity, owl.InverseFunctionalProperty} => {story_ontology3.containsEntity}\n",
      "* Owlready * Reparenting story_ontology3.hasFamilyTieWith: {owl.ObjectProperty, owl.TransitiveProperty, story_ontology3.hasRelationship, owl.SymmetricProperty} => {story_ontology3.hasRelationship, owl.TransitiveProperty, owl.SymmetricProperty}\n",
      "* Owlready * Reparenting story_ontology3.gilles%20lafitte: {story_ontology3.Character} => {story_ontology3.NearbyCharacter}\n",
      "* Owlready * Reparenting story_ontology3.marcelle%20dupont: {story_ontology3.Character} => {story_ontology3.NearbyCharacter}\n",
      "* Owlready * Reparenting story_ontology3.alexandre%20durand: {story_ontology3.Player} => {story_ontology3.NearbyCharacter, story_ontology3.Player}\n",
      "* Owlready * Reparenting story_ontology3.for%C3%AAt%20abandonn%C3%A9e: {story_ontology3.Location} => {story_ontology3.NearbyLocation}\n",
      "* Owlready * Reparenting story_ontology3.ruine%20urbaine: {story_ontology3.Location} => {story_ontology3.NearbyLocation}\n",
      "* Owlready * Reparenting story_ontology3.lucas%20martin: {story_ontology3.Character} => {story_ontology3.NearbyCharacter}\n",
      "* Owlready * Reparenting story_ontology3.village%20des%20survivants: {story_ontology3.Location} => {story_ontology3.CurrentLocation}\n",
      "* Owlready * (NB: only changes on entities loaded in Python are shown, other changes are done but not listed)\n"
     ]
    }
   ],
   "source": [
    "# Verify consistency and make inferences\n",
    "with onto:\n",
    "    sync_reasoner()"
   ]
  },
  {
   "cell_type": "markdown",
   "metadata": {},
   "source": [
    "Great ! We have expanded our characters ! They now have relationships and backstories, this should be interesting !\n",
    "\n",
    "\n",
    "## Expand Locations"
   ]
  },
  {
   "cell_type": "code",
   "execution_count": 30,
   "metadata": {},
   "outputs": [],
   "source": [
    "LOCATION_EXPANSION_PROMPT = \"\"\"\n",
    "Using the following details, generate a JSON output with additional information about the location.\n",
    "\n",
    "Setting of the story: {{setting}}\n",
    "\n",
    "Location Name: {{location.hasName}}\n",
    "Description: {{location.hasDescription}}\n",
    "Neighboring locations:\n",
    "{%- for nearby_location in location.INDIRECT_isLinkedToLocation %}\n",
    "    - \"{{ nearby_location.hasName }}\": {{nearby_location.hasDescription}}\n",
    "{%- endfor %}\n",
    "\n",
    "{%- if location.containsCharacter %}\n",
    "Main characters in \"{{location.hasName}}\":\n",
    "{%- for character in location.containsCharacter %}\n",
    "    - \"{{ character.hasName }}\" {% if onto.Player in character.is_a %}(Player){%- endif %}: {{ character.hasDescription }}\n",
    "{%- endfor %}\n",
    "{%- endif %}\n",
    "\n",
    "{%- if location.containsItem %}\n",
    "The location contains the quest item(s):\n",
    "{%- for item in location.containsItem %}\n",
    "    - \"{{ item.hasName }}\" ({{item.hasImportance}}): {{ item.hasDescription }}\n",
    "{%- endfor %}\n",
    "{%- endif %}\n",
    "\n",
    "Please DO NOT include this information in your output\n",
    "\n",
    "Please include:\n",
    "- Up to two secondary characters that would be relevant to this location. Keep in mind that secondary caracters should have a use to the player, that is either to give the player some important information (define specifically the information), some items, trade or offer a challenge, or other if it is relevant to the scene and the story. You can and should use less, or even no characters, depending on the location ! Only add characters where pertinent.\n",
    "- Up to two items that could be found or are important in this location. Items should always have a clear use at least in the scene.\n",
    "\n",
    "Do not call any character these names: {{banned_character_names}}\n",
    "Do not call any item these names: {{banned_item_names}}\n",
    "{%- if used_roles %}\n",
    "Already used secondary character roles (Try not to repeat them too much. Only if it really makes sense): {{used_roles}}\n",
    "{%- endif %}\n",
    "\n",
    "Ensure that all generated elements align with the narrative and character dynamics already established in the outline.\n",
    "\n",
    "Make sure to output the list of characters as JSON, following this exact model:\n",
    "\n",
    "{\n",
    "    \"Description\": \"A longer, more detailed description of the location and perhaps its different parts and their function in the story\"\n",
    "    \"Characters\": [\n",
    "        {\n",
    "            \"name\": \"The name of the character\",\n",
    "            \"description\": \"A concise description of the character and their function in the scene.\",\n",
    "            \"role\": \"One or two words describing this character's function\"\n",
    "        },\n",
    "        ...\n",
    "    ],\n",
    "    \"Items\": [\n",
    "        {\n",
    "            \"name\": \"The name of the item\",\n",
    "            \"description\": \"A concise description of the item and its function.\",\n",
    "            \"quantity\": 1,\n",
    "        },\n",
    "        ...\n",
    "    ]\n",
    "}\n",
    "\n",
    "Generate all output in {{ language }}\n",
    "\"\"\""
   ]
  },
  {
   "cell_type": "code",
   "execution_count": 32,
   "metadata": {},
   "outputs": [
    {
     "name": "stdout",
     "output_type": "stream",
     "text": [
      "Name: Village des Survivants\n",
      "[story_ontology3.marcelle%20dupont, story_ontology3.lucas%20martin, story_ontology3.gilles%20lafitte, story_ontology3.alexandre%20durand, story_ontology3.sophie%20moreau, story_ontology3.jean-pierre%20dubois]\n",
      "{'Description': \"Ce village représente la dernière bastion de civilisation humaine dans cette région ravagée par les zombies. Protégé derrière des murs solides et surveillé nuit et jour, il sert de refuge sûr pour ses habitants. C'est ici que notre héros partira pour accomplir sa mission critique. À proximité, vous pouvez trouver deux autres lieux importants : la Forêt Abandonnée, qui offre un couvert idéal pour rassembler des ressources essentielles, et la Ruine Urbaine, un ancien quartier urbain désormais dangereux mais potentiellement riche en provisions.\", 'Characters': [{'name': 'Claude Lambert', 'description': 'Un ancien ingénieur agricole qui connaît parfaitement la flore locale. Claude peut donner des conseils précieux sur comment identifier les plantes comestibles et médicinales dans la forêt voisine.', 'role': ['Botaniste']}], 'Items': [{'name': 'Boussole Magnétique', 'description': 'Une boussole robuste capable de fonctionner même près des matériaux métalliques endommagés présents dans les ruines urbaines. Indispensable pour ne pas perdre son chemin dans les zones dangereuses.', 'quantity': 1}, {'name': 'Couteau Suisse Multi-Fonctions', 'description': 'Outil polyvalent avec plusieurs fonctions telles que cutter, pinces, tournevis et ouvre-boites. Utile pour divers travaux manuels et urgences.', 'quantity': 2}]}\n",
      "\n",
      "\n",
      "Location name: Village des Survivants\n",
      "Descriotion: Ce village représente la dernière bastion de civilisation humaine dans cette région ravagée par les zombies. Protégé derrière des murs solides et surveillé nuit et jour, il sert de refuge sûr pour ses habitants. C'est ici que notre héros partira pour accomplir sa mission critique.\n",
      "Long description: Ce village représente la dernière bastion de civilisation humaine dans cette région ravagée par les zombies. Protégé derrière des murs solides et surveillé nuit et jour, il sert de refuge sûr pour ses habitants. C'est ici que notre héros partira pour accomplir sa mission critique. À proximité, vous pouvez trouver deux autres lieux importants : la Forêt Abandonnée, qui offre un couvert idéal pour rassembler des ressources essentielles, et la Ruine Urbaine, un ancien quartier urbain désormais dangereux mais potentiellement riche en provisions.\n",
      "Characters: [story_ontology3.claude%20lambert, story_ontology3.marcelle%20dupont, story_ontology3.alexandre%20durand, story_ontology3.jean-pierre%20dubois, story_ontology3.Player, story_ontology3.sophie%20moreau, story_ontology3.gilles%20lafitte, story_ontology3.lucas%20martin]\n",
      "Items: [story_ontology3.couteau%20suisse%20multi-fonctions, story_ontology3.boussole%20magn%C3%A9tique, story_ontology3.filtre%20eau%20purificateur, story_ontology3.rations%20alimentaires%20compactes]\n",
      "----*----\n",
      "Name: Forêt Abandonnée\n",
      "[]\n",
      "{'Description': \"Une vaste étendue boisée qui était autrefois peuplée de faune variée avant l'épidémie zombie. Maintenant, elle offre un couvert idéal pour les survivants tentant de collecter des ressources essentielles comme l'eau fraîche et les fruits sauvages. Attention, certains secteurs peuvent contenir des groupes errants de zombies attirés par leur instinct animal.\", 'Characters': [{'name': 'Simon Rousseau', 'description': 'Un chasseur expérimenté qui connaît parfaitement le territoire de la Forêt Abandonnée. Il peut fournir des informations précises sur les zones sécurisées et celles à éviter.', 'role': 'Guide'}], 'Items': [{'name': 'Herbe Médicinale', 'description': 'Plante capable de soigner certaines blessures légères et infections. Très utile en cas de besoin urgent.', 'quantity': 3}, {'name': 'Flèches Enflammables', 'description': 'Des flèches traitées avec une substance inflammable, très efficaces lors des confrontations rapprochées avec les zombies.', 'quantity': 5}]}\n",
      "\n",
      "\n",
      "Location name: Forêt Abandonnée\n",
      "Descriotion: Une vaste étendue boisée qui était autrefois peuplée de faune variée avant l'épidémie zombie. Maintenant, elle offre un couvert idéal pour les survivants tentant de collecter des ressources essentielles comme l'eau fraîche et les fruits sauvages. Attention, certains secteurs peuvent contenir des groupes errants de zombies attirés par leur instinct animal.\n",
      "Long description: Une vaste étendue boisée qui était autrefois peuplée de faune variée avant l'épidémie zombie. Maintenant, elle offre un couvert idéal pour les survivants tentant de collecter des ressources essentielles comme l'eau fraîche et les fruits sauvages. Attention, certains secteurs peuvent contenir des groupes errants de zombies attirés par leur instinct animal.\n",
      "Characters: [story_ontology3.simon%20rousseau]\n",
      "Items: [story_ontology3.gilles%2520lafitte, story_ontology3.fl%C3%A8ches%20enflammables, story_ontology3.herbe%20m%C3%A9dicinale]\n",
      "----*----\n",
      "Name: Ruine Urbaine\n",
      "[]\n",
      "{'Description': 'Un ancien quartier urbain transformé en champ de bataille permanent contre les zombies. Des immeubles écroulés et des rues jonchées de cadavres offrent peu de protection mais beaucoup de dangers. Malgré le chaos ambiant, certains endroits peuvent contenir des provisions précieuses.', 'Characters': [{'name': 'Louis', 'description': \"Ancien ingénieur électrique, Louis connaît parfaitement les systèmes électriques de la ville avant l'invasion zombie. Il pourrait aider le joueur à activer temporairement certaines installations électriques pour créer des distractions ou obtenir de la lumière.\", 'role': 'Ingénieur'}], 'Items': [{'name': 'Radio Cassée', 'description': 'Une radio cassée qui pourrait donner accès à des informations importantes si elle était réparée avec les bons outils. Elle pourrait également servir comme moyen de communication provisoire.', 'quantity': 1}, {'name': 'Sac de Ration', 'description': \"Contenant plusieurs repas rapides et nutritifs conçus pour les situations d'urgence. Utile pour maintenir les forces pendant l'aventure.\", 'quantity': 5}]}\n",
      "\n",
      "\n",
      "Location name: Ruine Urbaine\n",
      "Descriotion: Un ancien quartier urbain transformé en champ de bataille permanent contre les zombies. Des immeubles écroulés et des rues jonchées de cadavres offrent peu de protection mais beaucoup de risques. Pourtant, si on peut y pénétrer discrètement, cela pourrait fournir des provisions précieuses.\n",
      "Long description: Un ancien quartier urbain transformé en champ de bataille permanent contre les zombies. Des immeubles écroulés et des rues jonchées de cadavres offrent peu de protection mais beaucoup de dangers. Malgré le chaos ambiant, certains endroits peuvent contenir des provisions précieuses.\n",
      "Characters: [story_ontology3.louis]\n",
      "Items: [story_ontology3.radio%20cass%C3%A9e, story_ontology3.sac%20de%20ration, story_ontology3.gilles%252520lafitte]\n",
      "----*----\n",
      "Name: Lac Pollué\n",
      "[]\n",
      "{'Description': \"Lac Pollué était autrefois un site touristique populaire. À présent, le lac est fortement contaminé et habité par des zombies aquatiques. Malgré ses dangers, cette région peut offrir un passage stratégique vers d'autres zones. Non loin s'étendent également les vastes espaces forestiers de Forêt Abandonnée, ancien sanctuaire de divers animaux aujourd'hui transformé en refuge pour les survivants recherchant des ressources vitales telles que l'eau fraîche et les fruits sauvages.\", 'Characters': [{'name': 'Victor', 'description': 'Un chasseur expérimenté qui connaît parfaitement les alentours du Lac Pollué. Il peut fournir des informations précises sur les mouvements des zombies aquatiques ainsi que des conseils utiles pour naviguer en sécurité autour du lac.', 'role': ['Chasseur']}], 'Items': [{'name': 'Masque Anti-Gaz', 'description': \"Ce masque protège contre les toxines présentes dans l’air autour du Lac Pollué, rendant possible l'exploration de certaines parties du lac sans risquer une intoxication grave.\", 'quantity': 1}, {'name': 'Harpon Électrique', 'description': \"Utilisé principalement pour repousser les zombies aquatiques lorsqu'ils approchent trop près pendant votre exploration sous-marine. Ce harpon fournit un moyen efficace de défense contre les menaces subaquatiques.\", 'quantity': 1}]}\n",
      "\n",
      "\n",
      "Location name: Lac Pollué\n",
      "Descriotion: Cet endroit était autrefois un site touristique populaire. Aujourd'hui, il est contaminé et infesté de zombies aquatiques. Bien que dangereuse, cette zone pourrait potentiellement servir de point stratégique vers d'autres régions.\n",
      "Long description: Lac Pollué était autrefois un site touristique populaire. À présent, le lac est fortement contaminé et habité par des zombies aquatiques. Malgré ses dangers, cette région peut offrir un passage stratégique vers d'autres zones. Non loin s'étendent également les vastes espaces forestiers de Forêt Abandonnée, ancien sanctuaire de divers animaux aujourd'hui transformé en refuge pour les survivants recherchant des ressources vitales telles que l'eau fraîche et les fruits sauvages.\n",
      "Characters: [story_ontology3.victor]\n",
      "Items: [story_ontology3.masque%20anti-gaz, story_ontology3.harpon%20%C3%A9lectrique]\n",
      "----*----\n",
      "Name: Mine Délaissée\n",
      "[]\n",
      "{'Description': \"Anciennement exploitée pour extraire divers minéraux, aujourd'hui la mine est presque inaccessible et remplie de dangers cachés - incluant des zombies piégés dedans pendant longtemps. Elle pourrait cependant receler des trésors ignorés jusqu'à présent. Cette ancienne structure souterraine sert désormais de refuge accidentel pour plusieurs créatures dangereuses et peut-être même des ressources précieuses.\", 'Characters': [{'name': 'Pierre Laurent', 'description': 'Un ancien mineur qui connaît parfaitement le réseau complexe de tunnels sous terre. Il peut aider le joueur en fournissant des informations clés sur comment naviguer dans la mine sans tomber dans des pièges ou rencontrer trop de zombies.', 'role': 'Guide Minier'}], 'Items': [{'name': 'Plan des Tunnels', 'description': 'Une carte usagée montrant les principaux passages et salles de la mine. Cet objet aide grandement le joueur à éviter les zones infestées de zombies et à localiser rapidement les endroits potentiellement riches en ressources.', 'quantity': 1}, {'name': 'Baril d’Eau Potable', 'description': \"Un baril contenant de l'eau pure provenant d'un puits intérieur de la mine. Très utile pour hydrater le groupe et prolonger leurs chances de survie lors de missions difficiles.\", 'quantity': 20}]}\n",
      "\n",
      "\n",
      "Location name: Mine Délaissée\n",
      "Descriotion: Anciennement exploitée pour extraire divers minéraux, aujourd’hui la mine est presque inaccessible et remplie de dangers cachés - incluant des zombies piégés dedans pendant longtemps. Elle pourrait cependant receler des trésors ignorés jusqu'à présent.\n",
      "Long description: Anciennement exploitée pour extraire divers minéraux, aujourd'hui la mine est presque inaccessible et remplie de dangers cachés - incluant des zombies piégés dedans pendant longtemps. Elle pourrait cependant receler des trésors ignorés jusqu'à présent. Cette ancienne structure souterraine sert désormais de refuge accidentel pour plusieurs créatures dangereuses et peut-être même des ressources précieuses.\n",
      "Characters: [story_ontology3.pierre%20laurent]\n",
      "Items: [story_ontology3.plan%20des%20tunnels, story_ontology3.baril%20d%E2%80%99eau%20potable]\n",
      "----*----\n"
     ]
    }
   ],
   "source": [
    "\n",
    "prompt = PromptTemplate(\n",
    "    template=LOCATION_EXPANSION_PROMPT,\n",
    "    template_format='jinja2'\n",
    ")\n",
    "\n",
    "parser = JsonOutputParser()\n",
    "\n",
    "chain = prompt | model | parser\n",
    "\n",
    "\n",
    "# banned_character_names = all_character_names\n",
    "# banned_item_names = all_item_names\n",
    "\n",
    "\n",
    "for location in onto.Location.instances():\n",
    "    print(f\"Name: {location.hasName}\")\n",
    "    print(location.containsCharacter)\n",
    "\n",
    "    # Prevent LLM from generating the same items over and over.\n",
    "    # This improves creativity, and coherence between prompts, since the LLM is\n",
    "    # at least aware of what kind of items already exist.\n",
    "    banned_item_names = [i.hasName for i in onto.Item.instances()]\n",
    "    banned_character_names = [c.hasName for c in onto.Character.instances()]\n",
    "    used_roles = [c.hasRole for c in onto.Character.instances() if c.hasRole]\n",
    "\n",
    "    # print(prompt.invoke({\"setting\": outline_text,\n",
    "    #                      \"onto\": onto,\n",
    "    #                      \"location\": location,\n",
    "    #                      \"banned_item_names\": banned_item_names,\n",
    "    #                      \"banned_character_names\": banned_character_names,\n",
    "    #                      \"used_roles\": used_roles,\n",
    "    #                      \"language\": language}).text)\n",
    "    # break\n",
    "\n",
    "    res = chain.invoke({\"setting\": outline_text,\n",
    "                        \"onto\": onto,\n",
    "                        \"location\": location,\n",
    "                        \"banned_item_names\": banned_item_names,\n",
    "                        \"banned_character_names\": banned_character_names,\n",
    "                        \"used_roles\": used_roles,\n",
    "                        \"language\": language})\n",
    "\n",
    "    print(res)\n",
    "\n",
    "    # Update KG with this expanded information\n",
    "    # Updated long description\n",
    "    location.hasLongDescription = res.get('Description')\n",
    "    \n",
    "    # New secondary Characters\n",
    "    for char in res.get('Characters'):\n",
    "        char_name = char.get('name')\n",
    "        encoded_char_name = encode_entity_name(char_name)\n",
    "        \n",
    "        character = onto.Character(encoded_char_name)\n",
    "        character.hasName = char_name\n",
    "        character.label = char_name\n",
    "        character.hasDescription = char.get('description')\n",
    "        character.hasRole.append(char.get('role')[0])\n",
    "        character.hasImportance = 'secondary'\n",
    "        character.characterIsLocatedAt = location\n",
    "    \n",
    "    for item_data in res.get('Items'):\n",
    "        item_name = item_data.get('name')\n",
    "        encoded_item_name = encode_entity_name(item_name)\n",
    "        \n",
    "        item = onto.Item(encoded_item_name)\n",
    "        item.hasName = item_name\n",
    "        item.label = item.name\n",
    "        item.hasDescription = item_data.get('description')\n",
    "        item.hasImportance = 'minor'\n",
    "        item.itemIsLocatedAt = location\n",
    "\n",
    "    print('\\n')\n",
    "    print(f\"Location name: {location.hasName}\")\n",
    "    print(f\"Description: {location.hasDescription}\")\n",
    "    print(f\"Long description: {location.hasLongDescription}\")\n",
    "    print(f\"Characters: {location.INDIRECT_containsCharacter}\")\n",
    "    print(f\"Items: {location.INDIRECT_containsItem}\")\n",
    "    print('----*----')"
   ]
  },
  {
   "cell_type": "markdown",
   "metadata": {},
   "source": [
    "# Convert informations to knowledge graph\n",
    "\n",
    "In this step, we convert the JSON-like structured data into entities in an ontology describing the logic of a story world, creating a model for the story we want to generate later."
   ]
  },
  {
   "cell_type": "code",
   "execution_count": 33,
   "metadata": {},
   "outputs": [],
   "source": [
    "with onto:\n",
    "    sync_reasoner"
   ]
  },
  {
   "cell_type": "code",
   "execution_count": 40,
   "metadata": {},
   "outputs": [
    {
     "name": "stdout",
     "output_type": "stream",
     "text": [
      "Marcelle Dupont is located at Village des Survivants\n",
      "Lucas Martin is located at Village des Survivants\n",
      "Gilles Lafitte is located at Village des Survivants\n",
      "Alexandre Durand is located at Village des Survivants\n",
      "Sophie Moreau is located at Village des Survivants\n",
      "Jean-Pierre Dubois is located at Village des Survivants\n",
      "Claude Lambert is located at Village des Survivants\n",
      "Simon Rousseau is located at Forêt Abandonnée\n",
      "Louis is located at Ruine Urbaine\n",
      "Victor is located at Lac Pollué\n",
      "Pierre Laurent is located at Mine Délaissée\n",
      "Village des Survivants contains: [story_ontology3.claude%20lambert, story_ontology3.marcelle%20dupont, story_ontology3.alexandre%20durand, story_ontology3.jean-pierre%20dubois, story_ontology3.Player, story_ontology3.sophie%20moreau, story_ontology3.gilles%20lafitte, story_ontology3.lucas%20martin]\n",
      "Forêt Abandonnée contains: [story_ontology3.simon%20rousseau]\n",
      "Ruine Urbaine contains: [story_ontology3.louis]\n",
      "Lac Pollué contains: [story_ontology3.victor]\n",
      "Mine Délaissée contains: [story_ontology3.pierre%20laurent]\n"
     ]
    }
   ],
   "source": [
    "with onto:\n",
    "    for character in onto.Character.instances():\n",
    "        loc = character.INDIRECT_isLocatedAt\n",
    "\n",
    "        print(f\"{character.hasName} is located at {loc.hasName}\")\n",
    "\n",
    "    \n",
    "    for location in onto.Location.instances():\n",
    "        characters = location.INDIRECT_containsCharacter\n",
    "        print(f\"{location.hasName} contains: {characters}\")"
   ]
  },
  {
   "cell_type": "code",
   "execution_count": 41,
   "metadata": {},
   "outputs": [
    {
     "name": "stdout",
     "output_type": "stream",
     "text": [
      "Marcelle Dupont friends with: [story_ontology3.alexandre%20durand, story_ontology3.lucas%20martin, story_ontology3.marcelle%20dupont, story_ontology3.characterIsLocatedAt.some(story_ontology3.CurrentLocation)]\n",
      "Lucas Martin friends with: [story_ontology3.alexandre%20durand, story_ontology3.lucas%20martin, story_ontology3.marcelle%20dupont, story_ontology3.characterIsLocatedAt.some(story_ontology3.CurrentLocation)]\n",
      "Gilles Lafitte friends with: [story_ontology3.characterIsLocatedAt.some(story_ontology3.CurrentLocation)]\n",
      "Alexandre Durand friends with: [story_ontology3.alexandre%20durand, story_ontology3.lucas%20martin, story_ontology3.marcelle%20dupont, story_ontology3.characterIsLocatedAt.some(story_ontology3.CurrentLocation)]\n",
      "Sophie Moreau friends with: []\n",
      "Jean-Pierre Dubois friends with: []\n",
      "Claude Lambert friends with: []\n",
      "Simon Rousseau friends with: []\n",
      "Louis friends with: []\n",
      "Victor friends with: []\n",
      "Pierre Laurent friends with: []\n"
     ]
    }
   ],
   "source": [
    "with onto:\n",
    "    for character in onto.Character.instances():\n",
    "        print(f'{character.hasName} friends with: {character.INDIRECT_hasFriendshipWith}')"
   ]
  }
 ],
 "metadata": {
  "kernelspec": {
   "display_name": ".venv",
   "language": "python",
   "name": "python3"
  },
  "language_info": {
   "codemirror_mode": {
    "name": "ipython",
    "version": 3
   },
   "file_extension": ".py",
   "mimetype": "text/x-python",
   "name": "python",
   "nbconvert_exporter": "python",
   "pygments_lexer": "ipython3",
   "version": "3.12.5"
  }
 },
 "nbformat": 4,
 "nbformat_minor": 2
}
