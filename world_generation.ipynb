{
 "cells": [
  {
   "cell_type": "code",
   "execution_count": 1,
   "metadata": {},
   "outputs": [],
   "source": [
    "%load_ext autoreload\n",
    "%autoreload"
   ]
  },
  {
   "cell_type": "markdown",
   "metadata": {},
   "source": [
    "Load the LLM"
   ]
  },
  {
   "cell_type": "code",
   "execution_count": 2,
   "metadata": {},
   "outputs": [
    {
     "name": "stdout",
     "output_type": "stream",
     "text": [
      "Loading model...\n"
     ]
    },
    {
     "name": "stderr",
     "output_type": "stream",
     "text": [
      "/Users/frieder/Documents/GitHub/procedural-stories/.venv/lib/python3.12/site-packages/tqdm/auto.py:21: TqdmWarning: IProgress not found. Please update jupyter and ipywidgets. See https://ipywidgets.readthedocs.io/en/stable/user_install.html\n",
      "  from .autonotebook import tqdm as notebook_tqdm\n",
      "Fetching 12 files: 100%|██████████| 12/12 [00:00<00:00, 187804.66it/s]\n"
     ]
    },
    {
     "name": "stdout",
     "output_type": "stream",
     "text": [
      "Model loaded.\n"
     ]
    }
   ],
   "source": [
    "from langchain_core.prompts import PromptTemplate\n",
    "from langchain_core.output_parsers import JsonOutputParser\n",
    "from langchain_community.llms.mlx_pipeline import MLXPipeline\n",
    "from langchain_community.chat_models.mlx import ChatMLX\n",
    "from langchain.callbacks.tracers import ConsoleCallbackHandler\n",
    "from langchain.globals import set_verbose\n",
    "from langchain.globals import set_debug\n",
    "\n",
    "#set_debug(True)\n",
    "#set_verbose(True)\n",
    "\n",
    "print('Loading model...')\n",
    "# Load model from huggingface, using the MLX framework to take advantage of Apple Silicon\n",
    "llm = MLXPipeline.from_model_id(\n",
    "    #\"mlx-community/Meta-Llama-3.1-8B-Instruct-8bit\",\n",
    "    #\"mlx-community/Meta-Llama-3.1-8B-Instruct-bf16\",\n",
    "    \"mlx-community/Qwen2.5-32B-Instruct-4bit\", # Let's try using a larger model, see if that improves results\n",
    "    #\"mlx-community/Llama-3.2-3B-Instruct-8bit\",\n",
    "    pipeline_kwargs={\"max_tokens\": 2048, \"temp\": 0.2, \"repetition_penalty\":1.2},\n",
    ")\n",
    "\n",
    "# Setup verbose mode: https://stackoverflow.com/a/77629872/10914628\n",
    "model = ChatMLX(llm=llm, verbose=True)#.with_config({'callbacks': [ConsoleCallbackHandler()]})\n",
    "print('Model loaded.')\n"
   ]
  },
  {
   "cell_type": "markdown",
   "metadata": {},
   "source": [
    "Load the ontology"
   ]
  },
  {
   "cell_type": "code",
   "execution_count": 3,
   "metadata": {},
   "outputs": [],
   "source": [
    "from owlready2 import *\n",
    "\n",
    "onto = get_ontology('file://story_ontology3.rdf').load()"
   ]
  },
  {
   "cell_type": "code",
   "execution_count": 4,
   "metadata": {},
   "outputs": [
    {
     "name": "stdout",
     "output_type": "stream",
     "text": [
      "OK\n"
     ]
    }
   ],
   "source": [
    "# Verify that there are no instances in the ontology (start with a clean ontology containg only the T-Box)\n",
    "\n",
    "with onto:\n",
    "    instances = list(Thing.instances())\n",
    "    \n",
    "    if len(instances) > 0:\n",
    "        for thing in instances:\n",
    "            print(thing)\n",
    "        raise ValueError('Ontology already contains individuals')\n",
    "    \n",
    "    print('OK')"
   ]
  },
  {
   "cell_type": "code",
   "execution_count": 5,
   "metadata": {},
   "outputs": [],
   "source": [
    "from urllib.parse import quote, unquote\n",
    "\n",
    "def encode_entity_name(name: str) -> str:\n",
    "    return quote(name.lower())\n",
    "\n",
    "def decode_entity_name(encoded_name: str) -> str:\n",
    "    return unquote(encoded_name)"
   ]
  },
  {
   "cell_type": "code",
   "execution_count": 6,
   "metadata": {},
   "outputs": [],
   "source": [
    "from Levenshtein import distance\n",
    "\n",
    "def find_levenshtein_match(string: str, entity_list: list, threshold: int = 5):\n",
    "    \"\"\"Find a match amongst a list of entities from the ontology, in case the LLM made slight typos !\"\"\"\n",
    "    minimum = threshold\n",
    "    closest_entity = None\n",
    "    for entity in entity_list:\n",
    "        dist = distance(string, entity.hasName)\n",
    "        if dist < minimum:\n",
    "            minimum = dist\n",
    "            closest_entity = entity\n",
    "    return closest_entity"
   ]
  },
  {
   "cell_type": "markdown",
   "metadata": {},
   "source": [
    "Define the setting of the story"
   ]
  },
  {
   "cell_type": "code",
   "execution_count": 7,
   "metadata": {},
   "outputs": [],
   "source": [
    "#setting = \"Normandie viking du 9e siècle\"\n",
    "setting = \"post-apocalypse zombie mondiale, 1 an après le début de l'épidémie\"\n",
    "language = \"french\""
   ]
  },
  {
   "cell_type": "markdown",
   "metadata": {},
   "source": [
    "# 1. Generate the outline of the story world"
   ]
  },
  {
   "cell_type": "code",
   "execution_count": 8,
   "metadata": {},
   "outputs": [],
   "source": [
    "OUTLINE_TEXT_PROMPT = \"\"\"\n",
    "You are the master writer tasked with creating a vibrant world specifically made to host a text adventure game for a player.\n",
    "Write a few paragraphs describing the world of the story following the given narrative setting:\n",
    "\n",
    "{{ setting }}\n",
    "\n",
    "Your text should be quite short, concise and descriptive.\n",
    "Your staff will use this text as the story world bible, they will write the characters, locations and specific events.\n",
    "You should direct them as precisely as possible to create as coherent and unified world for the player to explore.\n",
    "Define the player's role in this world, as well as a high level, open but concrete goal, conflict and motivations.\n",
    "Write your output in {{ language }}.\n",
    "\"\"\""
   ]
  },
  {
   "cell_type": "code",
   "execution_count": 9,
   "metadata": {},
   "outputs": [
    {
     "name": "stdout",
     "output_type": "stream",
     "text": [
      "Dans un monde post-apocalyptique envahi par les zombies une année après la propagation fulgurante d'une étrange maladie virale, seuls quelques poches de résistance humaine subsistent dans des bunkers fortifiés ou des zones urbaines barricadées. La nature reprend ses droits sur ce qui reste du paysage dévasté : bâtiments en ruines, routes jonchées de carcasses et végétation rampant à travers les rues désertes.\n",
      "\n",
      "Le joueur incarne un survivant aguerri ayant survécu aux premières semaines chaotiques de l'infection. Son objectif est double : trouver un remède pour stopper définitivement cette pandémie zombiétique tout en cherchant refuge auprès d'autres rescapés pour former une communauté viable face au fléau ambulant. Le conflit majeur réside non seulement dans l'affrontement constant avec ces créatures infectées mais aussi entre factions rivales de survivants chacune poursuivant leurs propres intérêts souvent contradictoires.\n",
      "\n",
      "La motivation première du personnage principal sera donc celle de sauver autant que faire se peut ceux qui restent indemnes de cet affreux sort alors qu'autour de lui s'étend désormais un océan de mort-vivants erratiques.\n"
     ]
    }
   ],
   "source": [
    "\n",
    "prompt = PromptTemplate(\n",
    "    template=OUTLINE_TEXT_PROMPT,\n",
    "    template_format='jinja2'\n",
    ")\n",
    "\n",
    "chain = prompt | model\n",
    "\n",
    "outline_text = chain.invoke({'setting': setting, 'language': language}).content\n",
    "\n",
    "print(outline_text)"
   ]
  },
  {
   "cell_type": "markdown",
   "metadata": {},
   "source": [
    "# 2. Generate locations"
   ]
  },
  {
   "cell_type": "code",
   "execution_count": 10,
   "metadata": {},
   "outputs": [],
   "source": [
    "LOCATIONS_GENERATION_PROMPT = \"\"\"\n",
    "You are the master world writer for an interactive fiction.\n",
    "On the basis of the given narrative context, create a list of locations in the world, which will be scenes in the IF.\n",
    "Define at least 4 to 5 main locations, as well as intermediate locations if pertinent.\n",
    "Your staff will use your work to refine each location, so you should make sure each location incoporates sufficient information for them to do so !\n",
    "You must take utmost care in creating a logical topology with no islands and coherent connections.\n",
    "Always refer to other locations using their \"name\" property in the links ! **You should define all locations mentioned in the links.**\n",
    "\n",
    "Output your work in the following JSON format:\n",
    "```json\n",
    "    \"Locations\": [\n",
    "        {\n",
    "            \"name\": \"Suchandsuch Town\",\n",
    "            \"importance\": \"Either 'major' or 'minor', this annotation will influence how your staff will detail the\"\n",
    "            \"description\": \"Description en quelques phrases du lieu, incorporant son atmosphère, son importance dans l'histoire et tout élément notable qui pourrait influencer les événements ou les personnages.\",\n",
    "            \"links\": [\"Chateau thing\"]\n",
    "        },\n",
    "        {\n",
    "            \"name\": \"Chateau thing\",\n",
    "            \"importance\": \"Either 'major' or 'minor', this annotation will influence how your staff will detail the\"\n",
    "            \"description\": \"Description en quelques phrases du lieu, incorporant son atmosphère, son importance dans l'histoire et tout élément notable qui pourrait influencer les événements ou les personnages.\",\n",
    "            \"links\": [\"Suchandsuch Town\", \"Nom d'un autre lieu\"]\n",
    "        },\n",
    "        ...\n",
    "    ],\n",
    "```\n",
    "\n",
    "Narrative context:\n",
    "{{ context }}\n",
    "\n",
    "Your output JSON values should always be in {{ language }}\n",
    "\"\"\""
   ]
  },
  {
   "cell_type": "code",
   "execution_count": 11,
   "metadata": {},
   "outputs": [
    {
     "data": {
      "text/plain": [
       "[{'name': 'Ville Fantôme',\n",
       "  'importance': 'major',\n",
       "  'description': \"Une ancienne ville maintenant abandonnée où les zombies errent librement. Les immeubles sont partiellement effondrés et les voitures calcinées parsèment les rues. C'est ici que commence notre histoire, endroit dangereux mais potentiellement rempli de ressources utiles.\",\n",
       "  'links': ['Bunker Souterrain', 'Forêt Délaissée']},\n",
       " {'name': 'Bunker Souterrain',\n",
       "  'importance': 'major',\n",
       "  'description': \"Un bunker militaire secret construit avant même la catastrophe. Il abrite actuellement une petite communauté de survivants qui ont réussi à y entrer juste avant sa fermeture automatique. L'eau potable et la nourriture sont limitées, mais il offre une protection contre les attaques extérieures.\",\n",
       "  'links': ['Ville Fantôme', 'Laboratoire Abandonné']},\n",
       " {'name': 'Forêt Délaissée',\n",
       "  'importance': 'minor',\n",
       "  'description': 'Cette zone boisée entoure presque toute la Ville Fantôme. Bien que moins peuplée de zombies, elle recèle également des dangers tels que des animaux féroces et des groupes hostiles de survivants. Elle fournit cependant des ressources essentielles comme le bois et certains aliments comestibles.',\n",
       "  'links': ['Ville Fantôme', 'Ruine Industrielle']},\n",
       " {'name': 'Laboratoire Abandonné',\n",
       "  'importance': 'major',\n",
       "  'description': \"Ancien centre de recherche médicale qui aurait travaillé sur la maladie zombie peu avant l'épidémie. Ses archives peuvent contenir des informations cruciales pour comprendre comment arrêter la propagation. Toutefois, le laboratoire n'a pas été sécurisé correctement lorsqu'il fut fermé précipitamment ; on trouve encore des expériences en cours et des risques biologiques importants.\",\n",
       "  'links': ['Bunker Souterrain', 'Ruine Industrielle']},\n",
       " {'name': 'Ruine Industrielle',\n",
       "  'importance': 'minor',\n",
       "  'description': \"Les vestiges d'une usine moderne dont certaines machines fonctionnent toujours grâce à des générateurs solaires. Cette zone attire beaucoup de zombies car ils sentent la présence d'être vivants. Néanmoins, si vous pouvez naviguer autour des pièges mécaniques et des cadavres putrides, cela pourrait être un bon point stratégique pour rassembler des matériaux.\",\n",
       "  'links': ['Forêt Délaissée', 'Laboratoire Abandonné']}]"
      ]
     },
     "execution_count": 11,
     "metadata": {},
     "output_type": "execute_result"
    }
   ],
   "source": [
    "prompt = PromptTemplate(\n",
    "    template=LOCATIONS_GENERATION_PROMPT,\n",
    "    template_format='jinja2'\n",
    ")\n",
    "\n",
    "parser = JsonOutputParser()\n",
    "\n",
    "chain = prompt | model | parser\n",
    "\n",
    "locations_output = chain.invoke({\n",
    "    'context': outline_text,\n",
    "    'language': language\n",
    "})\n",
    "\n",
    "location_outlines = locations_output['Locations']\n",
    "\n",
    "location_outlines"
   ]
  },
  {
   "cell_type": "markdown",
   "metadata": {},
   "source": [
    "Let's try to directly append new information to the KG as we go"
   ]
  },
  {
   "cell_type": "code",
   "execution_count": 12,
   "metadata": {},
   "outputs": [
    {
     "name": "stdout",
     "output_type": "stream",
     "text": [
      "Created Location entity Ville Fantôme\n",
      "Created Location entity Bunker Souterrain\n",
      "Created Location entity Forêt Délaissée\n",
      "Created Location entity Laboratoire Abandonné\n",
      "Created Location entity Ruine Industrielle\n"
     ]
    }
   ],
   "source": [
    "# Add the generated locations to the KG\n",
    "with onto:\n",
    "    # Create each location entity in the graph\n",
    "    for loc in location_outlines:\n",
    "        uri = encode_entity_name(loc.get('name'))\n",
    "        location = onto.Location(uri)\n",
    "        \n",
    "        location.label = loc.get('name')\n",
    "        location.hasName = loc.get('name')\n",
    "        location.hasDescription = loc.get('description')\n",
    "\n",
    "        print(f'Created Location entity {loc.get('name')}')\n",
    "    \n",
    "    # Connect each location based on their \"links\" property\n",
    "    for loc in location_outlines:\n",
    "        location = find_levenshtein_match(loc.get('name'), onto.Location.instances())\n",
    "        links = loc.get('links')\n",
    "\n",
    "        #location.isLinkedToLocation = []\n",
    "        \n",
    "        for other_location_name in links:\n",
    "            other_uri = encode_entity_name(other_location_name)\n",
    "            \n",
    "            # link Location entities using the isLinkedToLocation property (symmetrical)\n",
    "            other_location = find_levenshtein_match(other_location_name, onto.Location.instances())\n",
    "            \n",
    "            # Check if the other location exists in the ontology\n",
    "            if other_location is not None:\n",
    "                # Link the locations using the isLinkedToLocation property\n",
    "                location.isLinkedToLocation.append(other_location)\n",
    "            else:\n",
    "                # Print a warning or handle the missing location case as needed\n",
    "                print(f\"Warning: Location '{other_location_name}' with URI '{other_uri}' not found in ontology.\")\n"
   ]
  },
  {
   "cell_type": "markdown",
   "metadata": {},
   "source": [
    "Verify that the connections were made successfully"
   ]
  },
  {
   "cell_type": "code",
   "execution_count": 13,
   "metadata": {},
   "outputs": [
    {
     "name": "stdout",
     "output_type": "stream",
     "text": [
      "Ville Fantôme is connected to: ['Forêt Délaissée', 'Bunker Souterrain']\n",
      "Bunker Souterrain is connected to: ['Ville Fantôme', 'Laboratoire Abandonné']\n",
      "Forêt Délaissée is connected to: ['Ville Fantôme', 'Ruine Industrielle']\n",
      "Laboratoire Abandonné is connected to: ['Bunker Souterrain', 'Ruine Industrielle']\n",
      "Ruine Industrielle is connected to: ['Laboratoire Abandonné', 'Forêt Délaissée']\n"
     ]
    }
   ],
   "source": [
    "with onto:\n",
    "    for location in onto.Location.instances():\n",
    "        print(f'{location.hasName} is connected to: {[l.hasName for l in location.INDIRECT_isLinkedToLocation]}')"
   ]
  },
  {
   "cell_type": "code",
   "execution_count": 14,
   "metadata": {},
   "outputs": [
    {
     "name": "stdout",
     "output_type": "stream",
     "text": [
      "Ville Fantôme: Une ancienne ville maintenant abandonnée où les zombies errent librement. Les immeubles sont partiellement effondrés et les voitures calcinées parsèment les rues. C'est ici que commence notre histoire, endroit dangereux mais potentiellement rempli de ressources utiles.\n",
      "Bunker Souterrain: Un bunker militaire secret construit avant même la catastrophe. Il abrite actuellement une petite communauté de survivants qui ont réussi à y entrer juste avant sa fermeture automatique. L'eau potable et la nourriture sont limitées, mais il offre une protection contre les attaques extérieures.\n",
      "Forêt Délaissée: Cette zone boisée entoure presque toute la Ville Fantôme. Bien que moins peuplée de zombies, elle recèle également des dangers tels que des animaux féroces et des groupes hostiles de survivants. Elle fournit cependant des ressources essentielles comme le bois et certains aliments comestibles.\n",
      "Laboratoire Abandonné: Ancien centre de recherche médicale qui aurait travaillé sur la maladie zombie peu avant l'épidémie. Ses archives peuvent contenir des informations cruciales pour comprendre comment arrêter la propagation. Toutefois, le laboratoire n'a pas été sécurisé correctement lorsqu'il fut fermé précipitamment ; on trouve encore des expériences en cours et des risques biologiques importants.\n",
      "Ruine Industrielle: Les vestiges d'une usine moderne dont certaines machines fonctionnent toujours grâce à des générateurs solaires. Cette zone attire beaucoup de zombies car ils sentent la présence d'être vivants. Néanmoins, si vous pouvez naviguer autour des pièges mécaniques et des cadavres putrides, cela pourrait être un bon point stratégique pour rassembler des matériaux.\n"
     ]
    }
   ],
   "source": [
    "with onto:\n",
    "    for location in onto.Location.instances():\n",
    "        print(f'{location.hasName}: {location.hasDescription}')"
   ]
  },
  {
   "cell_type": "code",
   "execution_count": 15,
   "metadata": {},
   "outputs": [
    {
     "data": {
      "image/png": "[encoded data removed]",
      "text/plain": [
       "<Figure size 1000x800 with 1 Axes>"
      ]
     },
     "metadata": {},
     "output_type": "display_data"
    }
   ],
   "source": [
    "import networkx as nx\n",
    "import matplotlib.pyplot as plt\n",
    "\n",
    "def display_location_relationships(locations: onto.Location):\n",
    "    # Create a graph\n",
    "    G = nx.Graph()\n",
    "\n",
    "    # Add nodes and edges\n",
    "    for location in locations:\n",
    "        G.add_node(location.hasName)  # Add each location as a node\n",
    "        for related_location in location.INDIRECT_isLinkedToLocation:\n",
    "            # Create edges for relationships\n",
    "            G.add_edge(location.hasName, related_location.hasName)\n",
    "\n",
    "    # Draw the graph\n",
    "    plt.figure(figsize=(10, 8))\n",
    "    pos = nx.spring_layout(G)  # Positioning of the graph\n",
    "\n",
    "    # Draw nodes, edges, and labels\n",
    "    nx.draw(G, pos,\n",
    "            with_labels=True,\n",
    "            node_color='lightblue',\n",
    "            node_size=2000,\n",
    "            font_size=10,\n",
    "            font_weight='bold',\n",
    "            edge_color='gray')\n",
    "    plt.title('Location Relationship Graph')\n",
    "    plt.show()\n",
    "\n",
    "with onto:\n",
    "    display_location_relationships(onto.Location.instances())"
   ]
  },
  {
   "cell_type": "markdown",
   "metadata": {},
   "source": [
    "Structure works, it's a hub structure with linear branches. This is good enough ! The topology makes sense regarding the relationships of locations.\n",
    "Extra points for the water structure"
   ]
  },
  {
   "cell_type": "markdown",
   "metadata": {},
   "source": [
    "## Generate a structured outline of the story from the outline text and generated locations"
   ]
  },
  {
   "cell_type": "code",
   "execution_count": 16,
   "metadata": {},
   "outputs": [],
   "source": [
    "STORY_OUTLINE_PROMPT = \"\"\"\n",
    "# Instructions pour la génération\n",
    "Vous êtes le scénariste de l'histoire pour une aventure textuelle générative.\n",
    "Sur la base du contexte narratif et des lieux qui composent le monde ci-dessous, générez les grandes lignes d'une histoire possible en tenant créant les éléments suivants :\n",
    "\n",
    "    Joueur : Établir la position et le rôle du joueur dans l'histoire, en précisant leur identité, leurs motivations et leur lien avec les personnages principaux. Décrire le point de départ du joueur et son rôle dans le récit global.\n",
    "    Personnages: Etablir une liste d'au moins **3 à 5** personnages principaux de l'histoire, sans rentrer dans trop de détails mais en évoquant leur fonction narrative et leurs relations (entre eux et avec le joueur). Veille à établir au moins un antagoniste principal.\n",
    "    Objectif : Définir l'objectif global du joueur, en précisant le problème principal à résoudre ou l'enjeu narratif qui motive l'action.\n",
    "    Événements : Décrire au moins 1 à 3 événements clés qui alimentent l'histoire et doivent être déclenchés par l'action du joueur.\n",
    "    Objets : Générer uniquement les éléments essentiels nécessaires pour compléter l'histoire (objets de quête) si c'est mentionné dans le contexte narratif, en incluant : Un nom et une description de chaque objet, avec sa fonction dans le récit. Indiquer le lieu où se trouve chaque objet, en s'assurant qu'il s'intègre logiquement dans le monde.\n",
    "    Commentaires : Inclure tout commentaire supplémentaire qui pourrait guider la génération de détails supplémentaires ou éclaircir des éléments importants de l'histoire.\n",
    "\n",
    "# Format de sortie\n",
    "D'abord, raisonner sur le contexte narratif donné et son importance pour la cohérence du monde et de l'histoire, l'intrigue principale (qui doit être de nature ouverte), et les relations des personnages.\n",
    "Fournir les éléments dans un fichier json structuré selon le format suivant:\n",
    "{\n",
    "    \"Player\": {\n",
    "        \"name\": \"Donner le nom du personnage qu'incarne le joueur\",\n",
    "        \"description\": \"Description en quelques phrases du personnage qu'incarne le joueur\",\n",
    "        \"location\": \"Nom du lieu de départ de l'histoire\"\n",
    "    },\n",
    "    \"Characters\": [\n",
    "        {\n",
    "            \"name\": \"Nom propre du personnage 1\",\n",
    "            \"description\": \"description en une phrase du personnage, incorporant son rôle et sa fonction dans l'histoire, et sa relation aux autres personnages.\",\n",
    "            \"location\": \"Nom du lieu ou se trouve le personnage\"\n",
    "        },\n",
    "        ...\n",
    "    ],\n",
    "    \"Goal\": {\n",
    "        \"description\": \"description du problème ou de l'enjeu qui motive le joueur. La résolution du jeu doit rester ouverte\"\n",
    "        \"requiresItem\": \"(FACULTATIF) S'il un objet qui est le centre de l'histoire et doit être récupéré pour gagner, l'indiquer ici. Sinon, omettre ce champs.\"\n",
    "    },\n",
    "    \"Events\": [\n",
    "        {\n",
    "            \"name\": \"Evènement 1\",\n",
    "            \"description\": \"description de l'évènement\",\n",
    "            \"condition\": \"description de la condition qui déclenche l'évènement (devrait être déclenché par l'action du joueur !)\",\n",
    "            \"consequence\": \"Description d'une ou plusieurs conséquences à l'évènement. Ces conséquences doivent être concrètes pour le joueur\"\n",
    "        },\n",
    "        ...\n",
    "    ],\n",
    "    \"Items\": [\n",
    "        {\n",
    "            \"name\": \"Nom de l'objet\",\n",
    "            \"description\": \"description courte de l'objet et de sa fonction dans le récit\",\n",
    "            \"location\": \"(OBLIGATOIRE) Nom du lieu qui contient l'objet\"\n",
    "        },\n",
    "        ...\n",
    "    ],\n",
    "    \"Comments\": [\n",
    "        \"Tout commentaire que tu voudrais ajouter pour guider la génération de détails supplémentaires et pendant le jeu. Sois précis plus que général: donne des commentaires qui peuvent être exploités. Des éléments importants de l'histoire\"\n",
    "    ]\n",
    "}\n",
    "\n",
    "# Lieux du monde\n",
    "{%- for location in locations %}\n",
    "- \"{{location.hasName}}\": {{location.hasDescription}}\n",
    "  \"{{location.hasName}}\" mène à {%- for loc in location.INDIRECT_isLinkedToLocation %} \"{{loc.hasName}}\" {%- endfor %}\n",
    "{%- endfor %}\n",
    "\n",
    "# Contexte narratif\n",
    "{{ setting }}\n",
    "\n",
    "Rappel: Ne répète pas les lieux du monde. Ton objectif est de développer une histoire qui fonctionne dans ce monde. N'ajoute que des éléments nouveaux dans le JSON. Fournis seulement les informations sur le joueur, son objectif, les personnages principaux, les évènements principaux, les éventuels objets principaux.\n",
    "Ecris en {{language}}, sauf pour les clés JSON qui doivent rester comme dans l'exemple.\n",
    "\n",
    "# Résultat\n",
    "\"\"\""
   ]
  },
  {
   "cell_type": "code",
   "execution_count": 17,
   "metadata": {},
   "outputs": [],
   "source": [
    "prompt = PromptTemplate(\n",
    "    template=STORY_OUTLINE_PROMPT,\n",
    "    template_format='jinja2'\n",
    ")\n",
    "\n",
    "parser = JsonOutputParser()\n",
    "\n",
    "chain = prompt | model | parser\n",
    "\n",
    "with onto:\n",
    "    # print(prompt.invoke({\n",
    "    #     'setting': outline_text,\n",
    "    #     'language': language,\n",
    "    #     'locations': onto.Location.instances()\n",
    "    # }).text)\n",
    "    story_outline = chain.invoke({\n",
    "        'setting': outline_text,\n",
    "        'language': language,\n",
    "        'locations': onto.Location.instances()\n",
    "    })"
   ]
  },
  {
   "cell_type": "code",
   "execution_count": 18,
   "metadata": {},
   "outputs": [
    {
     "data": {
      "text/plain": [
       "{'Player': {'name': 'Alexandre Durand',\n",
       "  'description': 'Un ingénieur civil ayant acquis une expertise inattendue dans la survie post-zombie durant les premiers mois de l’épidémie. Motivé par la volonté de restaurer quelque chose de semblable à la vie normale et convaincu qu’un remède existe.',\n",
       "  'location': 'Ville Fantôme'},\n",
       " 'Characters': [{'name': 'Marcelle Dupont',\n",
       "   'description': 'Une médecin chercheuse qui avait travaillé dans le Laboratoire Abandonné. Connaît bien Alexandre et croit en son projet. Se cache dans le Bunker Souterrain.',\n",
       "   'location': 'Bunker Souterrain'},\n",
       "  {'name': 'Victor Lafleur',\n",
       "   'description': 'L’ancien chef de sécurité du Bunker Souterrain. Jaloux des compétences d’Alexandre et sceptique quant à l’utilité de rechercher un remède plutôt que de protéger le groupe existant.',\n",
       "   'location': 'Bunker Souterrain'},\n",
       "  {'name': 'Sophia Martin',\n",
       "   'description': 'Une jeune scientifique qui était étudiante sous Marcelle avant l’invasion. A découvert des indices prometteurs dans le Laboratoire Abandonné mais manque de confiance en soi pour continuer seule.',\n",
       "   'location': 'Laboratoire Abandonné'}],\n",
       " 'Goal': {'description': 'Trouver un moyen de mettre fin à l’épidémie zombie afin de permettre aux survivants de reconstruire une société stable et sûre.'},\n",
       " 'Events': [{'name': 'Rencontre initiale',\n",
       "   'description': 'Alexandre rencontre Sophia dans Forêt Délaissée.',\n",
       "   'condition': \"Après avoir exploré 'Ville Fantôme'.\",\n",
       "   'consequence': 'Sophia décide de rejoindre Alexandre.'},\n",
       "  {'name': 'Confrontation interne',\n",
       "   'description': 'Les tensions montent lorsque Victor découvre les plans d’Alexandre pour explorer le Labo.',\n",
       "   'condition': 'Suite à la décision d’explorer le labo.',\n",
       "   'consequence': 'Victor essaiera de saboter les efforts d’Alexandre'},\n",
       "  {'name': 'Révélation finale',\n",
       "   'description': \"Des documents trouvés dans le Labo indiquent la possibilité d'un vaccin.\",\n",
       "   'condition': 'Exploration complète du Labo.',\n",
       "   'consequence': 'Nouvelle direction vers la production d’une solution'}],\n",
       " 'Items': [{'name': 'Manuscrit Médical',\n",
       "   'description': 'Notes personnelles de Marcelle concernant des traitements possibles.',\n",
       "   'location': 'Laboratoire Abandonné'},\n",
       "  {'name': 'Équipement Expérimental',\n",
       "   'description': 'Matériel nécessaire pour tester des théories médicales.',\n",
       "   'location': 'Laboratoire Abandonné'}],\n",
       " 'Comments': [\"Soyez attentifs aux interactions sociales entre les personnages; elles jouent un grand rôle dans la progression de l'histoire.\"]}"
      ]
     },
     "execution_count": 18,
     "metadata": {},
     "output_type": "execute_result"
    }
   ],
   "source": [
    "story_outline"
   ]
  },
  {
   "cell_type": "markdown",
   "metadata": {},
   "source": [
    "Add the new items to the KG"
   ]
  },
  {
   "cell_type": "code",
   "execution_count": 19,
   "metadata": {},
   "outputs": [],
   "source": [
    "with onto:\n",
    "    for event_data in story_outline.get('Events'):\n",
    "        \n",
    "        event_name = event_data.get('name')\n",
    "        encoded_event_name = encode_entity_name(event_name)\n",
    "        \n",
    "        event = onto.Event(event_name)\n",
    "        event.hasName = event_name\n",
    "        event.label = event_name\n",
    "        event.hasDescription = event_data.get('description')\n",
    "        event.hasCondition = event_data.get('condition')\n",
    "        event.hasConsequence = event_data.get('consequence')\n"
   ]
  },
  {
   "cell_type": "code",
   "execution_count": 20,
   "metadata": {},
   "outputs": [],
   "source": [
    "with onto:\n",
    "    for char in story_outline.get('Characters'):\n",
    "        # First, make sure the location is correct\n",
    "        loc_name = char.get('location')\n",
    "        character_location = find_levenshtein_match(loc_name, onto.Location.instances())\n",
    "        \n",
    "        if not character_location:\n",
    "            print(f\"Warning: {name}'s location {loc_name} not found in ontology. \")\n",
    "            continue\n",
    "        \n",
    "        # Create new character\n",
    "        name = char.get('name')\n",
    "        encoded_name = encode_entity_name(name)\n",
    "        \n",
    "        character = onto.Character(encoded_name)\n",
    "\n",
    "        character.hasName = name\n",
    "        character.label = name\n",
    "        character.hasDescription = char.get('description')\n",
    "        character.hasImportance = 'main character' \n",
    "        character.characterIsLocatedAt = character_location\n"
   ]
  },
  {
   "cell_type": "code",
   "execution_count": 21,
   "metadata": {},
   "outputs": [
    {
     "name": "stdout",
     "output_type": "stream",
     "text": [
      "7\n",
      "7\n"
     ]
    }
   ],
   "source": [
    "# Problématique, n'est-ce pas ?\n",
    "print(distance('Centreville Commerciale Abandonnée', 'Centre Commercial Abandonné'))\n",
    "print(distance('Laboratoire Secret', 'Sanctuaire Secret'))"
   ]
  },
  {
   "cell_type": "code",
   "execution_count": 22,
   "metadata": {},
   "outputs": [
    {
     "name": "stdout",
     "output_type": "stream",
     "text": [
      "Ville Fantôme: []\n",
      "Bunker Souterrain: ['Marcelle Dupont', 'Victor Lafleur']\n",
      "Forêt Délaissée: []\n",
      "Laboratoire Abandonné: ['Sophia Martin']\n",
      "Ruine Industrielle: []\n"
     ]
    }
   ],
   "source": [
    "# Verify results\n",
    "with onto:\n",
    "    #sync_reasoner()\n",
    "    for loc in onto.Location.instances():\n",
    "        print(f\"{loc.hasName}: {[char.hasName for char in loc.containsCharacter]}\")"
   ]
  },
  {
   "cell_type": "code",
   "execution_count": 23,
   "metadata": {},
   "outputs": [
    {
     "name": "stdout",
     "output_type": "stream",
     "text": [
      "[story_ontology3.sophia%2520martin]\n",
      "[story_ontology3.sophia%2520martin, story_ontology3.sophia%252520martin]\n"
     ]
    }
   ],
   "source": [
    "for item_data in story_outline.get('Items'):\n",
    "    item_name = item_data.get('name')\n",
    "    encoded_name = encode_entity_name(encoded_name)\n",
    "    \n",
    "    item = onto.Item(encoded_name)\n",
    "    item.hasName = item_name\n",
    "    item.label = item_name\n",
    "    item.hasDescription = item_data.get('description')\n",
    "    item.hasQuantity = item_data.get('quantity', 1)\n",
    "    item.hasImportance = 'major'\n",
    "    \n",
    "    item_location_name = item_data.get('location')\n",
    "    \n",
    "    # Find the location among existing locations using fuzzy matching (using Levenshtein distance)\n",
    "    item_location = find_levenshtein_match(item_location_name, onto.Location.instances())\n",
    "    \n",
    "    if not item_location:\n",
    "        print(f\"Warning: item's location {item_location_name} not found in ontology.\")\n",
    "    \n",
    "    item_location.containsItem.append(item)\n",
    "    print(item_location.containsItem)\n",
    "    "
   ]
  },
  {
   "cell_type": "code",
   "execution_count": 24,
   "metadata": {},
   "outputs": [
    {
     "name": "stdout",
     "output_type": "stream",
     "text": [
      "Name: Manuscrit Médical\n",
      "Description: Notes personnelles de Marcelle concernant des traitements possibles.\n",
      "Importance: major\n",
      "Location: Laboratoire Abandonné\n",
      "\n",
      "Name: Équipement Expérimental\n",
      "Description: Matériel nécessaire pour tester des théories médicales.\n",
      "Importance: major\n",
      "Location: Laboratoire Abandonné\n",
      "\n"
     ]
    }
   ],
   "source": [
    "# Verify items\n",
    "# with onto:\n",
    "#     sync_reasoner()\n",
    "#     pass\n",
    "\n",
    "for item in onto.Item.instances():\n",
    "    print(f\"Name: {item.hasName}\")\n",
    "    print(f\"Description: {item.hasDescription}\")\n",
    "    print(f\"Importance: {item.hasImportance}\")\n",
    "    print(f\"Location: {item.INDIRECT_isLocatedAt.hasName}\\n\")\n"
   ]
  },
  {
   "cell_type": "code",
   "execution_count": 25,
   "metadata": {},
   "outputs": [],
   "source": [
    "# Player\n",
    "with onto:\n",
    "    # Create the Player entity\n",
    "    player_data = story_outline.get('Player')\n",
    "    player_name = player_data.get('name')\n",
    "    encoded_name = encode_entity_name(player_name)\n",
    "    \n",
    "    player = onto.Player(encoded_name)\n",
    "    player.hasName = player_name\n",
    "    player.label = player_name\n",
    "    player.hasDescription = player_data.get('description')\n",
    "    player.hasImportance = 'Player'\n",
    "    \n",
    "    # Give the player its location\n",
    "    player_location_name = player_data.get('location')\n",
    "    \n",
    "    player_location = find_levenshtein_match(player_location_name, onto.Location.instances())\n",
    "    \n",
    "    if player_location:\n",
    "        player.characterIsLocatedAt = player_location\n",
    "    else:\n",
    "        print(f\"Warning: {player_name}'s location {player_location_name} not found in ontology. \")\n",
    "        \n",
    "    \n",
    "    # Create the player's Goal entity\n",
    "    goal_description = story_outline.get('Goal').get('description')\n",
    "    \n",
    "    goal = onto.Goal('player_goal')\n",
    "    goal.label = 'Player goal'\n",
    "    goal.hasDescription = goal_description\n",
    "    \n",
    "    player.hasGoal.append(goal)\n",
    "    "
   ]
  },
  {
   "cell_type": "code",
   "execution_count": 26,
   "metadata": {},
   "outputs": [
    {
     "name": "stdout",
     "output_type": "stream",
     "text": [
      "Player: Alexandre Durand\n",
      "Description: Un ingénieur civil ayant acquis une expertise inattendue dans la survie post-zombie durant les premiers mois de l’épidémie. Motivé par la volonté de restaurer quelque chose de semblable à la vie normale et convaincu qu’un remède existe.\n",
      "Location: Ville Fantôme\n",
      "Goal: Trouver un moyen de mettre fin à l’épidémie zombie afin de permettre aux survivants de reconstruire une société stable et sûre.\n"
     ]
    }
   ],
   "source": [
    "# Verify the conversion\n",
    "with onto:\n",
    "    #sync_reasoner_pellet()\n",
    "\n",
    "    player = onto.Player.instances()[0]\n",
    "    print(f\"Player: {player.hasName}\")\n",
    "    print(f\"Description: {player.hasDescription}\")\n",
    "    print(f\"Location: {player.INDIRECT_isLocatedAt.hasName}\")\n",
    "    print(f\"Goal: {player.hasGoal[0].hasDescription}\")\n"
   ]
  },
  {
   "cell_type": "code",
   "execution_count": 27,
   "metadata": {},
   "outputs": [],
   "source": [
    "CHARACTER_EXPANSION_PROMPT = \"\"\"\n",
    "Using the following details, generate a JSON output with additional information about the character.\n",
    "\n",
    "Character Name: {{character.hasName}}\n",
    "Description: {{character.hasDescription}}\n",
    "Starting location: {{character.isLocatedAt.hasName}}\n",
    "\n",
    "Other main characters of the story:\n",
    "{%- for char in other_characters %}\n",
    "    \"{{ char.hasName }}\": {{ char.hasDescription }} (is located at {{char.INDIRECT_isLocatedAt.hasName}})\n",
    "{%- endfor %}\n",
    "\n",
    "The player:\n",
    "    \"{{ player.hasName }}\": {{ player.hasDescription }} (is located at {{player.INDIRECT_isLocatedAt.hasName}})\n",
    "    The player has the goal: {{player.hasGoal[0].hasDescription}}\n",
    "\n",
    "Please include:\n",
    "- A significant backstory element that explain their current situation. Improving the character's current description\n",
    "- One or two relationships that the character has with other main characters or the player.\n",
    "\n",
    "Ensure that all generated elements align with the narrative and character dynamics already established in the outline.\n",
    "Output your response in the exact following JSON format:\n",
    "\n",
    "{\n",
    "    \"description\": \"The updated, expanded description of the character, defining their goals, motivations, and conflicts, all inside this description string\",\n",
    "    \"relationships\": [\n",
    "        {\n",
    "            \"type\": \"The type of relationship from this character to the target character. Either 'knows', 'friend', 'lover', 'enemy', 'rival', 'subject', 'ruler', no matter the language \",\n",
    "            \"target\": \"Name of the character which has that relationship with {{character.hasName}}\"\n",
    "        },\n",
    "        ...\n",
    "    ]\n",
    "}\n",
    "\n",
    "**The relationship types should be chosen EXCLUSIVELY between: 'knows', 'friend', 'lover', 'enemy', 'rival', 'subject', 'ruler', no matter the language !!**\n",
    "\n",
    "Write all the JSON value strings in {{language}}, except relationship types.\n",
    "\"\"\""
   ]
  },
  {
   "cell_type": "code",
   "execution_count": 28,
   "metadata": {},
   "outputs": [
    {
     "name": "stdout",
     "output_type": "stream",
     "text": [
      "Marcelle Dupont\n",
      "story_ontology3.marcelle%20dupont\n",
      "----*----\n",
      "{'description': \"Une médecin chercheuse qui avait travaillé dans le Laboratoire Abandonné où elle cherchait désespérément un remède contre l'épidémie zombie. Elle connaissait bien Alexandre depuis leurs jours au sein d'une équipe de recherche pré-catastrophe. C'est cette relation passée qui lui fait aujourd'hui avoir foi en ses capacités malgré les défiances de certains membres du groupe comme Victor Lafleur. Actuellement cachée dans le Bunker Souterrain, elle espère pouvoir aider Alexandre à trouver ce qui pourrait stopper l'infection.\", 'relationships': [{'type': 'friend', 'target': 'Alexandre Durand'}, {'type': 'knows', 'target': 'Sophia Martin'}]}\n",
      "\n",
      "\n",
      "\n",
      "Name: Marcelle Dupont\n",
      "Location: Bunker Souterrain\n",
      "Description: Une médecin chercheuse qui avait travaillé dans le Laboratoire Abandonné. Connaît bien Alexandre et croit en son projet. Se cache dans le Bunker Souterrain.\n",
      "Long description: Une médecin chercheuse qui avait travaillé dans le Laboratoire Abandonné où elle cherchait désespérément un remède contre l'épidémie zombie. Elle connaissait bien Alexandre depuis leurs jours au sein d'une équipe de recherche pré-catastrophe. C'est cette relation passée qui lui fait aujourd'hui avoir foi en ses capacités malgré les défiances de certains membres du groupe comme Victor Lafleur. Actuellement cachée dans le Bunker Souterrain, elle espère pouvoir aider Alexandre à trouver ce qui pourrait stopper l'infection.\n",
      "Friends: [story_ontology3.marcelle%20dupont, story_ontology3.alexandre%20durand]\n",
      "Rivals: []\n",
      "Enemies: []\n",
      "Has allegiance to: None\n",
      "Is ruler of: []\n",
      "Loves: []\n",
      "----*----\n",
      "Victor Lafleur\n",
      "story_ontology3.victor%20lafleur\n",
      "----*----\n",
      "{'description': \"Victor Lafleur est l'ancien chef de sécurité du Bunker Souterrain. Avant l'épidémie, il était connu pour sa rigueur et son dévouement sans faille au maintien de la sécurité. Cependant, depuis l'arrivée d'Alexandre avec ses idées révolutionnaires sur la recherche d'un remède contre les zombies, Victor se sent marginalisé et jaloux des compétences d'Alexandre. Il voit cette nouvelle direction comme une menace potentielle pour la stabilité actuelle du bunker et préfère conserver les choses telles quelles.\", 'relationships': [{'type': 'rival', 'target': 'Alexandre Durand'}, {'type': 'knows', 'target': 'Marcelle Dupont'}]}\n",
      "\n",
      "\n",
      "\n",
      "Name: Victor Lafleur\n",
      "Location: Bunker Souterrain\n",
      "Description: L’ancien chef de sécurité du Bunker Souterrain. Jaloux des compétences d’Alexandre et sceptique quant à l’utilité de rechercher un remède plutôt que de protéger le groupe existant.\n",
      "Long description: Victor Lafleur est l'ancien chef de sécurité du Bunker Souterrain. Avant l'épidémie, il était connu pour sa rigueur et son dévouement sans faille au maintien de la sécurité. Cependant, depuis l'arrivée d'Alexandre avec ses idées révolutionnaires sur la recherche d'un remède contre les zombies, Victor se sent marginalisé et jaloux des compétences d'Alexandre. Il voit cette nouvelle direction comme une menace potentielle pour la stabilité actuelle du bunker et préfère conserver les choses telles quelles.\n",
      "Friends: []\n",
      "Rivals: [story_ontology3.alexandre%20durand]\n",
      "Enemies: []\n",
      "Has allegiance to: None\n",
      "Is ruler of: []\n",
      "Loves: []\n",
      "----*----\n",
      "Sophia Martin\n",
      "story_ontology3.sophia%20martin\n",
      "----*----\n",
      "{'description': \"Sophia Martin est une jeune scientifique pleine de potentiel qui s'est retrouvée face au chaos après l'invasion zombi. Avant cette catastrophe, elle poursuivait ses études avec passion auprès de Marcelle Dupont, une vétéran respectée dans sa communauté académique. C’est grâce à ce mentorat que Sophie découvrit non seulement des indices cruciaux sur la nature même de l'épidémie lorsqu'elle explorait le Laboratoire Abandonné, mais aussi une détermination nouvelle malgré son manque initial de confiance en elle-même.\", 'relationships': [{'type': 'knows', 'target': 'Marcelle Dupont'}, {'type': 'knows', 'target': 'Alexandre Durand'}]}\n",
      "\n",
      "\n",
      "\n",
      "Name: Sophia Martin\n",
      "Location: Laboratoire Abandonné\n",
      "Description: Une jeune scientifique qui était étudiante sous Marcelle avant l’invasion. A découvert des indices prometteurs dans le Laboratoire Abandonné mais manque de confiance en soi pour continuer seule.\n",
      "Long description: Sophia Martin est une jeune scientifique pleine de potentiel qui s'est retrouvée face au chaos après l'invasion zombi. Avant cette catastrophe, elle poursuivait ses études avec passion auprès de Marcelle Dupont, une vétéran respectée dans sa communauté académique. C’est grâce à ce mentorat que Sophie découvrit non seulement des indices cruciaux sur la nature même de l'épidémie lorsqu'elle explorait le Laboratoire Abandonné, mais aussi une détermination nouvelle malgré son manque initial de confiance en elle-même.\n",
      "Friends: []\n",
      "Rivals: []\n",
      "Enemies: []\n",
      "Has allegiance to: None\n",
      "Is ruler of: []\n",
      "Loves: []\n",
      "----*----\n"
     ]
    }
   ],
   "source": [
    "\n",
    "prompt = PromptTemplate(\n",
    "    template=CHARACTER_EXPANSION_PROMPT,\n",
    "    template_format='jinja2'\n",
    ")\n",
    "\n",
    "parser = JsonOutputParser()\n",
    "\n",
    "chain = prompt | model | parser\n",
    "\n",
    "characters = onto.Character.instances()\n",
    "\n",
    "# Expand each character's description and relationships\n",
    "for character in characters:\n",
    "    if onto.Player in character.is_a:\n",
    "        continue\n",
    "    \n",
    "    print(character.hasName)\n",
    "    \n",
    "    # Get the list of other main characters\n",
    "    other_characters = list()\n",
    "    for other_character in characters:\n",
    "        # skip self\n",
    "        if other_character.hasName == character.hasName:\n",
    "            continue\n",
    "        other_characters.append(other_character)\n",
    "    \n",
    "    print(character)\n",
    "    \n",
    "    # print(prompt.invoke({\"setting\": outline_text,\n",
    "    #                     \"character\": character,\n",
    "    #                     \"player\": onto.Player.instances()[0],\n",
    "    #                     \"other_characters\": other_characters,\n",
    "    #                     \"language\": language}).text)\n",
    "    # continue\n",
    "\n",
    "    res = chain.invoke({\"setting\": outline_text,\n",
    "                        \"character\": character,\n",
    "                        \"player\": onto.Player.instances()[0],\n",
    "                        \"other_characters\": other_characters,\n",
    "                        \"language\": language})\n",
    "\n",
    "    # Update the character in the ontology\n",
    "    character.hasLongDescription = res.get('description')\n",
    "\n",
    "    for relationship in res.get('relationships'):\n",
    "        #'friend', 'lover', 'enemy', 'rival', 'subject', 'ruler'\n",
    "        relationship_type = relationship.get('type')\n",
    "        related_character_name = relationship.get('target')\n",
    "        related_character = find_levenshtein_match(related_character_name, onto.Character.instances())\n",
    "        \n",
    "        if not related_character:\n",
    "            print(f\"Warning: {character.hasName}'s relation {related_character_name} not found in ontology.\")\n",
    "            continue\n",
    "            \n",
    "        if relationship_type == 'friend':\n",
    "            character.hasFriendshipWith.append(related_character)\n",
    "        elif relationship_type == 'lover':\n",
    "            character.loves.append(related_character)\n",
    "        elif relationship_type == 'enemy':\n",
    "            character.isEnemyWith.append(related_character)\n",
    "        elif relationship_type == 'rival':\n",
    "            character.hasRivalryWith.append(related_character)\n",
    "        elif relationship_type == 'subject':\n",
    "            character.hasAllegiance.append(related_character)\n",
    "        elif relationship_type == 'ruler':\n",
    "            character.isRulerOf.append(related_character)\n",
    "            #related_character.hasAllegiance = [this_character]\n",
    "        elif relationship_type == 'knows':\n",
    "            character.knows.append(related_character)\n",
    "\n",
    "    print('----*----')\n",
    "    print(res)\n",
    "    print('\\n\\n')\n",
    "    print(f\"Name: {character.hasName}\")\n",
    "    print(f\"Location: {character.INDIRECT_isLocatedAt.hasName}\")\n",
    "    print(f\"Description: {character.hasDescription}\")\n",
    "    print(f\"Long description: {character.hasLongDescription}\")\n",
    "    print(f\"Friends: {character.INDIRECT_hasFriendshipWith}\")\n",
    "    print(f\"Rivals: {character.INDIRECT_hasRivalryWith}\")\n",
    "    print(f\"Enemies: {character.INDIRECT_isEnemyWith}\")\n",
    "    print(f\"Has allegiance to: {character.INDIRECT_hasAllegiance}\")\n",
    "    print(f\"Is ruler of: {character.INDIRECT_isRulerOf}\")\n",
    "    print(f\"Loves: {character.INDIRECT_loves}\")\n",
    "    #print(f\"Relationships: {character.}\")\n",
    "    print('----*----')"
   ]
  },
  {
   "cell_type": "code",
   "execution_count": 29,
   "metadata": {},
   "outputs": [],
   "source": [
    "# Verify consistency and make inferences\n",
    "# with onto:\n",
    "#     sync_reasoner()"
   ]
  },
  {
   "cell_type": "markdown",
   "metadata": {},
   "source": [
    "Great ! We have expanded our characters ! They now have relationships and backstories, this should be interesting !\n",
    "\n",
    "\n",
    "## Expand Locations"
   ]
  },
  {
   "cell_type": "code",
   "execution_count": 30,
   "metadata": {},
   "outputs": [],
   "source": [
    "LOCATION_EXPANSION_PROMPT = \"\"\"\n",
    "Using the following details, generate a JSON output with additional information about the location.\n",
    "\n",
    "Setting of the story: {{setting}}\n",
    "\n",
    "Location Name: {{location.hasName}}\n",
    "Description: {{location.hasDescription}}\n",
    "Neighboring locations:\n",
    "{%- for nearby_location in location.INDIRECT_isLinkedToLocation %}\n",
    "    - \"{{ nearby_location.hasName }}\": {{nearby_location.hasDescription}}\n",
    "{%- endfor %}\n",
    "\n",
    "{%- if location.containsCharacter %}\n",
    "Main characters in \"{{location.hasName}}\":\n",
    "{%- for character in location.containsCharacter %}\n",
    "    - \"{{ character.hasName }}\" {% if onto.Player in character.is_a %}(Player){%- endif %}: {{ character.hasDescription }}\n",
    "{%- endfor %}\n",
    "{%- endif %}\n",
    "\n",
    "{%- if location.containsItem %}\n",
    "The location contains the quest item(s):\n",
    "{%- for item in location.containsItem %}\n",
    "    - \"{{ item.hasName }}\" ({{item.hasImportance}}): {{ item.hasDescription }}\n",
    "{%- endfor %}\n",
    "{%- endif %}\n",
    "\n",
    "Please DO NOT include this information in your output\n",
    "\n",
    "Please include:\n",
    "- Up to two secondary characters that would be relevant to this location. Keep in mind that secondary caracters should have a use to the player, that is either to give the player some important information (define specifically the information), some items, trade or offer a challenge, or other if it is relevant to the scene and the story. You can and should use less, or even no characters, depending on the location ! Only add characters where pertinent.\n",
    "- Up to two items that could be found or are important in this location. Items should always have a clear use at least in the scene.\n",
    "\n",
    "Do not call any character these names: {{banned_character_names}}\n",
    "Do not call any item these names: {{banned_item_names}}\n",
    "{%- if used_roles %}\n",
    "Already used secondary character roles (Try not to repeat them too much. Only if it really makes sense): {{used_roles}}\n",
    "{%- endif %}\n",
    "\n",
    "Ensure that all generated elements align with the narrative and character dynamics already established in the outline.\n",
    "\n",
    "Make sure to output the list of characters as JSON, following this exact model:\n",
    "\n",
    "{\n",
    "    \"Description\": \"A longer, more detailed description of the location and perhaps its different parts and their function in the story\"\n",
    "    \"Characters\": [\n",
    "        {\n",
    "            \"name\": \"The name of the character\",\n",
    "            \"description\": \"A concise description of the character and their function in the scene.\",\n",
    "            \"role\": \"One or two words describing this character's function\"\n",
    "        },\n",
    "        ...\n",
    "    ],\n",
    "    \"Items\": [\n",
    "        {\n",
    "            \"name\": \"The name of the item\",\n",
    "            \"description\": \"A concise description of the item and its function.\",\n",
    "            \"quantity\": 1,\n",
    "        },\n",
    "        ...\n",
    "    ]\n",
    "}\n",
    "\n",
    "Generate all output in {{ language }}\n",
    "\"\"\""
   ]
  },
  {
   "cell_type": "code",
   "execution_count": 31,
   "metadata": {},
   "outputs": [
    {
     "name": "stdout",
     "output_type": "stream",
     "text": [
      "Name: Ville Fantôme\n",
      "[story_ontology3.alexandre%20durand]\n",
      "{'Description': 'Une ancienne ville maintenant abandonnée où les zombies errent librement. Les immeubles sont partiellement effondrés et les voitures calcinées parsèment les rues. Ce lieu représente un danger permanent mais possède encore des ressources précieuses telles que des médicaments, des armes et de la nourriture. À proximité, la Forêt Délaissée offre un contraste vert et sombre tandis que le Bunker Souterrain promet sécurité et ressources limitées.', 'Characters': [{'name': 'Lucas Valois', 'description': \"Un ancien médecin qui a trouvé refuge temporairement dans la Ville Fantôme. Lucas détient des informations cruciales concernant la possible existence d'un laboratoire expérimental localisé près du centre commercial.\", 'role': 'Informateur'}], 'Items': [{'name': 'Carte Routière Ancienne', 'description': 'Cette carte montre plusieurs points stratégiques autour de la Ville Fantôme, notamment le chemin vers le Bunker Souterrain et des caches potentielles de fournitures.', 'quantity': 1}, {'name': 'Couteau Survie Multi-Fonctions', 'description': \"Outil indispensable pour couvrir divers besoins quotidiens et urgences lorsqu'on explore la Ville Fantôme.\", 'quantity': 2}]}\n",
      "\n",
      "\n",
      "Location name: Ville Fantôme\n",
      "Description: Une ancienne ville maintenant abandonnée où les zombies errent librement. Les immeubles sont partiellement effondrés et les voitures calcinées parsèment les rues. C'est ici que commence notre histoire, endroit dangereux mais potentiellement rempli de ressources utiles.\n",
      "Long description: Une ancienne ville maintenant abandonnée où les zombies errent librement. Les immeubles sont partiellement effondrés et les voitures calcinées parsèment les rues. Ce lieu représente un danger permanent mais possède encore des ressources précieuses telles que des médicaments, des armes et de la nourriture. À proximité, la Forêt Délaissée offre un contraste vert et sombre tandis que le Bunker Souterrain promet sécurité et ressources limitées.\n",
      "Characters: [story_ontology3.lucas%20valois, story_ontology3.alexandre%20durand]\n",
      "Items: [story_ontology3.couteau%20survie%20multi-fonctions, story_ontology3.carte%20routi%C3%A8re%20ancienne]\n",
      "----*----\n",
      "Name: Bunker Souterrain\n",
      "[story_ontology3.marcelle%20dupont, story_ontology3.victor%20lafleur]\n",
      "{'Description': \"Un bunker militaire secret construit avant même la catastrophe. Actuellement occupé par une petite communauté de survivants qui ont réussi à y entrer juste avant sa fermeture automatique. Bien que l'eau potable et la nourriture soient limitées, le bunker offre une protection solide contre les attaques externes.\", 'Characters': [{'name': 'Claire Lambert', 'description': \"Une ingénieure spécialisée en systèmes électriques. Elle maintient fonctionnel le système de ventilation et d'alimentation électrique du bunker. Claire pourrait aider le joueur à obtenir plus d'informations sur les mécanismes internes du bunker ainsi que sur les plans d'évacuation.\", 'role': 'Technicienne'}], 'Items': [{'name': 'Plan Secréte', 'description': \"Un plan montrant les points faibles du bunker et les passages secrets vers l'extérieur. Utile si le joueur doit évacuer rapidement ou explorer davantage.\", 'quantity': 1}, {'name': 'Kit Médical', 'description': 'Contenant divers produits médicaux essentiels tels que des bandages, des antibiotiques et des antalgiques. Ce kit serait indispensable pour traiter les blessures subies pendant les missions hors du bunker.', 'quantity': 2}]}\n",
      "\n",
      "\n",
      "Location name: Bunker Souterrain\n",
      "Description: Un bunker militaire secret construit avant même la catastrophe. Il abrite actuellement une petite communauté de survivants qui ont réussi à y entrer juste avant sa fermeture automatique. L'eau potable et la nourriture sont limitées, mais il offre une protection contre les attaques extérieures.\n",
      "Long description: Un bunker militaire secret construit avant même la catastrophe. Actuellement occupé par une petite communauté de survivants qui ont réussi à y entrer juste avant sa fermeture automatique. Bien que l'eau potable et la nourriture soient limitées, le bunker offre une protection solide contre les attaques externes.\n",
      "Characters: [story_ontology3.marcelle%20dupont, story_ontology3.victor%20lafleur, story_ontology3.claire%20lambert]\n",
      "Items: [story_ontology3.kit%20m%C3%A9dical, story_ontology3.plan%20secr%C3%A9te]\n",
      "----*----\n",
      "Name: Forêt Délaissée\n",
      "[]\n",
      "{'Description': 'Cette zone boisée entoure presque toute la Ville Fantôme. Bien que moins peuplée de zombies, elle recèle également des dangers tels que des animaux féroces et des groupes hostiles de survivants. Elle fournit cependant des ressources essentielles comme le bois et certains aliments comestibles.', 'Characters': [{'name': 'Eliane Rousseau', 'description': 'Une chasseuse expérimentée qui connaît bien les abords de la forêt. Eliane offre son aide pour identifier les plantes comestibles et éviter les piéges naturels.', 'role': 'Guide'}], 'Items': [{'name': 'Herbe Régénératrice', 'description': \"Plante médicinale capable de soigner rapidement les blessures légères lorsqu'elle est appliquée directement sur la plaie.\", 'quantity': 3}, {'name': 'Arc et Flèches', 'description': 'Un arc robuste accompagné de plusieurs flèches, idéal pour la chasse silencieuse et la protection contre les menaces invisibles dans la forêt.', 'quantity': 1}]}\n",
      "\n",
      "\n",
      "Location name: Forêt Délaissée\n",
      "Description: Cette zone boisée entoure presque toute la Ville Fantôme. Bien que moins peuplée de zombies, elle recèle également des dangers tels que des animaux féroces et des groupes hostiles de survivants. Elle fournit cependant des ressources essentielles comme le bois et certains aliments comestibles.\n",
      "Long description: Cette zone boisée entoure presque toute la Ville Fantôme. Bien que moins peuplée de zombies, elle recèle également des dangers tels que des animaux féroces et des groupes hostiles de survivants. Elle fournit cependant des ressources essentielles comme le bois et certains aliments comestibles.\n",
      "Characters: [story_ontology3.eliane%20rousseau]\n",
      "Items: [story_ontology3.herbe%20r%C3%A9g%C3%A9n%C3%A9ratrice, story_ontology3.arc%20et%20fl%C3%A8ches]\n",
      "----*----\n",
      "Name: Laboratoire Abandonné\n",
      "[story_ontology3.sophia%20martin]\n",
      "{'Description': 'Ancien centre de recherche médicale qui aurait travaillé sur la maladie zombie peu avant l’épidémie. Ses archives peuvent contenir des informations cruciales pour comprendre comment arrêter la propagation. Toutefois, le laboratoire n’a pas été sécurisé correctement lorsqu’il fut fermé précipitamment; on trouve encore des expériences en cours et des risques biologiques importants.', 'Characters': [{'name': 'Jean-Pierre Dubois', 'description': 'Un ancien technicien du laboratoire qui cherche activement des solutions pour combattre la maladie. Jean-Pierre détient des connaissances techniques essentielles et peut fournir des conseils sur certains équipements trouvés dans le labo.', 'role': 'Informateur'}], 'Items': [{'name': \"Protocole D'Expérience Inachevé\", 'description': 'Document contenant les résultats incomplets d’une expérience menée sur un traitement potentiel. Ce document peut aider Sophia Martin à avancer dans son travail.', 'quantity': 1}, {'name': 'Antidote Partiellement Développé', 'description': 'Une substance chimique presque prête à servir comme base pour développer un antidote complet. Cet élément doit être combiné avec d’autres ingrédients spécifiques pour obtenir un résultat efficace.', 'quantity': 1}]}\n",
      "\n",
      "\n",
      "Location name: Laboratoire Abandonné\n",
      "Description: Ancien centre de recherche médicale qui aurait travaillé sur la maladie zombie peu avant l'épidémie. Ses archives peuvent contenir des informations cruciales pour comprendre comment arrêter la propagation. Toutefois, le laboratoire n'a pas été sécurisé correctement lorsqu'il fut fermé précipitamment ; on trouve encore des expériences en cours et des risques biologiques importants.\n",
      "Long description: Ancien centre de recherche médicale qui aurait travaillé sur la maladie zombie peu avant l’épidémie. Ses archives peuvent contenir des informations cruciales pour comprendre comment arrêter la propagation. Toutefois, le laboratoire n’a pas été sécurisé correctement lorsqu’il fut fermé précipitamment; on trouve encore des expériences en cours et des risques biologiques importants.\n",
      "Characters: [story_ontology3.jean-pierre%20dubois, story_ontology3.sophia%20martin]\n",
      "Items: [story_ontology3.sophia%252520martin, story_ontology3.sophia%2520martin, story_ontology3.antidote%20partiellement%20d%C3%A9velopp%C3%A9, story_ontology3.protocole%20d%27exp%C3%A9rience%20inachev%C3%A9]\n",
      "----*----\n",
      "Name: Ruine Industrielle\n",
      "[]\n",
      "{'Description': \"Les vestiges d'une usine moderne dont certaines machines fonctionnent toujours grâce à des générateurs solaires. Cet endroit attire beaucoup de zombies car ils perçoivent la présence d’être vivants. Si vous réussissez à éviter les pièges mécaniques et les cadavres putrides, il pourrait servir de base importante pour collecter des matériaux nécessaires à votre survie et vos recherches.\", 'Characters': [{'name': 'Louis Beaumont', 'description': \"Un ancien ingénieur électrique qui connaît bien les systèmes électriques de l'usine. Il offre son aide pour maintenir les générateurs solaires opérationnels contre des provisions alimentaires.\", 'role': 'Technicien'}], 'Items': [{'name': 'Panneau Solaire Endommagé', 'description': 'Une pièce clé pouvant aider à améliorer les installations solaires existantes, augmentant ainsi la production d’énergie nécessaire pour activer plus de machines utiles.', 'quantity': 2}, {'name': 'Clés USB Contenant Des Plans Techniques', 'description': 'Des données techniques permettant de comprendre mieux les systèmes industriels présents et potentiellement utilisables pour créer des armements improvisés.', 'quantity': 3}]}\n",
      "\n",
      "\n",
      "Location name: Ruine Industrielle\n",
      "Description: Les vestiges d'une usine moderne dont certaines machines fonctionnent toujours grâce à des générateurs solaires. Cette zone attire beaucoup de zombies car ils sentent la présence d'être vivants. Néanmoins, si vous pouvez naviguer autour des pièges mécaniques et des cadavres putrides, cela pourrait être un bon point stratégique pour rassembler des matériaux.\n",
      "Long description: Les vestiges d'une usine moderne dont certaines machines fonctionnent toujours grâce à des générateurs solaires. Cet endroit attire beaucoup de zombies car ils perçoivent la présence d’être vivants. Si vous réussissez à éviter les pièges mécaniques et les cadavres putrides, il pourrait servir de base importante pour collecter des matériaux nécessaires à votre survie et vos recherches.\n",
      "Characters: [story_ontology3.louis%20beaumont]\n",
      "Items: [story_ontology3.panneau%20solaire%20endommag%C3%A9, story_ontology3.cl%C3%A9s%20usb%20contenant%20des%20plans%20techniques]\n",
      "----*----\n"
     ]
    }
   ],
   "source": [
    "\n",
    "prompt = PromptTemplate(\n",
    "    template=LOCATION_EXPANSION_PROMPT,\n",
    "    template_format='jinja2'\n",
    ")\n",
    "\n",
    "parser = JsonOutputParser()\n",
    "\n",
    "chain = prompt | model | parser\n",
    "\n",
    "\n",
    "# banned_character_names = all_character_names\n",
    "# banned_item_names = all_item_names\n",
    "\n",
    "\n",
    "for location in onto.Location.instances():\n",
    "    print(f\"Name: {location.hasName}\")\n",
    "    print(location.containsCharacter)\n",
    "\n",
    "    # Prevent LLM from generating the same items over and over.\n",
    "    # This improves creativity, and coherence between prompts, since the LLM is\n",
    "    # at least aware of what kind of items already exist.\n",
    "    banned_item_names = [i.hasName for i in onto.Item.instances()]\n",
    "    banned_character_names = [c.hasName for c in onto.Character.instances()]\n",
    "    used_roles = [c.hasRole for c in onto.Character.instances() if c.hasRole]\n",
    "\n",
    "    # print(prompt.invoke({\"setting\": outline_text,\n",
    "    #                      \"onto\": onto,\n",
    "    #                      \"location\": location,\n",
    "    #                      \"banned_item_names\": banned_item_names,\n",
    "    #                      \"banned_character_names\": banned_character_names,\n",
    "    #                      \"used_roles\": used_roles,\n",
    "    #                      \"language\": language}).text)\n",
    "    # break\n",
    "\n",
    "    res = chain.invoke({\"setting\": outline_text,\n",
    "                        \"onto\": onto,\n",
    "                        \"location\": location,\n",
    "                        \"banned_item_names\": banned_item_names,\n",
    "                        \"banned_character_names\": banned_character_names,\n",
    "                        \"used_roles\": used_roles,\n",
    "                        \"language\": language})\n",
    "\n",
    "    print(res)\n",
    "\n",
    "    # Update KG with this expanded information\n",
    "    # Updated long description\n",
    "    location.hasLongDescription = res.get('Description')\n",
    "    \n",
    "    # New secondary Characters\n",
    "    for char in res.get('Characters'):\n",
    "        char_name = char.get('name')\n",
    "        encoded_char_name = encode_entity_name(char_name)\n",
    "        \n",
    "        character = onto.Character(encoded_char_name)\n",
    "        character.hasName = char_name\n",
    "        character.label = char_name\n",
    "        character.hasDescription = char.get('description')\n",
    "        character.hasRole.append(char.get('role')[0])\n",
    "        character.hasImportance = 'secondary'\n",
    "        character.characterIsLocatedAt = location\n",
    "    \n",
    "    for item_data in res.get('Items'):\n",
    "        item_name = item_data.get('name')\n",
    "        encoded_item_name = encode_entity_name(item_name)\n",
    "        \n",
    "        item = onto.Item(encoded_item_name)\n",
    "        item.hasName = item_name\n",
    "        item.label = item_name\n",
    "        item.hasDescription = item_data.get('description')\n",
    "        item.hasImportance = 'minor'\n",
    "        item.itemIsLocatedAt = location\n",
    "\n",
    "    print('\\n')\n",
    "    print(f\"Location name: {location.hasName}\")\n",
    "    print(f\"Description: {location.hasDescription}\")\n",
    "    print(f\"Long description: {location.hasLongDescription}\")\n",
    "    print(f\"Characters: {location.INDIRECT_containsCharacter}\")\n",
    "    print(f\"Items: {location.INDIRECT_containsItem}\")\n",
    "    print('----*----')"
   ]
  },
  {
   "cell_type": "markdown",
   "metadata": {},
   "source": [
    "# Convert informations to knowledge graph\n",
    "\n",
    "In this step, we convert the JSON-like structured data into entities in an ontology describing the logic of a story world, creating a model for the story we want to generate later."
   ]
  },
  {
   "cell_type": "code",
   "execution_count": 32,
   "metadata": {},
   "outputs": [],
   "source": [
    "# with onto:\n",
    "#     sync_reasoner"
   ]
  },
  {
   "cell_type": "code",
   "execution_count": 33,
   "metadata": {},
   "outputs": [
    {
     "name": "stdout",
     "output_type": "stream",
     "text": [
      "Marcelle Dupont is located at Bunker Souterrain\n",
      "Victor Lafleur is located at Bunker Souterrain\n",
      "Sophia Martin is located at Laboratoire Abandonné\n",
      "Alexandre Durand is located at Ville Fantôme\n",
      "Lucas Valois is located at Ville Fantôme\n",
      "Claire Lambert is located at Bunker Souterrain\n",
      "Eliane Rousseau is located at Forêt Délaissée\n",
      "Jean-Pierre Dubois is located at Laboratoire Abandonné\n",
      "Louis Beaumont is located at Ruine Industrielle\n",
      "Ville Fantôme contains: [story_ontology3.lucas%20valois, story_ontology3.alexandre%20durand]\n",
      "Bunker Souterrain contains: [story_ontology3.marcelle%20dupont, story_ontology3.victor%20lafleur, story_ontology3.claire%20lambert]\n",
      "Forêt Délaissée contains: [story_ontology3.eliane%20rousseau]\n",
      "Laboratoire Abandonné contains: [story_ontology3.jean-pierre%20dubois, story_ontology3.sophia%20martin]\n",
      "Ruine Industrielle contains: [story_ontology3.louis%20beaumont]\n"
     ]
    }
   ],
   "source": [
    "with onto:\n",
    "    for character in onto.Character.instances():\n",
    "        loc = character.INDIRECT_isLocatedAt\n",
    "\n",
    "        print(f\"{character.hasName} is located at {loc.hasName}\")\n",
    "\n",
    "    \n",
    "    for location in onto.Location.instances():\n",
    "        characters = location.INDIRECT_containsCharacter\n",
    "        print(f\"{location.hasName} contains: {characters}\")"
   ]
  },
  {
   "cell_type": "code",
   "execution_count": 34,
   "metadata": {},
   "outputs": [
    {
     "name": "stdout",
     "output_type": "stream",
     "text": [
      "Marcelle Dupont friends with: [story_ontology3.marcelle%20dupont, story_ontology3.alexandre%20durand]\n",
      "Victor Lafleur friends with: []\n",
      "Sophia Martin friends with: []\n",
      "Alexandre Durand friends with: [story_ontology3.marcelle%20dupont, story_ontology3.alexandre%20durand]\n",
      "Lucas Valois friends with: []\n",
      "Claire Lambert friends with: []\n",
      "Eliane Rousseau friends with: []\n",
      "Jean-Pierre Dubois friends with: []\n",
      "Louis Beaumont friends with: []\n"
     ]
    }
   ],
   "source": [
    "with onto:\n",
    "    for character in onto.Character.instances():\n",
    "        print(f'{character.hasName} friends with: {character.INDIRECT_hasFriendshipWith}')"
   ]
  },
  {
   "cell_type": "code",
   "execution_count": 35,
   "metadata": {},
   "outputs": [],
   "source": [
    "with onto:\n",
    "    onto.save(file=\"story_poptest.rdf\", format=\"rdfxml\")"
   ]
  },
  {
   "cell_type": "markdown",
   "metadata": {},
   "source": [
    "# Pre-generate the first message\n"
   ]
  },
  {
   "cell_type": "code",
   "execution_count": 36,
   "metadata": {},
   "outputs": [],
   "source": [
    "FIRST_TURN_PROMPT = \"\"\"\n",
    "You are an LLM designed to act as the engine for a text adventure game set in \"{{setting}}\".\n",
    "\n",
    "List of the locations that make up this game's world (to give you general context):\n",
    "{%- for location in locations %}\n",
    "    - {{ location.hasName }}: {{location.hasDescription}}\n",
    "{%- endfor %}\n",
    "\n",
    "The player is located at {{player_start_location_name}}.\n",
    "The locations accessible from where the player is are {{nearby_locations_names}}\n",
    "\n",
    "{%- if characters_nearby %}\n",
    "Characters present in {{location.hasName}}:\n",
    "{%- for character in characters_nearby %}\n",
    "    - {{ character.hasName }}: {{character.hasDescription}} (narrative importance {{character.hasImportance}})\n",
    "{%- endfor %}\n",
    "{%- else %}\n",
    "    There are no other characters present in {{location.hasName}}.\n",
    "{%- endif %}\n",
    "\n",
    "{%- if items_nearby %}\n",
    "Items present in {{location.hasName}}:\n",
    "{%- for item in items_nearby %}\n",
    "    - {{ item.hasName }}: {{item.hasDescription}} (narrative importance {{item.hasImportance}})\n",
    "{%- endfor %}\n",
    "{%- else %}\n",
    "    There are no items present in {{location.hasName}}.\n",
    "{%- endif %}\n",
    "\n",
    "{%- if player.INDIRECT_ownsItem %}\n",
    "Items in the player's inventory:\n",
    "{%- for item in player.INDIRECT_ownsItem %}\n",
    "    - {{ item.hasName }}: {{item.hasDescription}} (narrative importance {{item.hasImportance}})\n",
    "{%- endfor %}\n",
    "{%- else %}\n",
    "    The player has no items in their inventory.\n",
    "{%- endif %}\n",
    "\n",
    "You're about to start interacting with the player. The player plays a character in the story:\n",
    "    \"{{player.hasName}}\": {{player.hasDescription}}\n",
    "\n",
    "The player's goal is: {{player.hasGoal[0].hasDescription}}\n",
    "\n",
    "You need to write an SHORT introduction, explaining where the player is, who they are, and give them a motivation to reach their goal.\n",
    "Keep in mind that more things can and should be revealed later, after interaction with the player, so feel free to keep some information to yourself for later.\n",
    "Keep in mind that not everything that is in a location is necessarily immediately visible or known to the player. Things can be hidden within a location, and a location can be quite large.\n",
    "\n",
    "The game is played by interactions between the game (you) and the player. You will first produce a setting, then the player will type in natural language whatever they want to do, etc.\n",
    "Do not reveal everything all at once: let the player discover things.\n",
    "Only output natural text, as one would read in a book they actually were the hero of.\n",
    "Do not list explicit options, unless the player specifically asks for it.\n",
    "Do not reveal all the given information at once.\n",
    "\n",
    "**Your message should be one paragraph at most.**\n",
    "\n",
    "Your entire output will be visible to the player, so stay in your role of narrator ! All your output should be in {{language}}\n",
    "\"\"\""
   ]
  },
  {
   "cell_type": "code",
   "execution_count": 40,
   "metadata": {},
   "outputs": [
    {
     "name": "stdout",
     "output_type": "stream",
     "text": [
      "\n",
      "You are an LLM designed to act as the engine for a text adventure game set in \"post-apocalypse zombie mondiale, 1 an après le début de l'épidémie\".\n",
      "\n",
      "List of the locations that make up this game's world (to give you general context):\n",
      "    - Ville Fantôme: Une ancienne ville maintenant abandonnée où les zombies errent librement. Les immeubles sont partiellement effondrés et les voitures calcinées parsèment les rues. C'est ici que commence notre histoire, endroit dangereux mais potentiellement rempli de ressources utiles.\n",
      "    - Bunker Souterrain: Un bunker militaire secret construit avant même la catastrophe. Il abrite actuellement une petite communauté de survivants qui ont réussi à y entrer juste avant sa fermeture automatique. L'eau potable et la nourriture sont limitées, mais il offre une protection contre les attaques extérieures.\n",
      "    - Forêt Délaissée: Cette zone boisée entoure presque toute la Ville Fantôme. Bien que moins peuplée de zombies, elle recèle également des dangers tels que des animaux féroces et des groupes hostiles de survivants. Elle fournit cependant des ressources essentielles comme le bois et certains aliments comestibles.\n",
      "    - Laboratoire Abandonné: Ancien centre de recherche médicale qui aurait travaillé sur la maladie zombie peu avant l'épidémie. Ses archives peuvent contenir des informations cruciales pour comprendre comment arrêter la propagation. Toutefois, le laboratoire n'a pas été sécurisé correctement lorsqu'il fut fermé précipitamment ; on trouve encore des expériences en cours et des risques biologiques importants.\n",
      "    - Ruine Industrielle: Les vestiges d'une usine moderne dont certaines machines fonctionnent toujours grâce à des générateurs solaires. Cette zone attire beaucoup de zombies car ils sentent la présence d'être vivants. Néanmoins, si vous pouvez naviguer autour des pièges mécaniques et des cadavres putrides, cela pourrait être un bon point stratégique pour rassembler des matériaux.\n",
      "\n",
      "The player is located at Ville Fantôme.\n",
      "The locations accessible from where the player is are ['Bunker Souterrain', 'Forêt Délaissée']\n",
      "Characters present in Ville Fantôme:\n",
      "    - Alexandre Durand: Un ingénieur civil ayant acquis une expertise inattendue dans la survie post-zombie durant les premiers mois de l’épidémie. Motivé par la volonté de restaurer quelque chose de semblable à la vie normale et convaincu qu’un remède existe. (narrative importance Player)\n",
      "    - Lucas Valois: Un ancien médecin qui a trouvé refuge temporairement dans la Ville Fantôme. Lucas détient des informations cruciales concernant la possible existence d'un laboratoire expérimental localisé près du centre commercial. (narrative importance secondary)\n",
      "Items present in Ville Fantôme:\n",
      "    - Carte Routière Ancienne: Cette carte montre plusieurs points stratégiques autour de la Ville Fantôme, notamment le chemin vers le Bunker Souterrain et des caches potentielles de fournitures. (narrative importance minor)\n",
      "    - Couteau Survie Multi-Fonctions: Outil indispensable pour couvrir divers besoins quotidiens et urgences lorsqu'on explore la Ville Fantôme. (narrative importance minor)\n",
      "    The player has no items in their inventory.\n",
      "\n",
      "You're about to start interacting with the player. The player plays a character in the story:\n",
      "    \"Alexandre Durand\": Un ingénieur civil ayant acquis une expertise inattendue dans la survie post-zombie durant les premiers mois de l’épidémie. Motivé par la volonté de restaurer quelque chose de semblable à la vie normale et convaincu qu’un remède existe.\n",
      "\n",
      "The player's goal is: Trouver un moyen de mettre fin à l’épidémie zombie afin de permettre aux survivants de reconstruire une société stable et sûre.\n",
      "\n",
      "You need to write an SHORT introduction, explaining where the player is, who they are, and give them a motivation to reach their goal.\n",
      "Keep in mind that more things can and should be revealed later, after interaction with the player, so feel free to keep some information to yourself for later.\n",
      "Keep in mind that not everything that is in a location is necessarily immediately visible or known to the player. Things can be hidden within a location, and a location can be quite large.\n",
      "\n",
      "The game is played by interactions between the game (you) and the player. You will first produce a setting, then the player will type in natural language whatever they want to do, etc.\n",
      "Do not reveal everything all at once: let the player discover things.\n",
      "Only output natural text, as one would read in a book they actually were the hero of.\n",
      "Do not list explicit options, unless the player specifically asks for it.\n",
      "Do not reveal all the given information at once.\n",
      "\n",
      "**Your message should be one paragraph at most.**\n",
      "\n",
      "Your entire output will be visible to the player, so stay in your role of narrator ! All your output should be in french\n"
     ]
    }
   ],
   "source": [
    "from langchain_core.prompts import PromptTemplate\n",
    "from langchain_core.output_parsers import JsonOutputParser\n",
    "\n",
    "prompt = PromptTemplate(\n",
    "    template=FIRST_TURN_PROMPT,\n",
    "    template_format='jinja2'\n",
    ")\n",
    "\n",
    "with onto:\n",
    "    player = list(onto.Player.instances())[0]\n",
    "    current_location = player.INDIRECT_isLocatedAt\n",
    "    locations = onto.Location.instances()\n",
    "    characters_nearby = current_location.containsCharacter\n",
    "    locations_nearby = current_location.isLinkedToLocation\n",
    "    nearby_locations_names = [l.hasName for l in locations_nearby]\n",
    "    items_nearby = current_location.containsItem\n",
    "\n",
    "    # test the prompt generation\n",
    "    print(prompt.invoke({'setting': setting,\n",
    "                    'locations': locations,\n",
    "                    'location': current_location,\n",
    "                    'characters_nearby': characters_nearby,\n",
    "                    'items_nearby': items_nearby,\n",
    "                    'player': player,\n",
    "                    'player_start_location_name': current_location.hasName,\n",
    "                    'nearby_locations_names': nearby_locations_names,\n",
    "                    'language': language}).text)\n",
    "\n",
    "chain = prompt | model\n",
    "adventure_start = chain.invoke({'setting': setting,\n",
    "                    'locations': locations,\n",
    "                    'location': current_location,\n",
    "                    'characters_nearby': characters_nearby,\n",
    "                    'items_nearby': items_nearby,\n",
    "                    'player': player,\n",
    "                    'player_start_location_name': current_location.hasName,\n",
    "                    'nearby_locations_names': nearby_locations_names,\n",
    "                    'language': language})\n"
   ]
  },
  {
   "cell_type": "code",
   "execution_count": 41,
   "metadata": {},
   "outputs": [
    {
     "name": "stdout",
     "output_type": "stream",
     "text": [
      "Tu te trouves au cœur de ce qui était autrefois une ville prospère, aujourd'hui réduite à un chaos silencieux appelé Ville Fantôme. Autour de toi, les bâtiments délabrés témoignent d’une époque passée tandis que les ombres mouvantes des zombies hantent chaque coin sombre. Tu es Alexandre Durand, un ingénieur civil transformé en survivant aguerri depuis le début de cette pandémie terrifiante. Ta conviction reste intacte : trouver un moyen de stopper définitivement ces créatures infectées est non seulement ta mission personnelle, mais aussi celle de tous ceux qui espèrent voir renaître une forme quelconque de normalité. La route sera longue et périlleuse, mais tu sais désormais que chaque détail peut faire la différence entre la survie et l’extinction. Que décides-tu de faire ?\n"
     ]
    }
   ],
   "source": [
    "print(adventure_start.content)"
   ]
  }
 ],
 "metadata": {
  "kernelspec": {
   "display_name": ".venv",
   "language": "python",
   "name": "python3"
  },
  "language_info": {
   "codemirror_mode": {
    "name": "ipython",
    "version": 3
   },
   "file_extension": ".py",
   "mimetype": "text/x-python",
   "name": "python",
   "nbconvert_exporter": "python",
   "pygments_lexer": "ipython3",
   "version": "3.12.5"
  }
 },
 "nbformat": 4,
 "nbformat_minor": 2
}
