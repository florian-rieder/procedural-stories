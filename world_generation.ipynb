{
 "cells": [
  {
   "cell_type": "markdown",
   "metadata": {},
   "source": [
    "Load the LLM"
   ]
  },
  {
   "cell_type": "code",
   "execution_count": 1,
   "metadata": {},
   "outputs": [
    {
     "name": "stdout",
     "output_type": "stream",
     "text": [
      "Loading model...\n"
     ]
    },
    {
     "name": "stderr",
     "output_type": "stream",
     "text": [
      "/Users/frieder/Documents/GitHub/procedural-stories/.venv/lib/python3.12/site-packages/tqdm/auto.py:21: TqdmWarning: IProgress not found. Please update jupyter and ipywidgets. See https://ipywidgets.readthedocs.io/en/stable/user_install.html\n",
      "  from .autonotebook import tqdm as notebook_tqdm\n",
      "Fetching 12 files: 100%|██████████| 12/12 [05:17<00:00, 26.43s/it]\n"
     ]
    },
    {
     "name": "stdout",
     "output_type": "stream",
     "text": [
      "Model loaded.\n"
     ]
    }
   ],
   "source": [
    "from langchain_community.llms.mlx_pipeline import MLXPipeline\n",
    "from langchain_community.chat_models.mlx import ChatMLX\n",
    "from langchain.callbacks.tracers import ConsoleCallbackHandler\n",
    "from langchain.globals import set_verbose\n",
    "from langchain.globals import set_debug\n",
    "\n",
    "#set_debug(True)\n",
    "set_verbose(True)\n",
    "\n",
    "print('Loading model...')\n",
    "# Load model from huggingface, using the MLX framework to take advantage of Apple Silicon\n",
    "llm = MLXPipeline.from_model_id(\n",
    "    #\"mlx-community/Meta-Llama-3.1-8B-Instruct-8bit\",\n",
    "    #\"mlx-community/Meta-Llama-3.1-8B-Instruct-bf16\",\n",
    "    \"mlx-community/Qwen2.5-32B-Instruct-4bit\", # Let's try using a larger model, see if that improves results\n",
    "    #\"mlx-community/Llama-3.2-3B-Instruct-8bit\",\n",
    "    pipeline_kwargs={\"max_tokens\": 2048, \"temp\": 0.2, \"repetition_penalty\":1.2},\n",
    ")\n",
    "\n",
    "# Setup verbose mode: https://stackoverflow.com/a/77629872/10914628\n",
    "model = ChatMLX(llm=llm).with_config({'callbacks': [ConsoleCallbackHandler()]})\n",
    "print('Model loaded.')\n"
   ]
  },
  {
   "cell_type": "markdown",
   "metadata": {},
   "source": [
    "Load the ontology"
   ]
  },
  {
   "cell_type": "code",
   "execution_count": 2,
   "metadata": {},
   "outputs": [
    {
     "name": "stdout",
     "output_type": "stream",
     "text": [
      "Loading ontology...\n",
      "[{'ID': 'containsCharacter', 'Type': ['ObjectProperty'], 'Domain': 'Location', 'Range': 'Character', 'InverseOf': 'isAtLocation'}, {'ID': 'performedByCharacter', 'Type': ['ObjectProperty'], 'Domain': 'Action', 'Range': 'Character'}, {'ID': 'Character', 'Type': ['Class'], 'Label': 'Personnage'}, {'ID': 'isFactionMember', 'Type': ['ObjectProperty'], 'Domain': 'Character', 'Range': 'Faction', 'InverseOf': 'hasMember'}, {'ID': 'http://www.florianrieder.com/story.owl', 'Type': ['Ontology']}, {'ID': 'Player', 'Type': ['Class'], 'Label': 'Joueur'}, {'ID': 'Condition', 'Type': ['Class']}, {'ID': 'isControlledByFaction', 'Type': ['ObjectProperty'], 'Domain': 'Location', 'Range': 'Faction', 'InverseOf': 'hasControlOfLocation'}, {'ID': 'hasGoal', 'Type': ['ObjectProperty'], 'Domain': 'Entity', 'Range': 'Goal'}, {'ID': 'Action', 'Type': ['Class'], 'Label': 'Action', 'Comment': 'Une action que peut prendre un personnage'}, {'ID': 'hasRole', 'Type': ['ObjectProperty'], 'Domain': 'Character', 'Range': 'Role'}, {'ID': 'containsItem', 'Type': ['ObjectProperty'], 'Domain': 'Location', 'Range': 'Item'}, {'ID': 'hasEmotionalState', 'Type': ['ObjectProperty'], 'Domain': 'Character', 'Range': 'Emotion'}, {'ID': 'hasPersonalityTrait', 'Type': ['ObjectProperty'], 'Domain': 'Character', 'Range': 'PersonalityTrait'}, {'ID': 'hasConsequences', 'Type': ['ObjectProperty'], 'Domain': 'Event', 'Range': 'Consequence'}, {'ID': 'hasMember', 'Type': ['ObjectProperty'], 'Domain': 'Faction', 'Range': 'Character', 'InverseOf': 'isFactionMember'}, {'ID': 'isAtLocation', 'Type': ['ObjectProperty', 'FunctionalProperty'], 'Domain': 'Character', 'Range': 'Location', 'InverseOf': 'containsCharacter'}, {'ID': 'Item', 'Type': ['Class'], 'Label': 'Objet'}, {'ID': 'Location', 'Type': ['Class'], 'Label': 'Lieu'}, {'ID': 'Event', 'Type': ['Class']}, {'ID': 'hasEffectOn', 'Type': ['ObjectProperty'], 'Domain': 'Action', 'Range': 'Entity'}, {'ID': 'involvesCharacter', 'Type': ['ObjectProperty'], 'Domain': 'Event', 'Range': 'Character'}, {'ID': 'Entity', 'Type': ['Class']}, {'ID': 'isLinkedToLocation', 'Type': ['ObjectProperty', 'SymmetricProperty'], 'Domain': 'Location', 'Range': 'Location'}, {'ID': 'Consequence', 'Type': ['Class']}, {'ID': 'Goal', 'Type': ['Class']}, {'ID': 'hasDescription', 'Type': ['DatatypeProperty', 'FunctionalProperty']}, {'ID': 'Emotion', 'Type': ['Class']}, {'ID': 'Information', 'Type': ['Class']}, {'ID': 'PersonalityTrait', 'Type': ['Class']}, {'ID': 'ownsItem', 'Type': ['ObjectProperty'], 'Domain': 'Character', 'Range': 'Item', 'InverseOf': 'ownedByCharacter'}, {'ID': 'Neutre', 'Type': ['NamedIndividual', 'Faction']}, {'ID': 'hasStanceTowardsPlayer', 'Type': ['DatatypeProperty', 'FunctionalProperty']}, {'ID': 'hasActionPlan', 'Type': ['ObjectProperty'], 'Domain': 'Character', 'Range': 'Action'}, {'ID': 'http://anonymous', 'Type': ['Ontology']}, {'ID': 'hasName', 'Type': ['DatatypeProperty', 'FunctionalProperty']}, {'ID': 'hasRelationshipWith', 'Type': ['ObjectProperty'], 'Domain': 'Character', 'Range': 'Character'}, {'ID': 'knowsInformation', 'Type': ['ObjectProperty'], 'Domain': 'Character', 'Range': 'Information'}, {'ID': 'Faction', 'Type': ['Class'], 'Label': 'Faction'}, {'ID': 'hasTrigger', 'Type': ['ObjectProperty'], 'Domain': 'Event', 'Range': 'Condition'}, {'ID': 'hasControlOfLocation', 'Type': ['ObjectProperty'], 'Domain': 'Faction', 'Range': 'Location', 'InverseOf': 'isControlledByFaction'}, {'ID': 'ownedByCharacter', 'Type': ['ObjectProperty'], 'Domain': 'Item', 'Range': 'Character', 'InverseOf': 'ownsItem'}, {'ID': 'requiresItem', 'Type': ['ObjectProperty'], 'Domain': 'Action', 'Range': 'Item'}, {'ID': 'Role', 'Type': ['Class']}]\n"
     ]
    }
   ],
   "source": [
    "from generator.utils.serializers import json2llmready\n",
    "\n",
    "print('Loading ontology...')\n",
    "with open(\"story.json\", \"r\") as f:\n",
    "    ontology = json2llmready(f.read())\n",
    "print(ontology)"
   ]
  },
  {
   "cell_type": "markdown",
   "metadata": {},
   "source": [
    "Define the setting of the story"
   ]
  },
  {
   "cell_type": "code",
   "execution_count": 57,
   "metadata": {},
   "outputs": [],
   "source": [
    "setting = \"Normandie viking du 9e siècle\""
   ]
  },
  {
   "cell_type": "markdown",
   "metadata": {},
   "source": [
    "# 1. Generate the outline of the story world"
   ]
  },
  {
   "cell_type": "code",
   "execution_count": 58,
   "metadata": {},
   "outputs": [],
   "source": [
    "OUTLINE_TEXT_PROMPT = \"\"\"\n",
    "You are the master writer tasked with creating a vibrant world specifically made to host a text adventure game for a player.\n",
    "Write a few paragraphs describing the world of the story following the given narrative setting:\n",
    "\n",
    "{{ setting }}\n",
    "\n",
    "Your text should be quite short, concise and descriptive.\n",
    "Your staff will use this text as the story world bible, they will write the characters, locations and specific events.\n",
    "You should direct them as precisely as possible to create as coherent and unified world for the player to explore.\n",
    "Define the player's role in this world, as well as a high level, open but concrete goal, conflict and motivations.\n",
    "Write your output in {{ language }}.\n",
    "\"\"\""
   ]
  },
  {
   "cell_type": "code",
   "execution_count": 59,
   "metadata": {},
   "outputs": [
    {
     "name": "stderr",
     "output_type": "stream",
     "text": [
      "Parent run 02c16981-f4d0-4dad-a35d-ab3eeaeec5ad not found for run b24c467c-68d0-4c99-ad86-13f1565db73c. Treating as a root run.\n"
     ]
    },
    {
     "name": "stdout",
     "output_type": "stream",
     "text": [
      "\u001b[32;1m\u001b[1;3m[llm/start]\u001b[0m \u001b[1m[llm:ChatMLX] Entering LLM run with input:\n",
      "\u001b[0m{\n",
      "  \"prompts\": [\n",
      "    \"Human: \\nYou are the master writer tasked with creating a vibrant world specifically made to host a text adventure game for a player.\\nWrite a few paragraphs describing the world of the story following the given narrative setting:\\n\\nNormandie viking du 9e siècle\\n\\nYour text should be quite short, concise and descriptive.\\nYour staff will use this text as the story world bible, they will write the characters, locations and specific events.\\nYou should direct them as precisely as possible to create as coherent and unified world for the player to explore.\\nDefine the player's role in this world, as well as a high level, open but concrete goal, conflict and motivations.\\nWrite your output in french.\"\n",
      "  ]\n",
      "}\n",
      "\u001b[36;1m\u001b[1;3m[llm/end]\u001b[0m \u001b[1m[llm:ChatMLX] [102.43s] Exiting LLM run with output:\n",
      "\u001b[0m{\n",
      "  \"generations\": [\n",
      "    [\n",
      "      {\n",
      "        \"text\": \"Dans le monde des Normands du IXème siècle, la société est dominée par les guerriers et navigateurs intrépides qui ont établi leur puissance sur les vastes mers d'Europe. Les terres sont parsemées de villages fortifiés entourés de haies épines pour protéger contre les raids ennemis. La culture se caractérise par une foi profonde dans l'honneur martial et un respect inné pour Odin, Thor et Freya.\\n\\nLe joueur incarne un jeune Viking ambitieux cherchant à prouver sa valeur en accomplissant des quêtes héroïques. Son objectif principal consiste à rassembler suffisamment de richesses et de renommée pour fonder son propre clan ou rejoindre celui d'un chef réputé. Le conflit central tournera autour des rivalités entre clans locaux et des attaques constantes des forces extérieures qui menacent la sécurité et la prospérité des communautés normandes. \\n\\nLes personnages seront imprégnés de valeurs comme la bravoure, mais aussi confrontés aux réalités cruelles de cette ère où la survie dépend souvent de stratagèmes et de résilience face au danger omniprésent. L'environnement sera rude avec des tempêtes fréquentes et des conditions météorologiques défavorables rendant chaque voyage maritime périlleux.\",\n",
      "        \"generation_info\": null,\n",
      "        \"type\": \"ChatGeneration\",\n",
      "        \"message\": {\n",
      "          \"lc\": 1,\n",
      "          \"type\": \"constructor\",\n",
      "          \"id\": [\n",
      "            \"langchain\",\n",
      "            \"schema\",\n",
      "            \"messages\",\n",
      "            \"AIMessage\"\n",
      "          ],\n",
      "          \"kwargs\": {\n",
      "            \"content\": \"Dans le monde des Normands du IXème siècle, la société est dominée par les guerriers et navigateurs intrépides qui ont établi leur puissance sur les vastes mers d'Europe. Les terres sont parsemées de villages fortifiés entourés de haies épines pour protéger contre les raids ennemis. La culture se caractérise par une foi profonde dans l'honneur martial et un respect inné pour Odin, Thor et Freya.\\n\\nLe joueur incarne un jeune Viking ambitieux cherchant à prouver sa valeur en accomplissant des quêtes héroïques. Son objectif principal consiste à rassembler suffisamment de richesses et de renommée pour fonder son propre clan ou rejoindre celui d'un chef réputé. Le conflit central tournera autour des rivalités entre clans locaux et des attaques constantes des forces extérieures qui menacent la sécurité et la prospérité des communautés normandes. \\n\\nLes personnages seront imprégnés de valeurs comme la bravoure, mais aussi confrontés aux réalités cruelles de cette ère où la survie dépend souvent de stratagèmes et de résilience face au danger omniprésent. L'environnement sera rude avec des tempêtes fréquentes et des conditions météorologiques défavorables rendant chaque voyage maritime périlleux.\",\n",
      "            \"type\": \"ai\",\n",
      "            \"id\": \"run-b24c467c-68d0-4c99-ad86-13f1565db73c-0\",\n",
      "            \"tool_calls\": [],\n",
      "            \"invalid_tool_calls\": []\n",
      "          }\n",
      "        }\n",
      "      }\n",
      "    ]\n",
      "  ],\n",
      "  \"llm_output\": null,\n",
      "  \"run\": null\n",
      "}\n"
     ]
    },
    {
     "data": {
      "text/plain": [
       "AIMessage(content=\"Dans le monde des Normands du IXème siècle, la société est dominée par les guerriers et navigateurs intrépides qui ont établi leur puissance sur les vastes mers d'Europe. Les terres sont parsemées de villages fortifiés entourés de haies épines pour protéger contre les raids ennemis. La culture se caractérise par une foi profonde dans l'honneur martial et un respect inné pour Odin, Thor et Freya.\\n\\nLe joueur incarne un jeune Viking ambitieux cherchant à prouver sa valeur en accomplissant des quêtes héroïques. Son objectif principal consiste à rassembler suffisamment de richesses et de renommée pour fonder son propre clan ou rejoindre celui d'un chef réputé. Le conflit central tournera autour des rivalités entre clans locaux et des attaques constantes des forces extérieures qui menacent la sécurité et la prospérité des communautés normandes. \\n\\nLes personnages seront imprégnés de valeurs comme la bravoure, mais aussi confrontés aux réalités cruelles de cette ère où la survie dépend souvent de stratagèmes et de résilience face au danger omniprésent. L'environnement sera rude avec des tempêtes fréquentes et des conditions météorologiques défavorables rendant chaque voyage maritime périlleux.\", id='run-b24c467c-68d0-4c99-ad86-13f1565db73c-0')"
      ]
     },
     "execution_count": 59,
     "metadata": {},
     "output_type": "execute_result"
    }
   ],
   "source": [
    "language = \"french\"\n",
    "\n",
    "prompt = PromptTemplate(\n",
    "    input_variables=['setting', 'language'],\n",
    "    template=OUTLINE_TEXT_PROMPT,\n",
    "    template_format='jinja2'\n",
    ")\n",
    "\n",
    "chain = prompt | model\n",
    "\n",
    "outline_text = chain.invoke({'setting': setting, 'language': language})\n",
    "\n",
    "outline_text"
   ]
  },
  {
   "cell_type": "code",
   "execution_count": 30,
   "metadata": {},
   "outputs": [
    {
     "name": "stdout",
     "output_type": "stream",
     "text": [
      "Bienvenue dans le monde des Vikings de Normandie au IXème siècle. Ce royaume est un mélange d'histoire et de légendes où la mer sert à la fois comme voie vers l'inconnu et comme frontière protectrice contre les envahisseurs. Les terres sont fertiles mais difficiles, couvertes parfois de vastes forêts aux mystères innombrables.\n",
      "\n",
      "Le joueur incarnera un jeune guerrier ou une jeune guerrière Viking qui aspire à gagner honneur et richesse en explorant ces contrées lointaines et menacées. Le personnage doit naviguer entre alliances tribales instables et conflits internationaux naissants pour prouver sa valeur face aux autres clans et protéger son peuple des dangers extérieurs et intérieurs.\n",
      "\n",
      "La quête principale consiste à rassembler les artefacts sacrés dispersés sur plusieurs îles afin de renforcer leur clan avant que ne survienne une menace commune plus grande encore : une invasion présumée d'une puissance étrangère redoutable. Chaque décision prise aura des répercussions immenses sur le destin collectif des siens.\n"
     ]
    }
   ],
   "source": [
    "print(outline_text.content)"
   ]
  },
  {
   "cell_type": "markdown",
   "metadata": {},
   "source": [
    "# 2. Generate locations"
   ]
  },
  {
   "cell_type": "code",
   "execution_count": 63,
   "metadata": {},
   "outputs": [],
   "source": [
    "LOCATIONS_GENERATION_PROMPT = \"\"\"\n",
    "You are the master world writer for an interactive fiction.\n",
    "On the basis of the given narrative context, create a list of locations in the world, which will be scenes in the IF.\n",
    "Define at least 4 to 5 main locations, as well as intermediate locations if pertinent.\n",
    "Your staff will use your work to refine each location, so you should make sure each location incoporates sufficient information for them to do so !\n",
    "You must take utmost care in creating a logical topology with no islands and coherent connections.\n",
    "Always refer to other locations using their \"name\" property in the links ! You should define all locations mentioned in the links.\n",
    "\n",
    "Output your work in the following JSON format:\n",
    "```json\n",
    "    \"Locations\": [\n",
    "        {\n",
    "            \"name\": \"Gravepine\",\n",
    "            \"importance\": \"Either 'major' or 'minor', this annotation will influence how your staff will detail the\"\n",
    "            \"description\": \"Description en quelques phrases du lieu, incorporant son atmosphère, son importance dans l'histoire et tout élément notable qui pourrait influencer les événements ou les personnages.\",\n",
    "            \"links\": [\"Chateau\"]\n",
    "        },\n",
    "        {\n",
    "            \"name\": \"Chateau\",\n",
    "            \"importance\": \"Either 'major' or 'minor', this annotation will influence how your staff will detail the\"\n",
    "            \"description\": \"Description en quelques phrases du lieu, incorporant son atmosphère, son importance dans l'histoire et tout élément notable qui pourrait influencer les événements ou les personnages.\",\n",
    "            \"links\": [\"Gravepine\", \"Nom d'un autre lieu\"]\n",
    "        },\n",
    "        ...\n",
    "    ],\n",
    "```\n",
    "\n",
    "Narrative context:\n",
    "{{ context }}\n",
    "\n",
    "Your output JSON values should always be in {{ language }}\n",
    "\"\"\""
   ]
  },
  {
   "cell_type": "code",
   "execution_count": 66,
   "metadata": {},
   "outputs": [
    {
     "name": "stderr",
     "output_type": "stream",
     "text": [
      "Parent run 721b4a81-a65c-441f-b014-d8b69c2e2295 not found for run 00c33967-236f-474e-b03e-5e73c91a66e2. Treating as a root run.\n"
     ]
    },
    {
     "name": "stdout",
     "output_type": "stream",
     "text": [
      "\u001b[32;1m\u001b[1;3m[llm/start]\u001b[0m \u001b[1m[llm:ChatMLX] Entering LLM run with input:\n",
      "\u001b[0m{\n",
      "  \"prompts\": [\n",
      "    \"Human: \\nYou are the master world writer for an interactive fiction.\\nOn the basis of the given narrative context, create a list of locations in the world, which will be scenes in the IF.\\nDefine at least 4 to 5 main locations, as well as intermediate locations if pertinent.\\nYour staff will use your work to refine each location, so you should make sure each location incoporates sufficient information for them to do so !\\nYou must take utmost care in creating a logical topology with no islands and coherent connections.\\nAlways refer to other locations using their \\\"name\\\" property in the links ! You should define all locations mentioned in the links.\\n\\nOutput your work in the following JSON format:\\n```json\\n    \\\"Locations\\\": [\\n        {\\n            \\\"name\\\": \\\"Gravepine\\\",\\n            \\\"importance\\\": \\\"Either 'major' or 'minor', this annotation will influence how your staff will detail the\\\"\\n            \\\"description\\\": \\\"Description en quelques phrases du lieu, incorporant son atmosphère, son importance dans l'histoire et tout élément notable qui pourrait influencer les événements ou les personnages.\\\",\\n            \\\"links\\\": [\\\"Chateau\\\"]\\n        },\\n        {\\n            \\\"name\\\": \\\"Chateau\\\",\\n            \\\"importance\\\": \\\"Either 'major' or 'minor', this annotation will influence how your staff will detail the\\\"\\n            \\\"description\\\": \\\"Description en quelques phrases du lieu, incorporant son atmosphère, son importance dans l'histoire et tout élément notable qui pourrait influencer les événements ou les personnages.\\\",\\n            \\\"links\\\": [\\\"Gravepine\\\", \\\"Nom d'un autre lieu\\\"]\\n        },\\n        ...\\n    ],\\n```\\n\\nNarrative context:\\nDans le monde des Normands du IXème siècle, la société est dominée par les guerriers et navigateurs intrépides qui ont établi leur puissance sur les vastes mers d'Europe. Les terres sont parsemées de villages fortifiés entourés de haies épines pour protéger contre les raids ennemis. La culture se caractérise par une foi profonde dans l'honneur martial et un respect inné pour Odin, Thor et Freya.\\n\\nLe joueur incarne un jeune Viking ambitieux cherchant à prouver sa valeur en accomplissant des quêtes héroïques. Son objectif principal consiste à rassembler suffisamment de richesses et de renommée pour fonder son propre clan ou rejoindre celui d'un chef réputé. Le conflit central tournera autour des rivalités entre clans locaux et des attaques constantes des forces extérieures qui menacent la sécurité et la prospérité des communautés normandes. \\n\\nLes personnages seront imprégnés de valeurs comme la bravoure, mais aussi confrontés aux réalités cruelles de cette ère où la survie dépend souvent de stratagèmes et de résilience face au danger omniprésent. L'environnement sera rude avec des tempêtes fréquentes et des conditions météorologiques défavorables rendant chaque voyage maritime périlleux.\\n\\nYour output JSON values should always be in french\"\n",
      "  ]\n",
      "}\n",
      "\u001b[36;1m\u001b[1;3m[llm/end]\u001b[0m \u001b[1m[llm:ChatMLX] [138.62s] Exiting LLM run with output:\n",
      "\u001b[0m{\n",
      "  \"generations\": [\n",
      "    [\n",
      "      {\n",
      "        \"text\": \"Voici votre liste de lieux adaptée au contexte narratif fourni :\\n\\n```json\\n{\\n    \\\"Locations\\\": [\\n        {\\n            \\\"name\\\": \\\"Village Fortifié de Gravepine\\\",\\n            \\\"importance\\\": \\\"major\\\",\\n            \\\"description\\\": \\\"Ce village fortifié est situé près d'une baie stratégique, offrant un abri sûr pour les navires vikings lorsqu'ils rentrent après leurs expéditions lointaines. Entouré de haies d'épines et doté d'une muraille solide, il sert également de centre administratif local sous la protection d’un jarl respecté.\\\",\\n            \\\"links\\\": [\\\"Forêt Sombre\\\", \\\"Port Marchand\\\", \\\"Colline Sacrée\\\"]\\n        },\\n        {\\n            \\\"name\\\": \\\"Forêt Sombre\\\",\\n            \\\"importance\\\": \\\"minor\\\",\\n            \\\"description\\\": \\\"Une étendue sombre et mystérieuse peuplée de créatures légendaires selon les histoires locales. Elle offre refuge et ressources naturelles essentielles pour le village voisin, mais reste dangereuse sans guide compétent.\\\",\\n            \\\"links\\\": [\\\"Village Fortifié de Gravepine\\\", \\\"Grottes Anciennes\\\"]\\n        },\\n        {\\n            \\\"name\\\": \\\"Port Marchand\\\",\\n            \\\"importance\\\": \\\"major\\\",\\n            \\\"description\\\": \\\"Un port animé où les commerçants viennent négocier des marchandises précieuses venues des quatre coins de l’Europe. C'est ici que beaucoup de riches transactions commerciales prennent place, faisant de ce lieu un carrefour vital pour toute personne souhaitant amasser fortune et prestige.\\\",\\n            \\\"links\\\": [\\\"Village Fortifié de Gravepine\\\", \\\"Mer Inquiétante\\\"]\\n        },\\n        {\\n            \\\"name\\\": \\\"Colline Sacrée\\\",\\n            \\\"importance\\\": \\\"major\\\",\\n            \\\"description\\\": \\\"Lieu sacré consacré aux dieux nordiques : Odin, Thor et Freya. Des célébrations y sont régulièrement organisées pour honorer ces divinités et demander leur bénédiction avant les grandes expéditions maritimes. Il s'y trouve également plusieurs runes gravées dans la pierre, gardiens secrets de connaissances ancestrales.\\\",\\n            \\\"links\\\": [\\\"Village Fortifié de Gravepine\\\", \\\"Sentiers Secrets\\\"]\\n        },\\n        {\\n            \\\"name\\\": \\\"Grottes Anciennes\\\",\\n            \\\"importance\\\": \\\"minor\\\",\\n            \\\"description\\\": \\\"Système souterrain ancien rempli de trésors perdus depuis longtemps et potentiellement habité par des esprits malveillants. Ces grottes représentent un grand risque mais aussi une grande opportunité pour ceux ayant assez de courage et de chance pour explorer ses recoins obscurs.\\\",\\n            \\\"links\\\": [\\\"Forêt Sombre\\\"]\\n        },\\n        {\\n            \\\"name\\\": \\\"Mer Inquiétante\\\",\\n            \\\"importance\\\": \\\"major\\\",\\n            \\\"description\\\": \\\"Merveilleuse mais redoutable mer naviguée par les Vikings pour conquérir nouveaux territoires et trouver nouvelles fortunes. Ses eaux peuvent être agitées par des tempêtes violentes et elle cache des dangers tels que des monstres marins mythiques.\\\",\\n            \\\"links\\\": [\\\"Port Marchand\\\", \\\"Ile Mystérieuse\\\"]\\n        }\\n    ]\\n}\\n```\\nCette structure permettra non seulement de créer un environnement cohérent et logique pour le jeu interactif, mais aussi d'introduire divers éléments narratives importants pour enrichir l'expérience du joueur.\",\n",
      "        \"generation_info\": null,\n",
      "        \"type\": \"ChatGeneration\",\n",
      "        \"message\": {\n",
      "          \"lc\": 1,\n",
      "          \"type\": \"constructor\",\n",
      "          \"id\": [\n",
      "            \"langchain\",\n",
      "            \"schema\",\n",
      "            \"messages\",\n",
      "            \"AIMessage\"\n",
      "          ],\n",
      "          \"kwargs\": {\n",
      "            \"content\": \"Voici votre liste de lieux adaptée au contexte narratif fourni :\\n\\n```json\\n{\\n    \\\"Locations\\\": [\\n        {\\n            \\\"name\\\": \\\"Village Fortifié de Gravepine\\\",\\n            \\\"importance\\\": \\\"major\\\",\\n            \\\"description\\\": \\\"Ce village fortifié est situé près d'une baie stratégique, offrant un abri sûr pour les navires vikings lorsqu'ils rentrent après leurs expéditions lointaines. Entouré de haies d'épines et doté d'une muraille solide, il sert également de centre administratif local sous la protection d’un jarl respecté.\\\",\\n            \\\"links\\\": [\\\"Forêt Sombre\\\", \\\"Port Marchand\\\", \\\"Colline Sacrée\\\"]\\n        },\\n        {\\n            \\\"name\\\": \\\"Forêt Sombre\\\",\\n            \\\"importance\\\": \\\"minor\\\",\\n            \\\"description\\\": \\\"Une étendue sombre et mystérieuse peuplée de créatures légendaires selon les histoires locales. Elle offre refuge et ressources naturelles essentielles pour le village voisin, mais reste dangereuse sans guide compétent.\\\",\\n            \\\"links\\\": [\\\"Village Fortifié de Gravepine\\\", \\\"Grottes Anciennes\\\"]\\n        },\\n        {\\n            \\\"name\\\": \\\"Port Marchand\\\",\\n            \\\"importance\\\": \\\"major\\\",\\n            \\\"description\\\": \\\"Un port animé où les commerçants viennent négocier des marchandises précieuses venues des quatre coins de l’Europe. C'est ici que beaucoup de riches transactions commerciales prennent place, faisant de ce lieu un carrefour vital pour toute personne souhaitant amasser fortune et prestige.\\\",\\n            \\\"links\\\": [\\\"Village Fortifié de Gravepine\\\", \\\"Mer Inquiétante\\\"]\\n        },\\n        {\\n            \\\"name\\\": \\\"Colline Sacrée\\\",\\n            \\\"importance\\\": \\\"major\\\",\\n            \\\"description\\\": \\\"Lieu sacré consacré aux dieux nordiques : Odin, Thor et Freya. Des célébrations y sont régulièrement organisées pour honorer ces divinités et demander leur bénédiction avant les grandes expéditions maritimes. Il s'y trouve également plusieurs runes gravées dans la pierre, gardiens secrets de connaissances ancestrales.\\\",\\n            \\\"links\\\": [\\\"Village Fortifié de Gravepine\\\", \\\"Sentiers Secrets\\\"]\\n        },\\n        {\\n            \\\"name\\\": \\\"Grottes Anciennes\\\",\\n            \\\"importance\\\": \\\"minor\\\",\\n            \\\"description\\\": \\\"Système souterrain ancien rempli de trésors perdus depuis longtemps et potentiellement habité par des esprits malveillants. Ces grottes représentent un grand risque mais aussi une grande opportunité pour ceux ayant assez de courage et de chance pour explorer ses recoins obscurs.\\\",\\n            \\\"links\\\": [\\\"Forêt Sombre\\\"]\\n        },\\n        {\\n            \\\"name\\\": \\\"Mer Inquiétante\\\",\\n            \\\"importance\\\": \\\"major\\\",\\n            \\\"description\\\": \\\"Merveilleuse mais redoutable mer naviguée par les Vikings pour conquérir nouveaux territoires et trouver nouvelles fortunes. Ses eaux peuvent être agitées par des tempêtes violentes et elle cache des dangers tels que des monstres marins mythiques.\\\",\\n            \\\"links\\\": [\\\"Port Marchand\\\", \\\"Ile Mystérieuse\\\"]\\n        }\\n    ]\\n}\\n```\\nCette structure permettra non seulement de créer un environnement cohérent et logique pour le jeu interactif, mais aussi d'introduire divers éléments narratives importants pour enrichir l'expérience du joueur.\",\n",
      "            \"type\": \"ai\",\n",
      "            \"id\": \"run-00c33967-236f-474e-b03e-5e73c91a66e2-0\",\n",
      "            \"tool_calls\": [],\n",
      "            \"invalid_tool_calls\": []\n",
      "          }\n",
      "        }\n",
      "      }\n",
      "    ]\n",
      "  ],\n",
      "  \"llm_output\": null,\n",
      "  \"run\": null\n",
      "}\n"
     ]
    }
   ],
   "source": [
    "from langchain_core.prompts import PromptTemplate\n",
    "from langchain_core.output_parsers import JsonOutputParser\n",
    "\n",
    "from generator.parsers import OutlineParser\n",
    "\n",
    "prompt = PromptTemplate(\n",
    "    input_variables=['setting'],\n",
    "    template=LOCATIONS_GENERATION_PROMPT,\n",
    "    template_format='jinja2'\n",
    ")\n",
    "\n",
    "parser = JsonOutputParser() # OutlineParser\n",
    "\n",
    "chain = prompt | model | parser\n",
    "\n",
    "locations_output = chain.invoke({'context': outline_text.content, 'language': language})\n"
   ]
  },
  {
   "cell_type": "code",
   "execution_count": 70,
   "metadata": {},
   "outputs": [
    {
     "data": {
      "text/plain": [
       "[{'name': 'Village Fortifié de Gravepine',\n",
       "  'importance': 'major',\n",
       "  'description': \"Ce village fortifié est situé près d'une baie stratégique, offrant un abri sûr pour les navires vikings lorsqu'ils rentrent après leurs expéditions lointaines. Entouré de haies d'épines et doté d'une muraille solide, il sert également de centre administratif local sous la protection d’un jarl respecté.\",\n",
       "  'links': ['Forêt Sombre', 'Port Marchand', 'Colline Sacrée']},\n",
       " {'name': 'Forêt Sombre',\n",
       "  'importance': 'minor',\n",
       "  'description': 'Une étendue sombre et mystérieuse peuplée de créatures légendaires selon les histoires locales. Elle offre refuge et ressources naturelles essentielles pour le village voisin, mais reste dangereuse sans guide compétent.',\n",
       "  'links': ['Village Fortifié de Gravepine', 'Grottes Anciennes']},\n",
       " {'name': 'Port Marchand',\n",
       "  'importance': 'major',\n",
       "  'description': \"Un port animé où les commerçants viennent négocier des marchandises précieuses venues des quatre coins de l’Europe. C'est ici que beaucoup de riches transactions commerciales prennent place, faisant de ce lieu un carrefour vital pour toute personne souhaitant amasser fortune et prestige.\",\n",
       "  'links': ['Village Fortifié de Gravepine', 'Mer Inquiétante']},\n",
       " {'name': 'Colline Sacrée',\n",
       "  'importance': 'major',\n",
       "  'description': \"Lieu sacré consacré aux dieux nordiques : Odin, Thor et Freya. Des célébrations y sont régulièrement organisées pour honorer ces divinités et demander leur bénédiction avant les grandes expéditions maritimes. Il s'y trouve également plusieurs runes gravées dans la pierre, gardiens secrets de connaissances ancestrales.\",\n",
       "  'links': ['Village Fortifié de Gravepine', 'Sentiers Secrets']},\n",
       " {'name': 'Grottes Anciennes',\n",
       "  'importance': 'minor',\n",
       "  'description': 'Système souterrain ancien rempli de trésors perdus depuis longtemps et potentiellement habité par des esprits malveillants. Ces grottes représentent un grand risque mais aussi une grande opportunité pour ceux ayant assez de courage et de chance pour explorer ses recoins obscurs.',\n",
       "  'links': ['Forêt Sombre']},\n",
       " {'name': 'Mer Inquiétante',\n",
       "  'importance': 'major',\n",
       "  'description': 'Merveilleuse mais redoutable mer naviguée par les Vikings pour conquérir nouveaux territoires et trouver nouvelles fortunes. Ses eaux peuvent être agitées par des tempêtes violentes et elle cache des dangers tels que des monstres marins mythiques.',\n",
       "  'links': ['Port Marchand', 'Ile Mystérieuse']}]"
      ]
     },
     "execution_count": 70,
     "metadata": {},
     "output_type": "execute_result"
    }
   ],
   "source": [
    "location_outlines = locations_output['Locations']\n",
    "location_outlines"
   ]
  },
  {
   "cell_type": "code",
   "execution_count": 35,
   "metadata": {},
   "outputs": [],
   "source": [
    "from dataclasses import dataclass, field\n",
    "from typing import Optional, List\n",
    "\n",
    "@dataclass\n",
    "class LocationData:\n",
    "    name: str\n",
    "    description: str\n",
    "    stance: Optional[str] = None\n",
    "    relationships: Optional[List[str]] = field(default_factory=list)\n",
    "    characters: Optional[List[str]] = field(default_factory=list)\n",
    "    items: Optional[List[dict]] = field(default_factory=list)"
   ]
  },
  {
   "cell_type": "code",
   "execution_count": 71,
   "metadata": {},
   "outputs": [
    {
     "name": "stdout",
     "output_type": "stream",
     "text": [
      "LocationData(name='Village Fortifié de Gravepine', description=\"Ce village fortifié est situé près d'une baie stratégique, offrant un abri sûr pour les navires vikings lorsqu'ils rentrent après leurs expéditions lointaines. Entouré de haies d'épines et doté d'une muraille solide, il sert également de centre administratif local sous la protection d’un jarl respecté.\", stance=None, relationships=['Forêt Sombre', 'Port Marchand', 'Colline Sacrée'], characters=[], items=[])\n",
      "LocationData(name='Forêt Sombre', description='Une étendue sombre et mystérieuse peuplée de créatures légendaires selon les histoires locales. Elle offre refuge et ressources naturelles essentielles pour le village voisin, mais reste dangereuse sans guide compétent.', stance=None, relationships=['Village Fortifié de Gravepine', 'Grottes Anciennes'], characters=[], items=[])\n",
      "LocationData(name='Port Marchand', description=\"Un port animé où les commerçants viennent négocier des marchandises précieuses venues des quatre coins de l’Europe. C'est ici que beaucoup de riches transactions commerciales prennent place, faisant de ce lieu un carrefour vital pour toute personne souhaitant amasser fortune et prestige.\", stance=None, relationships=['Village Fortifié de Gravepine', 'Mer Inquiétante'], characters=[], items=[])\n",
      "LocationData(name='Colline Sacrée', description=\"Lieu sacré consacré aux dieux nordiques : Odin, Thor et Freya. Des célébrations y sont régulièrement organisées pour honorer ces divinités et demander leur bénédiction avant les grandes expéditions maritimes. Il s'y trouve également plusieurs runes gravées dans la pierre, gardiens secrets de connaissances ancestrales.\", stance=None, relationships=['Village Fortifié de Gravepine', 'Sentiers Secrets'], characters=[], items=[])\n",
      "LocationData(name='Grottes Anciennes', description='Système souterrain ancien rempli de trésors perdus depuis longtemps et potentiellement habité par des esprits malveillants. Ces grottes représentent un grand risque mais aussi une grande opportunité pour ceux ayant assez de courage et de chance pour explorer ses recoins obscurs.', stance=None, relationships=['Forêt Sombre'], characters=[], items=[])\n",
      "LocationData(name='Mer Inquiétante', description='Merveilleuse mais redoutable mer naviguée par les Vikings pour conquérir nouveaux territoires et trouver nouvelles fortunes. Ses eaux peuvent être agitées par des tempêtes violentes et elle cache des dangers tels que des monstres marins mythiques.', stance=None, relationships=['Port Marchand', 'Ile Mystérieuse'], characters=[], items=[])\n"
     ]
    }
   ],
   "source": [
    "# Encoder les lieux sous forme d'objets\n",
    "locations = []\n",
    "for loc in location_outlines:\n",
    "    location = LocationData(name=loc['name'], description=loc['description'], relationships=loc['links'])\n",
    "    print(location)\n",
    "    locations.append(location)"
   ]
  },
  {
   "cell_type": "code",
   "execution_count": 69,
   "metadata": {},
   "outputs": [
    {
     "data": {
      "image/png": "[encoded data removed]",
      "text/plain": [
       "<Figure size 1000x800 with 1 Axes>"
      ]
     },
     "metadata": {},
     "output_type": "display_data"
    }
   ],
   "source": [
    "import networkx as nx\n",
    "import matplotlib.pyplot as plt\n",
    "\n",
    "def display_location_relationships(locations: List[LocationData]):\n",
    "    # Create a graph\n",
    "    G = nx.Graph()\n",
    "\n",
    "    # Add nodes and edges\n",
    "    for location in locations:\n",
    "        G.add_node(location.name)  # Add each location as a node\n",
    "        for related_location in location.relationships:\n",
    "            # Create edges for relationships\n",
    "            G.add_edge(location.name, related_location)\n",
    "\n",
    "    # Draw the graph\n",
    "    plt.figure(figsize=(10, 8))\n",
    "    pos = nx.spring_layout(G)  # Positioning of the graph\n",
    "\n",
    "    # Draw nodes, edges, and labels\n",
    "    nx.draw(G, pos,\n",
    "            with_labels=True,\n",
    "            node_color='lightblue',\n",
    "            node_size=2000,\n",
    "            font_size=10,\n",
    "            font_weight='bold',\n",
    "            edge_color='gray')\n",
    "    plt.title('Location Relationship Graph')\n",
    "    plt.show()\n",
    "\n",
    "display_location_relationships(locs)"
   ]
  },
  {
   "cell_type": "markdown",
   "metadata": {},
   "source": [
    "Structure works, it's a hub structure with linear branches. Good enough !\n",
    "Extra points for the water structure"
   ]
  },
  {
   "cell_type": "code",
   "execution_count": 31,
   "metadata": {},
   "outputs": [],
   "source": [
    "STORY_OUTLINE_PROMPT = \"\"\"\n",
    "# Instructions pour la génération\n",
    "Sur la base du contexte narratif ci-dessous, générez les grandes lignes d'une histoire possible en tenant compte des éléments suivants :\n",
    "\n",
    "    Joueur : Établir la position et le rôle du joueur dans l'histoire, en précisant leur identité, leurs motivations et leur lien avec les personnages principaux. Décrire le point de départ du joueur et son rôle dans le récit global.\n",
    "    Personnages: Etablir une liste d'au moins **4 à 6** personnages principaux de l'histoire, sans rentrer dans trop de détails. Veille à établir au moins un antagoniste principal.\n",
    "    Objectif : Définir l'objectif global du joueur, en précisant le problème principal à résoudre ou l'enjeu narratif qui motive l'action.\n",
    "    Événements : Décrire au moins 1 à 3 événements clés qui alimentent l'histoire et doivent être déclenchés par l'action du joueur.\n",
    "    Objets : Générer uniquement les éléments essentiels nécessaires pour compléter l'histoire (objets de quête), en incluant : Un nom et une description de chaque objet, avec sa fonction dans le récit. Indiquer le lieu où se trouve chaque objet, en s'assurant qu'il s'intègre logiquement dans le contexte de l'histoire.\n",
    "    Commentaires : Inclure tout commentaire supplémentaire qui pourrait guider la génération de détails supplémentaires ou éclaircir des éléments importants de l'histoire.\n",
    "\n",
    "# Format de sortie\n",
    "D'abord, raisonner sur le contexte narratif donné et son importance pour la cohérence du monde et de l'histoire, l'intrigue principale (qui doit être de nature ouverte), et les relations des personnages.\n",
    "Fournir les éléments dans un fichier json structuré selon le format suivant:\n",
    "{\n",
    "    \"Player\": {\n",
    "        \"name\": \"Donner le nom du personnage qu'incarne le joueur\",\n",
    "        \"description\": \"Description en quelques phrases du personnage qu'incarne le joueur\",\n",
    "        \"location\": \"Nom du lieu de départ de l'histoire\"\n",
    "    },\n",
    "    \"Characters\": [\n",
    "        {\n",
    "            \"name\": \"Nom propre du personnage 1\",\n",
    "            \"description\": \"description en une phrase du personnage, incorporant son rôle et sa fonction dans l'histoire, et sa relation aux autres personnages.\",\n",
    "        },\n",
    "        ...\n",
    "    ],\n",
    "    \"Goal\": {\n",
    "        \"description\": \"description du problème ou de l'enjeu qui motive le joueur\"\n",
    "        \"requiresItem\": \"(FACULTATIF) S'il un objet qui est le centre de l'histoire et doit être récupéré pour gagner, l'indiquer ici. Sinon, omettre ce champs.\"\n",
    "    },\n",
    "    \"Events\": [\n",
    "        {\n",
    "            \"name\": \"Evènement 1\",\n",
    "            \"description\": \"description de l'évènement\",\n",
    "            \"condition\": \"description de la condition qui déclenche l'évènement (devrait être déclenché par l'action du joueur !)\",\n",
    "            \"consequences\": [\"Une ou plusieurs conséquences à l'évènement\", \"deuxième conséquence possible\"]\n",
    "        },\n",
    "        ...\n",
    "    ],\n",
    "    \"Items\": [\n",
    "        {\n",
    "            \"name\": \"Nom de l'objet\",\n",
    "            \"description\": \"description courte de l'objet et de sa fonction dans le récit\",\n",
    "            \"location\": \"(OBLIGATOIRE) Nom du lieu qui contient l'objet\"\n",
    "        },\n",
    "        ...\n",
    "    ],\n",
    "    \"Comments\": [\n",
    "        \"Tout commentaire que tu voudrais ajouter pour guider la génération de détails supplémentaires et pendant le jeu. Sois précis plus que général: donne des commentaires qui peuvent être exploités. Des éléments importants de l'histoire\"\n",
    "    ]\n",
    "}\n",
    "\n",
    "# Contexte narratif\n",
    "{{ setting }}\n",
    "\n",
    "\n",
    "\n",
    "# Résultat\n",
    "\"\"\""
   ]
  },
  {
   "cell_type": "code",
   "execution_count": 33,
   "metadata": {},
   "outputs": [
    {
     "name": "stderr",
     "output_type": "stream",
     "text": [
      "Parent run df462d12-8ef2-494d-8074-4a93113b793d not found for run 60aec6f8-e637-4d27-b1c6-84378bf16969. Treating as a root run.\n"
     ]
    },
    {
     "name": "stdout",
     "output_type": "stream",
     "text": [
      "\u001b[32;1m\u001b[1;3m[llm/start]\u001b[0m \u001b[1m[llm:ChatMLX] Entering LLM run with input:\n",
      "\u001b[0m{\n",
      "  \"prompts\": [\n",
      "    \"Human: \\n# Instructions pour la génération\\nSur la base du contexte narratif ci-dessous, générez les grandes lignes d'une histoire possible en tenant compte des éléments suivants :\\n\\n    Lieux : Définissez au moins **4 à 5** lieux clés pertinents pour le contexte et la construction du monde. Incluez une description succincte de chaque lieu.\\n    Joueur : Établir la position et le rôle du joueur dans l'histoire, en précisant leur identité, leurs motivations et leur lien avec les personnages principaux. Décrire le point de départ du joueur et son rôle dans le récit global.\\n    Personnages: Etablir une liste d'au moins **4 à 6** personnages principaux de l'histoire, sans rentrer dans trop de détails. Veille à établir au moins un antagoniste principal.\\n    Objectif : Définir l'objectif global du joueur, en précisant le problème principal à résoudre ou l'enjeu narratif qui motive l'action.\\n    Événements : Décrire au moins 1 à 3 événements clés qui alimentent l'histoire et doivent être déclenchés par l'action du joueur.\\n    Objets : Générer uniquement les éléments essentiels nécessaires pour compléter l'histoire (objets de quête), en incluant : Un nom et une description de chaque objet, avec sa fonction dans le récit. Indiquer le lieu où se trouve chaque objet, en s'assurant qu'il s'intègre logiquement dans le contexte de l'histoire.\\n    Commentaires : Inclure tout commentaire supplémentaire qui pourrait guider la génération de détails supplémentaires ou éclaircir des éléments importants de l'histoire.\\n\\n# Format de sortie\\nD'abord, raisonner sur le contexte narratif donné et son importance pour la cohérence du monde et de l'histoire, l'intrigue principale (qui doit être de nature ouverte), et les relations des personnages.\\nFournir les éléments dans un fichier json structuré selon le format suivant:\\n{\\n    \\\"Locations\\\": [\\n        {\\n            \\\"name\\\": \\\"Nom du lieu 1\\\",\\n            \\\"description\\\": \\\"Description en quelques phrases du lieu, incorporant son atmosphère, son importance dans l'histoire et tout élément notable qui pourrait influencer les événements ou les personnages.\\\"\\n        },\\n        ...\\n    ],\\n    \\\"Player\\\": {\\n        \\\"name\\\": \\\"Donner le nom du personnage qu'incarne le joueur\\\",\\n        \\\"description\\\": \\\"Description en quelques phrases du personnage qu'incarne le joueur\\\",\\n        \\\"location\\\": \\\"Nom du lieu de départ de l'histoire\\\"\\n    },\\n    \\\"Characters\\\": [\\n        {\\n            \\\"name\\\": \\\"Nom propre du personnage 1\\\",\\n            \\\"description\\\": \\\"description en une phrase du personnage, incorporant son rôle et sa fonction dans l'histoire, et sa relation aux autres personnages.\\\",\\n        },\\n        ...\\n    ],\\n    \\\"Goal\\\": {\\n        \\\"description\\\": \\\"description du problème ou de l'enjeu qui motive le joueur\\\"\\n        \\\"requiresItem\\\": \\\"(FACULTATIF) S'il un objet qui est le centre de l'histoire et doit être récupéré pour gagner, l'indiquer ici. Sinon, omettre ce champs.\\\"\\n    },\\n    \\\"Events\\\": [\\n        {\\n            \\\"name\\\": \\\"Evènement 1\\\",\\n            \\\"description\\\": \\\"description de l'évènement\\\",\\n            \\\"condition\\\": \\\"description de la condition qui déclenche l'évènement (devrait être déclenché par l'action du joueur !)\\\",\\n            \\\"consequences\\\": [\\\"Une ou plusieurs conséquences à l'évènement\\\", \\\"deuxième conséquence possible\\\"]\\n        },\\n        ...\\n    ],\\n    \\\"Items\\\": [\\n        {\\n            \\\"name\\\": \\\"Nom de l'objet\\\",\\n            \\\"description\\\": \\\"description courte de l'objet et de sa fonction dans le récit\\\",\\n            \\\"location\\\": \\\"(OBLIGATOIRE) Nom du lieu qui contient l'objet\\\"\\n        },\\n        ...\\n    ],\\n    \\\"Comments\\\": [\\n        \\\"Tout commentaire que tu voudrais ajouter pour guider la génération de détails supplémentaires et pendant le jeu. Sois précis plus que général: donne des commentaires qui peuvent être exploités. Des éléments importants de l'histoire\\\"\\n    ]\\n}\\n\\n# Contexte narratif\\nBienvenue dans le monde des Vikings de Normandie au IXème siècle. Ce royaume est un mélange d'histoire et de légendes où la mer sert à la fois comme voie vers l'inconnu et comme frontière protectrice contre les envahisseurs. Les terres sont fertiles mais difficiles, couvertes parfois de vastes forêts aux mystères innombrables.\\n\\nLe joueur incarnera un jeune guerrier ou une jeune guerrière Viking qui aspire à gagner honneur et richesse en explorant ces contrées lointaines et menacées. Le personnage doit naviguer entre alliances tribales instables et conflits internationaux naissants pour prouver sa valeur face aux autres clans et protéger son peuple des dangers extérieurs et intérieurs.\\n\\nLa quête principale consiste à rassembler les artefacts sacrés dispersés sur plusieurs îles afin de renforcer leur clan avant que ne survienne une menace commune plus grande encore : une invasion présumée d'une puissance étrangère redoutable. Chaque décision prise aura des répercussions immenses sur le destin collectif des siens.\\n\\n# Résultat\"\n",
      "  ]\n",
      "}\n",
      "\u001b[36;1m\u001b[1;3m[llm/end]\u001b[0m \u001b[1m[llm:ChatMLX] [121.26s] Exiting LLM run with output:\n",
      "\u001b[0m{\n",
      "  \"generations\": [\n",
      "    [\n",
      "      {\n",
      "        \"text\": \"Voici une structure narrative basée sur votre demande:\\n\\n```json\\n{\\n    \\\"Locations\\\": [\\n        {\\\"name\\\":\\\"Village côtier\\\",\\\"description\\\":\\\"Un village typique des Vikings situé près de la côte normande, entouré de falaises escarpées et bordé par la mer agitée.\\\"},\\n        {\\\"name\\\":\\\"Forêt ancienne\\\",\\\"description\\\":\\\"Une immense forêt remplie de vieilles chênes et de mythes locaux, abritant des créatures fantastiques ainsi que des reliques anciennes.\\\"},\\n        {\\\"name\\\":\\\"Île Sacrée\\\",\\\"description\\\":\\\"Lieu secret où ont été cachés certains des artefacts sacrés; cette île est gardée par des esprits ancestraux malveillants.\\\"},\\n        {\\\"name\\\":\\\"Capitaine's Hold\\\",\\\"description\\\":\\\"Forteresse maritime située sur une presqu’île stratégique, commandée par un capitaine respecté mais ambitieux.\\\"}, \\n        {\\\"name\\\":\\\"Ruines romaines\\\",\\\"description\\\":\\\"Anciennes ruines abandonnées depuis longtemps, maintenant habitées par des bandits et dissimulant peut-être des secrets historiques\\\"}\\n    ],\\n\\n    \\\"Player\\\":{\\n      \\\"name\\\":\\\"Erik/Erka\\\",\\n      \\\"description\\\":\\\"Jeune guerrier/guerrière Viking plein(e) d'espoirs et désireux(se) de faire ses preuves auprès de son peuple. Aspire à obtenir reconnaissance et prestige.\\\",\\n      \\\"location\\\":\\\"Village côtier\\\"\\n     },\\n\\n   \\\"Characters\\\":[  \\n       {\\\"name\\\":\\\"Sigurd\\\",\\\"description\\\":\\\"Chef tribal sage et expérimenté qui guide Erik/Erka\\\"},\\n       {\\\"name\\\":\\\"Aldora\\\",\\\"description\\\":\\\"Sorcière locale connue pour ses pouvoirs divination et protection\\\"},   \\n       {\\\"name\\\":\\\"Gunnar\\\",\\\"description\\\":\\\"Ambitieux Capitaine rival dont les actions mettent souvent en danger le bienêtre communautaire\\\"},\\n       {\\\"name\\\":\\\"Hilda\\\",\\\"description\\\":\\\"Princesse d'un autre clan qui cherche alliance pacifique\\\"}    \\n    ],  \\n\\n\\\"Goal\\\":{\\\"description\\\":\\\"Rassembler tous les artefacts sacrés pour renforcer le pouvoir spirituel et physique du clan avant l’invasion imminente.\\\", \\\"requiresItem\\\":\\\"Artefact Sacré\\\"}\\n\\n,\\\"Events\\\":[{\\\"name\\\":\\\"Rencontre avec Aldora\\\",\\\"description\\\":\\\"Après avoir vaincu une bête forestière, Erik rencontre Aldora.\\\",\\\"condition\\\":\\\"Éliminer la menace dans la Forêt Ancienne\\\",\\\"consequences\\\":[\\\"Apprentissage de sorts utiles\\\",\\\"Révélation concernant l'emplacement d’un Artefact\\\"]}],\\n\\n\\\"Items\\\":[{\\n\\\"name\\\":\\\"Amulette Divine\\\",\\\"description\\\":\\\"Objet magique offrant protection divine lors des combats\\\",\\\"location\\\":\\\"Île Sacrée\\\"},{\\\"name\\\":\\\"Bouclier Runique\\\",\\\"description\\\":\\\"Armure spéciale gravée avec runes de force\\\",\\\"location\\\":\\\"Ruines Romains\\\"}] \\n\\n,\\\"Comments\\\":[\\\"Les décisions du joueur auront un impact significatif sur les rapports intertribaux et sur la capacité globale à repousser l'invasion.\\\"] }\\n```\\n\\nCette structure offre un cadre solide pour développer davantage vos idées autour du scénario proposé. Elle permet également de créer différentes branches narratives possibles en fonction des choix faits par le joueur.\",\n",
      "        \"generation_info\": null,\n",
      "        \"type\": \"ChatGeneration\",\n",
      "        \"message\": {\n",
      "          \"lc\": 1,\n",
      "          \"type\": \"constructor\",\n",
      "          \"id\": [\n",
      "            \"langchain\",\n",
      "            \"schema\",\n",
      "            \"messages\",\n",
      "            \"AIMessage\"\n",
      "          ],\n",
      "          \"kwargs\": {\n",
      "            \"content\": \"Voici une structure narrative basée sur votre demande:\\n\\n```json\\n{\\n    \\\"Locations\\\": [\\n        {\\\"name\\\":\\\"Village côtier\\\",\\\"description\\\":\\\"Un village typique des Vikings situé près de la côte normande, entouré de falaises escarpées et bordé par la mer agitée.\\\"},\\n        {\\\"name\\\":\\\"Forêt ancienne\\\",\\\"description\\\":\\\"Une immense forêt remplie de vieilles chênes et de mythes locaux, abritant des créatures fantastiques ainsi que des reliques anciennes.\\\"},\\n        {\\\"name\\\":\\\"Île Sacrée\\\",\\\"description\\\":\\\"Lieu secret où ont été cachés certains des artefacts sacrés; cette île est gardée par des esprits ancestraux malveillants.\\\"},\\n        {\\\"name\\\":\\\"Capitaine's Hold\\\",\\\"description\\\":\\\"Forteresse maritime située sur une presqu’île stratégique, commandée par un capitaine respecté mais ambitieux.\\\"}, \\n        {\\\"name\\\":\\\"Ruines romaines\\\",\\\"description\\\":\\\"Anciennes ruines abandonnées depuis longtemps, maintenant habitées par des bandits et dissimulant peut-être des secrets historiques\\\"}\\n    ],\\n\\n    \\\"Player\\\":{\\n      \\\"name\\\":\\\"Erik/Erka\\\",\\n      \\\"description\\\":\\\"Jeune guerrier/guerrière Viking plein(e) d'espoirs et désireux(se) de faire ses preuves auprès de son peuple. Aspire à obtenir reconnaissance et prestige.\\\",\\n      \\\"location\\\":\\\"Village côtier\\\"\\n     },\\n\\n   \\\"Characters\\\":[  \\n       {\\\"name\\\":\\\"Sigurd\\\",\\\"description\\\":\\\"Chef tribal sage et expérimenté qui guide Erik/Erka\\\"},\\n       {\\\"name\\\":\\\"Aldora\\\",\\\"description\\\":\\\"Sorcière locale connue pour ses pouvoirs divination et protection\\\"},   \\n       {\\\"name\\\":\\\"Gunnar\\\",\\\"description\\\":\\\"Ambitieux Capitaine rival dont les actions mettent souvent en danger le bienêtre communautaire\\\"},\\n       {\\\"name\\\":\\\"Hilda\\\",\\\"description\\\":\\\"Princesse d'un autre clan qui cherche alliance pacifique\\\"}    \\n    ],  \\n\\n\\\"Goal\\\":{\\\"description\\\":\\\"Rassembler tous les artefacts sacrés pour renforcer le pouvoir spirituel et physique du clan avant l’invasion imminente.\\\", \\\"requiresItem\\\":\\\"Artefact Sacré\\\"}\\n\\n,\\\"Events\\\":[{\\\"name\\\":\\\"Rencontre avec Aldora\\\",\\\"description\\\":\\\"Après avoir vaincu une bête forestière, Erik rencontre Aldora.\\\",\\\"condition\\\":\\\"Éliminer la menace dans la Forêt Ancienne\\\",\\\"consequences\\\":[\\\"Apprentissage de sorts utiles\\\",\\\"Révélation concernant l'emplacement d’un Artefact\\\"]}],\\n\\n\\\"Items\\\":[{\\n\\\"name\\\":\\\"Amulette Divine\\\",\\\"description\\\":\\\"Objet magique offrant protection divine lors des combats\\\",\\\"location\\\":\\\"Île Sacrée\\\"},{\\\"name\\\":\\\"Bouclier Runique\\\",\\\"description\\\":\\\"Armure spéciale gravée avec runes de force\\\",\\\"location\\\":\\\"Ruines Romains\\\"}] \\n\\n,\\\"Comments\\\":[\\\"Les décisions du joueur auront un impact significatif sur les rapports intertribaux et sur la capacité globale à repousser l'invasion.\\\"] }\\n```\\n\\nCette structure offre un cadre solide pour développer davantage vos idées autour du scénario proposé. Elle permet également de créer différentes branches narratives possibles en fonction des choix faits par le joueur.\",\n",
      "            \"type\": \"ai\",\n",
      "            \"id\": \"run-60aec6f8-e637-4d27-b1c6-84378bf16969-0\",\n",
      "            \"tool_calls\": [],\n",
      "            \"invalid_tool_calls\": []\n",
      "          }\n",
      "        }\n",
      "      }\n",
      "    ]\n",
      "  ],\n",
      "  \"llm_output\": null,\n",
      "  \"run\": null\n",
      "}\n"
     ]
    }
   ],
   "source": [
    "from langchain_core.prompts import PromptTemplate\n",
    "from langchain_core.output_parsers import JsonOutputParser\n",
    "\n",
    "from generator.parsers import OutlineParser\n",
    "\n",
    "prompt = PromptTemplate(\n",
    "    input_variables=['setting'],\n",
    "    template=OUTLINE_GENERATION_PROMPT,\n",
    "    template_format='jinja2'\n",
    ")\n",
    "\n",
    "parser = JsonOutputParser() # OutlineParser\n",
    "\n",
    "chain = prompt | model | parser\n",
    "\n",
    "outline = chain.invoke({'setting': outline_text.content})\n",
    "\n"
   ]
  },
  {
   "cell_type": "code",
   "execution_count": null,
   "metadata": {},
   "outputs": [],
   "source": [
    "outline"
   ]
  },
  {
   "cell_type": "code",
   "execution_count": null,
   "metadata": {},
   "outputs": [],
   "source": [
    "\n",
    "# prompt = PromptTemplate(\n",
    "#     input_variables=[\"setting\", \"location\", \"characters\", \"items\"],\n",
    "#     template=LOCATION_EXPANSION_PROMPT,\n",
    "#     template_format='jinja2'\n",
    "# )\n",
    "\n",
    "# parser = JsonOutputParser()\n",
    "\n",
    "# chain = prompt | model | parser\n",
    "\n",
    "# for location in outline.locations:\n",
    "\n",
    "#     res = chain.invoke({\"setting\": setting,\n",
    "#                         \"location\": location,\n",
    "#                         \"characters\": outline.characters,\n",
    "#                         \"items\": outline.items })\n",
    "\n",
    "#     print('----*----')\n",
    "#     print(res)\n",
    "#     print('----*----')"
   ]
  }
 ],
 "metadata": {
  "kernelspec": {
   "display_name": ".venv",
   "language": "python",
   "name": "python3"
  },
  "language_info": {
   "codemirror_mode": {
    "name": "ipython",
    "version": 3
   },
   "file_extension": ".py",
   "mimetype": "text/x-python",
   "name": "python",
   "nbconvert_exporter": "python",
   "pygments_lexer": "ipython3",
   "version": "3.12.5"
  }
 },
 "nbformat": 4,
 "nbformat_minor": 2
}
